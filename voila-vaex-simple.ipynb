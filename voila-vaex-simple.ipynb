{
 "cells": [
  {
   "cell_type": "code",
   "execution_count": null,
   "metadata": {},
   "outputs": [],
   "source": [
    "%matplotlib inline"
   ]
  },
  {
   "cell_type": "code",
   "execution_count": null,
   "metadata": {},
   "outputs": [],
   "source": [
    "%load_ext autoreload\n",
    "%autoreload 2\n",
    "import warnings; warnings.simplefilter('ignore')"
   ]
  },
  {
   "cell_type": "markdown",
   "metadata": {},
   "source": [
    "# Gaia data visualization using voila and vaex\n",
    "This small voila dashboard shown the basics of building a dashboard using:\n",
    " * <a href=\"https://gea.esac.esa.int/archive/\">Gaia</a> dataset, crossmatched to the <a href=\"https://panstarrs.stsci.edu/\">Pan-STARRS</a> dataset.\n",
    " * <a href=\"https://github.com/QuantStack/voila\">voila</a>\n",
    " * [ipywidgets](https://ipywidgets.readthedocs.io/)"
   ]
  },
  {
   "cell_type": "code",
   "execution_count": null,
   "metadata": {},
   "outputs": [],
   "source": [
    "import ipywidgets as widgets\n",
    "import matplotlib.pylab as plt\n",
    "import vaex\n",
    "import vaex.jupyter\n",
    "import numpy as np\n"
   ]
  },
  {
   "cell_type": "code",
   "execution_count": null,
   "metadata": {},
   "outputs": [],
   "source": [
    "# Uncomment to access the data via S3\n",
    "\n",
    "import getpass\n",
    "profile_name = 'stsci' if getpass.getuser() == 'maartenbreddels' else 'default'\n",
    "\n",
    "df = vaex.open(f's3://astrosurveydata/gaia_ps1_nochunk.hdf5?profile_name={profile_name}')\n",
    "# df = df[:20_000_000] if you want to experiment quickly with a smaller subset"
   ]
  },
  {
   "cell_type": "code",
   "execution_count": null,
   "metadata": {},
   "outputs": [],
   "source": [
    "print(f'The full dataset contains {len(df):,} stars')"
   ]
  },
  {
   "cell_type": "code",
   "execution_count": null,
   "metadata": {},
   "outputs": [],
   "source": [
    "columns_all = df.get_column_names()\n",
    "columns_colors = [col for col in columns_all if \"mean_mag\" in col ]\n",
    "print(\"We found the following photometry columns in the Gaia dataset:\\n\\t\" + \"\\n\\t\".join(columns_colors))"
   ]
  },
  {
   "cell_type": "code",
   "execution_count": null,
   "metadata": {},
   "outputs": [],
   "source": [
    "df['distance'] = 1/df.parallax\n",
    "df['M_g'] = df.phot_g_mean_mag - 5 * np.log10(df.distance) - 10"
   ]
  },
  {
   "cell_type": "markdown",
   "metadata": {},
   "source": [
    "# Filtering the data\n",
    "We take only a subset of the data, where $\\varpi \\over \\sigma_\\varpi > 5$, meaning we cut out negative distances, and very uncertain distances."
   ]
  },
  {
   "cell_type": "code",
   "execution_count": null,
   "metadata": {},
   "outputs": [],
   "source": [
    "# Filter the dataset, ignore negative or very uncertain distances\n",
    "df = df[df.parallax_over_error>5] \n",
    "print(f'The filtered dataset contains {len(df):,} stars')"
   ]
  },
  {
   "cell_type": "markdown",
   "metadata": {},
   "source": [
    "# Interactive Hertzsprung Russell\n",
    "Below, we show an [Hertzsprung Russell](https://en.wikipedia.org/wiki/Hertzsprung%E2%80%93Russell_diagram) where you can choose the colors, an extra expression to filter by, or decide to plot the log density or just density."
   ]
  },
  {
   "cell_type": "code",
   "execution_count": null,
   "metadata": {},
   "outputs": [],
   "source": [
    "default_filter = \"distance < 10\""
   ]
  },
  {
   "cell_type": "code",
   "execution_count": null,
   "metadata": {},
   "outputs": [],
   "source": [
    "@widgets.interact_manual(magnitude1=columns_colors, magnitude2=columns_colors)\n",
    "def plot(magnitude1=columns_colors[1], magnitude2=columns_colors[0], log=True, extra_filter=default_filter):\n",
    "    # validat filter\n",
    "    try:\n",
    "        df.validate_expression(extra_filter)\n",
    "    except Exception as e:\n",
    "        print(\"oops, invalid expression: \" +str(e))\n",
    "        return\n",
    "    \n",
    "    # filter data\n",
    "    extra_filter = df[extra_filter]  # we convert the string to an vaex (boolean) expression\n",
    "    dff = df[extra_filter]  # passing the boolean expression to filter the dataset even more\n",
    "\n",
    "    color = dff[magnitude2] - dff[magnitude1]\n",
    "    limits_color = dff.limits_percentage(str(color), percentage=99)\n",
    "    dff.plot(color, df.M_g, limits=[limits_color, [20, -7]], shape=128, f=\"log\" if log else \"identity\")\n",
    "    plt.title(f'This plot contains {len(dff):,} stars')\n",
    "    plt.show()"
   ]
  },
  {
   "cell_type": "code",
   "execution_count": null,
   "metadata": {},
   "outputs": [],
   "source": [
    "# Manually trigger the first time\n",
    "plot.widget.children[-2].click()\n"
   ]
  },
  {
   "cell_type": "markdown",
   "metadata": {},
   "source": [
    "_(Note that there currently is a bug in voila that causes the old plot to stay on the page)_"
   ]
  },
  {
   "cell_type": "code",
   "execution_count": null,
   "metadata": {},
   "outputs": [],
   "source": []
  },
  {
   "cell_type": "code",
   "execution_count": null,
   "metadata": {},
   "outputs": [],
   "source": []
  }
 ],
 "metadata": {
  "kernelspec": {
   "display_name": "Python 3",
   "language": "python",
   "name": "python3"
  },
  "language_info": {
   "codemirror_mode": {
    "name": "ipython",
    "version": 3
   },
   "file_extension": ".py",
   "mimetype": "text/x-python",
   "name": "python",
   "nbconvert_exporter": "python",
   "pygments_lexer": "ipython3",
   "version": "3.6.7"
  }
 },
 "nbformat": 4,
 "nbformat_minor": 2
}
