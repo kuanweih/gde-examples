{
 "cells": [
  {
   "cell_type": "code",
   "execution_count": 1,
   "metadata": {},
   "outputs": [],
   "source": [
    "%matplotlib inline"
   ]
  },
  {
   "cell_type": "code",
   "execution_count": 2,
   "metadata": {},
   "outputs": [],
   "source": [
    "%load_ext autoreload\n",
    "%autoreload 2\n",
    "import warnings; warnings.simplefilter('ignore')"
   ]
  },
  {
   "cell_type": "markdown",
   "metadata": {},
   "source": [
    "# Gaia data visualization using voila and vaex\n",
    "This small voila dashboard shown the basics of building a dashboard using:\n",
    " * <a href=\"https://gea.esac.esa.int/archive/\">Gaia</a> dataset, crossmatched to the <a href=\"https://panstarrs.stsci.edu/\">Pan-STARRS</a> dataset.\n",
    " * <a href=\"https://github.com/QuantStack/voila\">voila</a>\n",
    " * [ipywidgets](https://ipywidgets.readthedocs.io/)"
   ]
  },
  {
   "cell_type": "code",
   "execution_count": 3,
   "metadata": {},
   "outputs": [],
   "source": [
    "import ipywidgets as widgets\n",
    "import matplotlib.pylab as plt\n",
    "import vaex\n",
    "import vaex.jupyter\n",
    "import numpy as np\n",
    "import getpass\n"
   ]
  },
  {
   "cell_type": "code",
   "execution_count": 4,
   "metadata": {},
   "outputs": [],
   "source": [
    "powerful_machine = True\n",
    "if powerful_machine:\n",
    "    # If we are on a powerful machine, we can download and process the data locally\n",
    "    profile_name = 'stsci' if getpass.getuser() == 'maartenbreddels' else 'default'\n",
    "    df = vaex.open(f's3://astrosurveydata/gaia_ps1_nochunk.hdf5?profile_name={profile_name}')    \n",
    "else:\n",
    "    # otherwise we connect to the STScI Gaia machine (a remote dataframe)\n",
    "    with open('token.txt') as f:\n",
    "        token = f.read().strip()\n",
    "    df = vaex.open(f'ws://ec2-18-222-183-211.us-east-2.compute.amazonaws.com:9000/gaia_ps1_nochunk?token_trusted={token}')#[:10_000_000]"
   ]
  },
  {
   "cell_type": "code",
   "execution_count": 5,
   "metadata": {},
   "outputs": [],
   "source": [
    "# df = df[:20_000_000] # if you want to experiment quickly with a smaller subset"
   ]
  },
  {
   "cell_type": "code",
   "execution_count": 6,
   "metadata": {},
   "outputs": [
    {
     "name": "stdout",
     "output_type": "stream",
     "text": [
      "The full dataset contains 928,000,000 stars\n"
     ]
    }
   ],
   "source": [
    "print(f'The full dataset contains {len(df):,} stars')"
   ]
  },
  {
   "cell_type": "code",
   "execution_count": 7,
   "metadata": {},
   "outputs": [
    {
     "name": "stdout",
     "output_type": "stream",
     "text": [
      "We found the following photometry columns in the Gaia dataset:\n",
      "\tphot_bp_mean_mag\n",
      "\tphot_g_mean_mag\n",
      "\tphot_rp_mean_mag\n"
     ]
    }
   ],
   "source": [
    "columns_all = df.get_column_names()\n",
    "columns_colors = [col for col in columns_all if \"mean_mag\" in col ]\n",
    "print(\"We found the following photometry columns in the Gaia dataset:\\n\\t\" + \"\\n\\t\".join(columns_colors))"
   ]
  },
  {
   "cell_type": "code",
   "execution_count": 8,
   "metadata": {},
   "outputs": [],
   "source": [
    "df['distance'] = 1/df.parallax\n",
    "df['M_g'] = df.phot_g_mean_mag - 5 * np.log10(df.distance) - 10"
   ]
  },
  {
   "cell_type": "markdown",
   "metadata": {},
   "source": [
    "# Filtering the data\n",
    "We take only a subset of the data, where $\\varpi \\over \\sigma_\\varpi > 5$, meaning we cut out negative distances, and very uncertain distances."
   ]
  },
  {
   "cell_type": "code",
   "execution_count": 9,
   "metadata": {},
   "outputs": [
    {
     "name": "stdout",
     "output_type": "stream",
     "text": [
      "The filtered dataset contains 93,458,483 stars\n"
     ]
    }
   ],
   "source": [
    "# Filter the dataset, ignore negative or very uncertain distances\n",
    "df = df[df.parallax_over_error>5] \n",
    "print(f'The filtered dataset contains {len(df):,} stars')"
   ]
  },
  {
   "cell_type": "markdown",
   "metadata": {},
   "source": [
    "# Interactive Hertzsprung Russell\n",
    "Below, we show an [Hertzsprung Russell](https://en.wikipedia.org/wiki/Hertzsprung%E2%80%93Russell_diagram) where you can choose the colors, an extra expression to filter by, or decide to plot the log density or just density."
   ]
  },
  {
   "cell_type": "code",
   "execution_count": 10,
   "metadata": {},
   "outputs": [],
   "source": [
    "extra_filter = \"distance < 10\"\n",
    "df.select(extra_filter)"
   ]
  },
  {
   "cell_type": "code",
   "execution_count": 11,
   "metadata": {},
   "outputs": [
    {
     "data": {
      "application/vnd.jupyter.widget-view+json": {
       "model_id": "3c9c6f192a3a4c3586b73217ac914c89",
       "version_major": 2,
       "version_minor": 0
      },
      "text/plain": [
       "interactive(children=(Dropdown(description='magnitude1', index=1, options=('phot_bp_mean_mag', 'phot_g_mean_ma…"
      ]
     },
     "metadata": {},
     "output_type": "display_data"
    }
   ],
   "source": [
    "limits_color = [-1, 4]\n",
    "last_filter = extra_filter\n",
    "\n",
    "@widgets.interact_manual(magnitude1=columns_colors, magnitude2=columns_colors)\n",
    "def plot(magnitude1=columns_colors[1], magnitude2=columns_colors[0], log=True, extra_filter=extra_filter):\n",
    "    global last_filter\n",
    "    try:\n",
    "        df.validate_expression(extra_filter)\n",
    "    except Exception as e:\n",
    "        print(\"oops, invalid expression: \" +str(e))\n",
    "        return\n",
    "    \n",
    "    # a performance trick, if we do not change the selection\n",
    "    # vaex will use the selection cache\n",
    "    if extra_filter != last_filter:\n",
    "        df.select(extra_filter)\n",
    "    last_filter = extra_filter\n",
    "\n",
    "    color = df[magnitude2] - df[magnitude1]\n",
    "    # instead of calling plot, we call count manually, so we can count the number\n",
    "    # of stars in the plot.\n",
    "    counts = df.count(binby=[color, df.M_g], limits=[limits_color, [20, -7]], shape=128,\n",
    "                        selection=True)\n",
    "    df.plot(color, df.M_g, limits=[limits_color, [20, -7]], shape=128,\n",
    "             f=\"log\" if log else \"identity\", grid=counts)\n",
    "    N = counts.sum()\n",
    "    plt.title(f'This plot contains {N:,} stars')\n",
    "    plt.show()"
   ]
  },
  {
   "cell_type": "code",
   "execution_count": 12,
   "metadata": {},
   "outputs": [],
   "source": [
    "# Manually trigger the first time\n",
    "plot.widget.children[-2].click()"
   ]
  },
  {
   "cell_type": "markdown",
   "metadata": {},
   "source": [
    "_(Note that there currently is a bug in voila that causes the old plot to stay on the page)_"
   ]
  }
 ],
 "metadata": {
  "kernelspec": {
   "display_name": "Python 3",
   "language": "python",
   "name": "python3"
  },
  "language_info": {
   "codemirror_mode": {
    "name": "ipython",
    "version": 3
   },
   "file_extension": ".py",
   "mimetype": "text/x-python",
   "name": "python",
   "nbconvert_exporter": "python",
   "pygments_lexer": "ipython3",
   "version": "3.6.7"
  }
 },
 "nbformat": 4,
 "nbformat_minor": 2
}
