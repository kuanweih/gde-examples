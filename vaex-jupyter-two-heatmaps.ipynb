{
 "cells": [
  {
   "cell_type": "markdown",
   "metadata": {},
   "source": [
    "Requirements:\n",
    "```\n",
    "pip install vaex-jupyter==0.5.1 vaex-server==0.3.1\n",
    "```"
   ]
  },
  {
   "cell_type": "code",
   "execution_count": null,
   "metadata": {
    "ExecuteTime": {
     "end_time": "2020-06-04T13:54:46.036644Z",
     "start_time": "2020-06-04T13:54:46.033822Z"
    }
   },
   "outputs": [],
   "source": [
    "import os\n",
    "\n",
    "import vaex\n",
    "import numpy as np\n",
    "import ipyvuetify as v"
   ]
  },
  {
   "cell_type": "markdown",
   "metadata": {},
   "source": [
    "We will use the remote dataframe:"
   ]
  },
  {
   "cell_type": "code",
   "execution_count": null,
   "metadata": {
    "ExecuteTime": {
     "end_time": "2020-06-04T18:38:22.472706Z",
     "start_time": "2020-06-04T18:38:21.710031Z"
    }
   },
   "outputs": [],
   "source": [
    "powerful_machine = False\n",
    "if powerful_machine:\n",
    "    # If we are on a powerful machine, we can download and process the data locally\n",
    "    profile_name = 'stsci' if getpass.getuser() == 'maartenbreddels' else 'default'\n",
    "    df = vaex.open(f's3://astrosurveydata/gaia_ps1_nochunk.hdf5?profile_name={profile_name}')\n",
    "else:\n",
    "    # otherwise we connect to the STScI Gaia machine (a remote dataframe)\n",
    "#     # it seems from mybinder we cannot reach this machine\n",
    "#     path = 'ws://ec2-18-222-183-211.us-east-2.compute.amazonaws.com:9000/gaia_ps1_nochunk'\n",
    "#     if os.path.exists('token_trusted.txt'):\n",
    "#         with open('token_trusted.txt') as f:\n",
    "#             token_trusted = f.read().strip()\n",
    "#             path += f'?token_trusted={token_trusted}'\n",
    "#     elif os.path.exists('token.txt'):\n",
    "#         with open('token.txt') as f:\n",
    "#             token = f.read().strip()\n",
    "#             path += f'?token={token}'\n",
    "    path = 'vaex+ws://dataframe.vaex.io/gaia_ps1_nochunk'\n",
    "    df = vaex.open(path)\n",
    "df"
   ]
  },
  {
   "cell_type": "code",
   "execution_count": null,
   "metadata": {
    "ExecuteTime": {
     "end_time": "2020-06-04T18:38:24.165048Z",
     "start_time": "2020-06-04T18:38:23.891205Z"
    }
   },
   "outputs": [],
   "source": [
    "df = df[:100_000_000]  # take a subset to make it faster"
   ]
  },
  {
   "cell_type": "markdown",
   "metadata": {},
   "source": [
    "# Initialization\n",
    "Set up some variables, and add a few columns"
   ]
  },
  {
   "cell_type": "code",
   "execution_count": null,
   "metadata": {
    "ExecuteTime": {
     "end_time": "2020-06-04T18:38:26.660544Z",
     "start_time": "2020-06-04T18:38:26.545920Z"
    }
   },
   "outputs": [],
   "source": [
    "limits_l = [360, 0]\n",
    "limits_b = [-90, 90]\n",
    "\n",
    "color = df.phot_bp_mean_mag - df.phot_g_mean_mag\n",
    "df['distance'] = 1/df.parallax\n",
    "df['M_g'] = df.phot_g_mean_mag - 5 * np.log10(df.distance) - 10\n",
    "magnitude = df.M_g\n",
    "limits_color = [-0.5, 1.5]\n",
    "limits_magnitude = [22, -10]\n",
    "df['magnitude'] = magnitude\n",
    "df['color'] = color\n",
    "\n",
    "aux = df.phot_g_mean_mag\n",
    "limits_aux = [5, 23]\n",
    "shape_aux = 100\n",
    "limits_l = [360, 0]\n",
    "limits_b = [-90, 90]\n",
    "\n",
    "# make a first selection\n",
    "# df.select(df.distance < 10)\n",
    "df.select(df.color < 1)"
   ]
  },
  {
   "cell_type": "markdown",
   "metadata": {
    "ExecuteTime": {
     "end_time": "2020-06-04T13:56:37.858707Z",
     "start_time": "2020-06-04T13:56:37.855830Z"
    }
   },
   "source": [
    "# Heatmap 1\n",
    "Our first heatmap is a CMD"
   ]
  },
  {
   "cell_type": "code",
   "execution_count": null,
   "metadata": {
    "ExecuteTime": {
     "end_time": "2020-06-04T18:38:29.519914Z",
     "start_time": "2020-06-04T18:38:28.927733Z"
    }
   },
   "outputs": [],
   "source": [
    "heatmap_cmd = df.widget.heatmap(df.color, df.magnitude,\n",
    "                                limits=[limits_color, limits_magnitude],\n",
    "                                selections=[None, 'default'])\n",
    "heatmap_cmd"
   ]
  },
  {
   "cell_type": "markdown",
   "metadata": {},
   "source": [
    "Where the x and y axis can be chosen by the user."
   ]
  },
  {
   "cell_type": "code",
   "execution_count": null,
   "metadata": {
    "ExecuteTime": {
     "end_time": "2020-06-04T13:58:40.652587Z",
     "start_time": "2020-06-04T13:58:40.631457Z"
    }
   },
   "outputs": [],
   "source": [
    "x_widget = df.widget.column(heatmap_cmd.model.x, label='X axis')\n",
    "y_widget = df.widget.column(heatmap_cmd.model.y, label='Y axis')"
   ]
  },
  {
   "cell_type": "markdown",
   "metadata": {},
   "source": [
    "And we put it into a nice container."
   ]
  },
  {
   "cell_type": "code",
   "execution_count": null,
   "metadata": {
    "ExecuteTime": {
     "end_time": "2020-06-04T13:59:11.867430Z",
     "start_time": "2020-06-04T13:59:10.209747Z"
    }
   },
   "outputs": [],
   "source": [
    "card1 = vaex.jupyter.widgets.ContainerCard(title='Heatmap 1',\n",
    "              main=heatmap_cmd,\n",
    "              controls=[x_widget, y_widget],\n",
    "              show_controls=True,\n",
    "              card_props={'style': 'min-width: 350px;'})\n",
    "card1"
   ]
  },
  {
   "cell_type": "code",
   "execution_count": null,
   "metadata": {
    "ExecuteTime": {
     "end_time": "2020-06-04T14:00:10.702175Z",
     "start_time": "2020-06-04T14:00:10.695951Z"
    }
   },
   "outputs": [],
   "source": [
    "# It shouldn't be needed to wait for the first plot to finish\n",
    "# However, it sometimes hangs the 2nd heatmap, needs to be fixed!\n",
    "await vaex.jupyter.gather()"
   ]
  },
  {
   "cell_type": "markdown",
   "metadata": {
    "ExecuteTime": {
     "end_time": "2020-06-04T12:48:28.363321Z",
     "start_time": "2020-06-04T12:48:28.359904Z"
    }
   },
   "source": [
    "# Heatmap 2\n",
    "Our second heatmap always shows the sky."
   ]
  },
  {
   "cell_type": "code",
   "execution_count": null,
   "metadata": {
    "ExecuteTime": {
     "end_time": "2020-06-04T14:01:11.389936Z",
     "start_time": "2020-06-04T14:01:11.271605Z"
    }
   },
   "outputs": [],
   "source": [
    "heatmap_sky = df.widget.heatmap(df.l, df.b, limits=[limits_l, limits_b], selection=[None, 'default'])\n",
    "heatmap_sky"
   ]
  },
  {
   "cell_type": "markdown",
   "metadata": {},
   "source": [
    "Again, shown in a card."
   ]
  },
  {
   "cell_type": "code",
   "execution_count": null,
   "metadata": {
    "ExecuteTime": {
     "end_time": "2020-06-04T14:01:37.867466Z",
     "start_time": "2020-06-04T14:01:37.849281Z"
    }
   },
   "outputs": [],
   "source": [
    "card2 = vaex.jupyter.widgets.ContainerCard(title='Heatmap 2',\n",
    "              main=heatmap_sky,\n",
    "              controls=[],\n",
    "              show_controls=False,\n",
    "              card_props={'style': 'min-width: 350px;'})\n",
    "card2"
   ]
  },
  {
   "cell_type": "markdown",
   "metadata": {},
   "source": [
    "# Custom selection widget\n",
    "To allow for arbitrary selections, we create a widget to edit the selection."
   ]
  },
  {
   "cell_type": "code",
   "execution_count": null,
   "metadata": {
    "ExecuteTime": {
     "end_time": "2020-06-04T14:02:27.715020Z",
     "start_time": "2020-06-04T14:02:27.431896Z"
    }
   },
   "outputs": [],
   "source": [
    "widget_selection_expression = df.widget.selection_expression()"
   ]
  },
  {
   "cell_type": "code",
   "execution_count": null,
   "metadata": {
    "ExecuteTime": {
     "end_time": "2020-06-04T14:02:32.260068Z",
     "start_time": "2020-06-04T14:02:32.246199Z"
    }
   },
   "outputs": [],
   "source": [
    "card3 = vaex.jupyter.widgets.ContainerCard(title='Custom selection',\n",
    "              main=widget_selection_expression,\n",
    "              controls=[],\n",
    "              show_controls=False,\n",
    "              card_props={'style': 'min-width: 300px;'}\n",
    ")\n",
    "card3"
   ]
  },
  {
   "cell_type": "markdown",
   "metadata": {},
   "source": [
    "# Voila-vuetify\n",
    "This part is only used for voila-vuetify, where the mount_id specify where the widgets are placed.\n",
    "Run as:\n",
    "```\n",
    "$ voila --enable_nbextensions=True --template vuetify-default ~/src/maartenbreddels/gde-examples/gaia-voila-vaex-jupyter-simple.ipynb\n",
    "```"
   ]
  },
  {
   "cell_type": "code",
   "execution_count": null,
   "metadata": {
    "ExecuteTime": {
     "end_time": "2020-06-04T14:04:26.271011Z",
     "start_time": "2020-06-04T14:04:24.472721Z"
    }
   },
   "outputs": [],
   "source": [
    "# all cards are 12 columns wide on small screen, 6 on medium, 4 or large\n",
    "# see https://vuetifyjs.com/en/components/grids/#grid-system\n",
    "v.Container(fluid=True, _metadata={'mount_id': 'content-main'}, children=[\n",
    "    v.Row(children=[\n",
    "        v.Col(lg=4, md=6, sm=12, children=[\n",
    "            card1\n",
    "        ]),\n",
    "        v.Col(lg=4, md=6, sm=12, children=[\n",
    "            card2\n",
    "        ]),\n",
    "        v.Col(lg=4, md=6, sm=12, children=[\n",
    "            card3\n",
    "        ]),\n",
    "    ])\n",
    "])"
   ]
  },
  {
   "cell_type": "markdown",
   "metadata": {},
   "source": [
    "The column list goes into the navigation panel"
   ]
  },
  {
   "cell_type": "code",
   "execution_count": null,
   "metadata": {},
   "outputs": [],
   "source": [
    "column_list = vaex.jupyter.widgets.ColumnList(df=df, _metadata={'mount_id': 'content-nav'}, )\n",
    "column_list"
   ]
  }
 ],
 "metadata": {
  "kernelspec": {
   "display_name": "Python 3",
   "language": "python",
   "name": "python3"
  },
  "language_info": {
   "codemirror_mode": {
    "name": "ipython",
    "version": 3
   },
   "file_extension": ".py",
   "mimetype": "text/x-python",
   "name": "python",
   "nbconvert_exporter": "python",
   "pygments_lexer": "ipython3",
   "version": "3.7.3"
  }
 },
 "nbformat": 4,
 "nbformat_minor": 4
}
