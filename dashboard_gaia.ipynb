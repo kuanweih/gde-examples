{
 "cells": [
  {
   "cell_type": "code",
   "execution_count": null,
   "metadata": {},
   "outputs": [],
   "source": [
    "import warnings\n",
    "warnings.simplefilter('ignore')"
   ]
  },
  {
   "cell_type": "code",
   "execution_count": null,
   "metadata": {},
   "outputs": [],
   "source": [
    "%matplotlib widget"
   ]
  },
  {
   "cell_type": "code",
   "execution_count": null,
   "metadata": {},
   "outputs": [],
   "source": [
    "import ipympl\n",
    "import matplotlib\n",
    "import matplotlib.pylab as plt"
   ]
  },
  {
   "cell_type": "code",
   "execution_count": null,
   "metadata": {},
   "outputs": [],
   "source": [
    "import vaex\n",
    "import vaex.jupyter\n",
    "import ipywidgets as widgets"
   ]
  },
  {
   "cell_type": "code",
   "execution_count": null,
   "metadata": {},
   "outputs": [],
   "source": [
    "import sys\n",
    "import os"
   ]
  },
  {
   "cell_type": "code",
   "execution_count": null,
   "metadata": {},
   "outputs": [],
   "source": [
    "use_s3 = os.environ.get('USE_S3', '') == '1'\n",
    "if use_s3:\n",
    "    df = vaex.open('s3://astrosurveydata/gaia_ps1_nochunk.hdf5?cache=true')\n",
    "else:\n",
    "    with open('vaex_token_trusted.txt') as f:\n",
    "        token = f.read().strip()\n",
    "    df = vaex.open(f'ws://ec2-18-222-183-211.us-east-2.compute.amazonaws.com:9000/gaia_ps1_nochunk?token_trusted={token}')[:1_000_000]"
   ]
  },
  {
   "cell_type": "code",
   "execution_count": null,
   "metadata": {},
   "outputs": [],
   "source": [
    "# df[:]"
   ]
  },
  {
   "cell_type": "code",
   "execution_count": null,
   "metadata": {},
   "outputs": [],
   "source": []
  },
  {
   "cell_type": "code",
   "execution_count": null,
   "metadata": {},
   "outputs": [],
   "source": [
    "limits_g = [12, 22]\n",
    "shape_g = 100"
   ]
  },
  {
   "cell_type": "code",
   "execution_count": null,
   "metadata": {},
   "outputs": [],
   "source": [
    "# df.select(df.phot_g_mean_mag==df.phot_g_mean_mag, name='visual')\n",
    "# df.select(df.phot_g_mean_mag==df.phot_g_mean_mag, name='custom')\n",
    "# df.select('visual & custom')"
   ]
  },
  {
   "cell_type": "code",
   "execution_count": null,
   "metadata": {},
   "outputs": [],
   "source": [
    "use_visual_filter = use_expression_filter = True\n",
    "visual_filter = (df.phot_g_mean_mag >= 18) & (df.phot_g_mean_mag <= 19)\n",
    "custom_filter = None"
   ]
  },
  {
   "cell_type": "code",
   "execution_count": null,
   "metadata": {},
   "outputs": [],
   "source": [
    "# plt.ioff()\n",
    "plt.ion()"
   ]
  },
  {
   "cell_type": "code",
   "execution_count": null,
   "metadata": {},
   "outputs": [],
   "source": [
    "limits_l = [360, 0]\n",
    "limits_b = [-90, 90]\n",
    "fig_sky = plt.figure()\n",
    "ax_sky = plt.gca()\n",
    "\n",
    "# see https://github.com/matplotlib/jupyter-matplotlib/issues/127\n",
    "fig_sky.canvas.layout.min_width = '200px'\n",
    "fig_sky.canvas.layout.min_height = '200px'\n",
    "\n",
    "df.plot(df.l, df.b, limits=[limits_l, limits_b]);"
   ]
  },
  {
   "cell_type": "code",
   "execution_count": null,
   "metadata": {},
   "outputs": [],
   "source": [
    "limits_l, limits_b"
   ]
  },
  {
   "cell_type": "code",
   "execution_count": null,
   "metadata": {},
   "outputs": [],
   "source": [
    "# based on https://stackoverflow.com/questions/31490436/matplotlib-finding-out-xlim-and-ylim-after-zoom\n",
    "def on_xlims_change(axes):\n",
    "    global limits_l\n",
    "    print('x change')\n",
    "    limits_l = ax_sky.get_xlim()\n",
    "    update_plots()\n",
    "ax_sky.callbacks.connect('xlim_changed', on_xlims_change)\n",
    "\n",
    "def on_ylims_change(axes):\n",
    "    global limits_b\n",
    "    print('y change')\n",
    "    limits_b = ax_sky.get_ylim()\n",
    "    update_plots()\n",
    "ax_sky.callbacks.connect('ylim_changed', on_ylims_change);"
   ]
  },
  {
   "cell_type": "code",
   "execution_count": null,
   "metadata": {},
   "outputs": [],
   "source": [
    "ax_sky"
   ]
  },
  {
   "cell_type": "code",
   "execution_count": null,
   "metadata": {},
   "outputs": [],
   "source": [
    "fig_sky.gca()"
   ]
  },
  {
   "cell_type": "code",
   "execution_count": null,
   "metadata": {},
   "outputs": [],
   "source": [
    "ax_sky.get_xlim()"
   ]
  },
  {
   "cell_type": "code",
   "execution_count": null,
   "metadata": {
    "scrolled": false
   },
   "outputs": [],
   "source": [
    "fig_mag = plt.figure()\n",
    "# see https://github.com/matplotlib/jupyter-matplotlib/issues/127\n",
    "fig_mag.canvas.layout.min_width = '200px'\n",
    "fig_mag.canvas.layout.min_height = '200px'\n",
    "plt.title('Select a G mag range')\n",
    "artists_mag = df.plot1d(df.phot_g_mean_mag, limits=limits_g, shape=shape_g)\n",
    "fig_mag.canvas.toolbar_visible = False\n",
    "def f(vmin, vmax):\n",
    "    global visual_filter\n",
    "    values = [vmin, vmax]\n",
    "    vmin, vmax = min(values), max(values)\n",
    "    visual_filter = (df.phot_g_mean_mag >= vmin) & (df.phot_g_mean_mag <= vmax)\n",
    "    update_plots()\n",
    "axes = fig_mag.axes[0]\n",
    "mpl_widget = matplotlib.widgets.SpanSelector(axes, f, 'horizontal', useblit=True)"
   ]
  },
  {
   "cell_type": "code",
   "execution_count": null,
   "metadata": {},
   "outputs": [],
   "source": [
    "progress = widgets.FloatProgress(min=0, max=1, description='done')\n",
    "progress"
   ]
  },
  {
   "cell_type": "code",
   "execution_count": null,
   "metadata": {},
   "outputs": [],
   "source": [
    "def update_progress(value):\n",
    "    progress.value = value"
   ]
  },
  {
   "cell_type": "code",
   "execution_count": null,
   "metadata": {},
   "outputs": [],
   "source": []
  },
  {
   "cell_type": "code",
   "execution_count": null,
   "metadata": {},
   "outputs": [],
   "source": [
    "# @vaex.jupyter.utils.interactive_selection(df)\n",
    "\n",
    "@vaex.jupyter.debounced(0.5)\n",
    "def update_plots():\n",
    "    global mpl_widget  # if we don't keep a global ref to this widget, it gets garbage collected\n",
    "    print('update')\n",
    "    \n",
    "    plt.figure(fig_mag.number)\n",
    "    plt.clf()\n",
    "    plt.title('Select a G mag range')\n",
    "    progress.description = 'mag'\n",
    "    artists = df.plot1d(df.phot_g_mean_mag, limits=limits_g, shape=shape_g, progress=update_progress)\n",
    "    artists_mag.extend(artists)\n",
    "    dff = df\n",
    "    if visual_filter and use_visual_filter:\n",
    "        dff = dff[visual_filter]\n",
    "    if custom_filter and use_expression_filter:\n",
    "        dff = dff[custom_filter]\n",
    "    progress.description = 'mag filtered'\n",
    "    dff.plot1d(dff.phot_g_mean_mag, limits=limits_g, shape=shape_g, color='green', progress=update_progress)\n",
    "    plt.draw()\n",
    "    # since we clear the figure, we also need to recreate the selector widget\n",
    "    axes = fig_mag.axes[0]\n",
    "    mpl_widget = matplotlib.widgets.SpanSelector(axes, f, 'horizontal', useblit=True)\n",
    "\n",
    "    plt.figure(fig_sky.number)   \n",
    "    fig_sky.axes[1].remove()  # remove colorbar\n",
    "    plt.sca(ax_sky)\n",
    "    ax_sky.clear()\n",
    "\n",
    "    if visual_filter is not None or custom_filter is not None:\n",
    "        progress.description = 'sky ref'\n",
    "        count_ref = df.count(binby=[df.l, df.b], limits=[limits_l, limits_b], progress=update_progress)\n",
    "        progress.description = 'sky filtered'\n",
    "        count_filter = dff.count(binby=[dff.l, dff.b], limits=[limits_l, limits_b], progress=update_progress)\n",
    "        ratio = count_filter / count_ref\n",
    "        df.plot(df.l, df.b, grid=ratio, limits=[limits_l, limits_b])\n",
    "    else:\n",
    "        df.plot(df.l, df.b, limits=[limits_l, limits_b])\n",
    "\n",
    "    progress.description = 'done'\n",
    "    # since we clear the figure, we also need to reconnect to the axes events\n",
    "#     listen_to_sky_axes()\n",
    "    plt.draw()\n",
    "\n",
    "update_plots()"
   ]
  },
  {
   "cell_type": "code",
   "execution_count": null,
   "metadata": {},
   "outputs": [],
   "source": [
    "default_custom_selection = \"\"\"(phot_g_mean_mag > 10) &\\\\\n",
    "(phot_g_mean_mag < 100)\n",
    "\"\"\""
   ]
  },
  {
   "cell_type": "code",
   "execution_count": null,
   "metadata": {},
   "outputs": [],
   "source": [
    "\n",
    "custom_selection_widget = widgets.Textarea(description='Selection', value=default_custom_selection)\n",
    "custom_selection_widget.layout.width = '800px'\n",
    "custom_selection_widget.layout.height = '200px'\n",
    "custom_selection_widget"
   ]
  },
  {
   "cell_type": "code",
   "execution_count": null,
   "metadata": {},
   "outputs": [],
   "source": []
  },
  {
   "cell_type": "code",
   "execution_count": null,
   "metadata": {},
   "outputs": [],
   "source": [
    "error_msg_widget = widgets.HTML()\n",
    "error_msg_widget"
   ]
  },
  {
   "cell_type": "code",
   "execution_count": null,
   "metadata": {},
   "outputs": [],
   "source": [
    "def update_custom_selection(change):\n",
    "    global custom_filter\n",
    "    try:\n",
    "        df.validate_expression(change.new)\n",
    "    except Exception as e:\n",
    "        error_msg_widget.value = f'<span style=\"color: red;\">{e}</span>'\n",
    "    error_msg_widget.value = ''\n",
    "    custom_filter = df[change.new]\n",
    "    update_plots()\n",
    "custom_selection_widget.observe(update_custom_selection, 'value')"
   ]
  },
  {
   "cell_type": "code",
   "execution_count": null,
   "metadata": {},
   "outputs": [],
   "source": [
    "custom_selection_widget.continuous_update = True"
   ]
  },
  {
   "cell_type": "code",
   "execution_count": null,
   "metadata": {},
   "outputs": [],
   "source": [
    "import ipyvuetify as v"
   ]
  },
  {
   "cell_type": "code",
   "execution_count": null,
   "metadata": {},
   "outputs": [],
   "source": [
    "custom_selection_widget_vuetify = v.Textarea(v_model=default_custom_selection,\n",
    "                                             label=\"Filter by custom expression\",\n",
    "                                             prepend_icon='filter_list',\n",
    "                                             placeholder=\"e.g.: \\n\" + default_custom_selection)\n",
    "custom_selection_widget_vuetify"
   ]
  },
  {
   "cell_type": "code",
   "execution_count": null,
   "metadata": {},
   "outputs": [],
   "source": [
    "def update_custom_selection(change):\n",
    "    global custom_filter\n",
    "    try:\n",
    "        df.validate_expression(change.new)\n",
    "    except Exception as e:\n",
    "        tf.error_messages = str(e)\n",
    "        return\n",
    "    custom_selection_widget_vuetify.error_messages = None\n",
    "    custom_filter = df[change.new]\n",
    "    update_plots()\n",
    "custom_selection_widget_vuetify.observe(update_custom_selection, 'v_model')"
   ]
  },
  {
   "cell_type": "code",
   "execution_count": null,
   "metadata": {},
   "outputs": [],
   "source": []
  },
  {
   "cell_type": "code",
   "execution_count": null,
   "metadata": {},
   "outputs": [],
   "source": [
    "progress.layout.width = '95%'\n",
    "progress.style.bar_color = '#b3d4fc'"
   ]
  },
  {
   "cell_type": "code",
   "execution_count": null,
   "metadata": {},
   "outputs": [],
   "source": [
    "v.Layout(\n",
    "    _metadata={'mount_id': 'content-main'},\n",
    "    row=True, wrap=True, align_center=True, children=[\n",
    "    v.Flex(xs12=True, children=[\n",
    "        progress\n",
    "    ]),\n",
    "    v.Flex(xs12=True, lg6=True, children=[\n",
    "        widgets.VBox([fig_mag.canvas])\n",
    "    ]),\n",
    "    v.Flex(xs12=True, lg6=True, children=[\n",
    "        widgets.VBox([fig_sky.canvas])\n",
    "    ]),\n",
    "    v.Flex(xs12=True, lg6=True, children=[\n",
    "        custom_selection_widget_vuetify\n",
    "    ]),\n",
    "])\n"
   ]
  },
  {
   "cell_type": "code",
   "execution_count": null,
   "metadata": {},
   "outputs": [],
   "source": [
    "widget_use_visual_filter = v.Switch(label='Use visual filter', v_model=True)\n",
    "widget_use_expression_filter = v.Switch(label='Use expression filter', v_model=True)"
   ]
  },
  {
   "cell_type": "code",
   "execution_count": null,
   "metadata": {},
   "outputs": [],
   "source": [
    "v.Layout(\n",
    "    _metadata={'mount_id': 'content-nav'},\n",
    "    pa_2=True, column=True, children=[\n",
    "        widget_use_visual_filter,\n",
    "        widget_use_expression_filter\n",
    "    ]\n",
    ")\n"
   ]
  },
  {
   "cell_type": "code",
   "execution_count": null,
   "metadata": {},
   "outputs": [],
   "source": [
    "def toggle_use_filter(change):\n",
    "    global use_visual_filter, use_expression_filter\n",
    "    use_visual_filter = widget_use_visual_filter.v_model\n",
    "    use_expression_filter = widget_use_expression_filter.v_model\n",
    "    update_plots()\n",
    "widget_use_visual_filter.observe(toggle_use_filter, 'v_model')\n",
    "widget_use_expression_filter.observe(toggle_use_filter, 'v_model')"
   ]
  },
  {
   "cell_type": "code",
   "execution_count": null,
   "metadata": {},
   "outputs": [],
   "source": [
    "widget_use_expression_filter.v_model"
   ]
  },
  {
   "cell_type": "code",
   "execution_count": null,
   "metadata": {},
   "outputs": [],
   "source": []
  }
 ],
 "metadata": {
  "kernelspec": {
   "display_name": "Python 3",
   "language": "python",
   "name": "python3"
  },
  "language_info": {
   "codemirror_mode": {
    "name": "ipython",
    "version": 3
   },
   "file_extension": ".py",
   "mimetype": "text/x-python",
   "name": "python",
   "nbconvert_exporter": "python",
   "pygments_lexer": "ipython3",
   "version": "3.6.7"
  }
 },
 "nbformat": 4,
 "nbformat_minor": 2
}
