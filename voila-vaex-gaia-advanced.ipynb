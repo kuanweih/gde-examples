{
 "cells": [
  {
   "cell_type": "code",
   "execution_count": null,
   "metadata": {},
   "outputs": [],
   "source": [
    "%load_ext autoreload\n",
    "%autoreload 2\n",
    "import warnings; warnings.simplefilter('ignore')"
   ]
  },
  {
   "cell_type": "code",
   "execution_count": null,
   "metadata": {},
   "outputs": [],
   "source": [
    "import ipyvuetify as v\n",
    "import vaex.jupyter.widgets as vw\n",
    "import ipywidgets as widgets\n",
    "import vaex\n",
    "import vaex.jupyter\n",
    "import numpy as np\n",
    "import getpass\n",
    "\n",
    "colors = {\n",
    "    'primary': '#1976D2',\n",
    "    'secondary': '#424242',\n",
    "    'accent': '#82B1FF',\n",
    "    'error': '#FF5252',\n",
    "    'info': '#2196F3',\n",
    "    'success': '#4CAF50',\n",
    "    'warning': '#FFC107'\n",
    "}"
   ]
  },
  {
   "cell_type": "code",
   "execution_count": null,
   "metadata": {},
   "outputs": [],
   "source": [
    "# Uncomment to access the data via S3\n",
    "import vaex\n",
    "import getpass\n",
    "\n",
    "profile_name = 'stsci' if getpass.getuser() == 'maartenbreddels' else 'default'\n",
    "\n",
    "df = vaex.open(f's3://astrosurveydata/gaia_ps1_nochunk.hdf5?profile_name={profile_name}')\n",
    "# df = df[:20_000_000]\n",
    "topic = 'stars'\n",
    "default_custom_selection = str(df.parallax/df.parallax_error > 3)\n",
    "default_custom_selection"
   ]
  },
  {
   "cell_type": "code",
   "execution_count": null,
   "metadata": {},
   "outputs": [],
   "source": [
    "# import vaex\n",
    "# with open('token.txt') as f:\n",
    "#     token = f.read().strip()\n",
    "# df = vaex.open(f'ws://ec2-18-222-183-211.us-east-2.compute.amazonaws.com:9000/gaia_ps1_nochunk?token_trusted={token}')#[:10_000_000]"
   ]
  },
  {
   "cell_type": "code",
   "execution_count": null,
   "metadata": {},
   "outputs": [],
   "source": [
    "df"
   ]
  },
  {
   "cell_type": "code",
   "execution_count": null,
   "metadata": {},
   "outputs": [],
   "source": [
    "\n",
    "sky_x = df.ra\n",
    "sky_y = df.dec\n",
    "limits_sky_x = [0, 360]\n",
    "limits_sky_y = [-90, 90]\n",
    "\n",
    "color = df.phot_bp_mean_mag - df.phot_g_mean_mag\n",
    "df['distance'] = 1/df.parallax\n",
    "df['M_g'] = df.phot_g_mean_mag - 5 * np.log10(df.distance) - 10\n",
    "magnitude = df.M_g\n",
    "limits_color = [-0.5, 1.5]\n",
    "limit_magnitude = [22, -10]\n",
    "\n",
    "aux = df.phot_g_mean_mag\n",
    "limits_aux = [5, 23]\n",
    "shape_aux = 100"
   ]
  },
  {
   "cell_type": "code",
   "execution_count": null,
   "metadata": {},
   "outputs": [],
   "source": [
    "# TODO: vaex cannot work with 'empty' selection, make selection that use all the data\n",
    "df.select(df.phot_g_mean_mag > 10, name='visual')\n",
    "df.select(default_custom_selection, name='custom')\n",
    "df.select(df.ra > -1000, name='sky')\n",
    "df.select('visual & custom & sky')\n",
    "\n",
    "# since the default selection depepends on this, and vaex does not\n",
    "# track the dependencies, we have to update the default selection manually\n",
    "@df.signal_selection_changed.connect\n",
    "def update_default_selection(df, selection_name):\n",
    "    if selection_name in 'visual custom sky'.split():\n",
    "        df.select('visual & custom & sky')\n"
   ]
  },
  {
   "cell_type": "code",
   "execution_count": null,
   "metadata": {},
   "outputs": [],
   "source": [
    "counter_selection = vw.AnimatedCounter(value=1234567, postfix=f' {topic} selected')\n",
    "counter_selection.value = df.count(selection=True).item()\n",
    "counter_selection"
   ]
  },
  {
   "cell_type": "code",
   "execution_count": null,
   "metadata": {},
   "outputs": [],
   "source": [
    "counts_aux = df.count(aux, binby=aux, limits=limits_aux, shape=shape_aux, selection=[True, None])\n",
    "counts_aux"
   ]
  },
  {
   "cell_type": "code",
   "execution_count": null,
   "metadata": {},
   "outputs": [],
   "source": [
    "df.bin_centers(aux, limits_aux, shape_aux)"
   ]
  },
  {
   "cell_type": "code",
   "execution_count": null,
   "metadata": {
    "scrolled": false
   },
   "outputs": [],
   "source": [
    "import bqplot.pyplot as plt\n",
    "fig1d = plt.figure()\n",
    "fig1d.fig_margin = {'bottom': 35, 'left': 60, 'right': 5, 'top': 5}\n",
    "bar = plt.bar(df.bin_centers(aux, limits_aux, shape_aux), counts_aux, type='grouped', colors = [colors['warning'], colors['accent']])\n",
    "bar.scales['y'].allow_padding = False\n",
    "\n",
    "fig1d.axes[0].label_offset = '30px'\n",
    "fig1d.axes[0].label = str(aux)\n",
    "fig1d.axes[1].label_offset = '50px'\n",
    "fig1d.axes[1].label = 'counts'\n",
    "\n",
    "fig1d.axes[0].color = \\\n",
    "fig1d.axes[1].color = \\\n",
    "fig1d.axes[0].label_color = \\\n",
    "fig1d.axes[1].label_color = \\\n",
    "fig1d.axes[0].grid_color = \\\n",
    "fig1d.axes[1].grid_color = '#666'\n",
    "\n",
    "# even handling\n",
    "for axes in fig1d.axes:\n",
    "    axes.grid_lines = 'none'\n",
    "selector = plt.brush_int_selector()\n",
    "# plt.show()\n",
    "fig1d"
   ]
  },
  {
   "cell_type": "code",
   "execution_count": null,
   "metadata": {},
   "outputs": [],
   "source": [
    "# listen to the selector, and modify the selections\n",
    "def update_selection_visual(*ignore):\n",
    "    if selector.selected is not None and len(selector.selected) == 2:\n",
    "        xmin, xmax = selector.selected\n",
    "        df.select((aux > xmin) & (aux < xmax), name='visual')\n",
    "selector.observe(update_selection_visual, 'selected')"
   ]
  },
  {
   "cell_type": "code",
   "execution_count": null,
   "metadata": {},
   "outputs": [],
   "source": [
    "counter_processed = vw.AnimatedCounter(value=1234567, postfix=f' {topic} processed')\n",
    "counter_processed.value = len(df)\n",
    "counter_processed"
   ]
  },
  {
   "cell_type": "code",
   "execution_count": null,
   "metadata": {},
   "outputs": [],
   "source": [
    "progress_circular = vw.ProgressCircularNoAnimation(width=10, size=70, color=colors['accent'], text='')\n",
    "\n",
    "import time\n",
    "last_time = time.time()\n",
    "@df.executor.signal_begin.connect\n",
    "def progress_begin():\n",
    "    progress_circular.hidden = False\n",
    "@df.executor.signal_progress.connect\n",
    "def update_progress(value):\n",
    "    global last_time\n",
    "    progress_circular.value = value*100\n",
    "    number = int(value * len(df))\n",
    "    current_time = time.time()\n",
    "    if (current_time - last_time) > 0.2 or value in [0, 1]:\n",
    "        counter_processed.value = number\n",
    "        last_time = current_time\n",
    "    return True\n",
    "@df.executor.signal_end.connect\n",
    "def progress_update():\n",
    "    progress_circular.hidden = True\n",
    "    \n",
    "\n",
    "progress = v.Layout(children=[progress_circular, counter_processed], align_center=True)\n",
    "progress"
   ]
  },
  {
   "cell_type": "code",
   "execution_count": null,
   "metadata": {},
   "outputs": [],
   "source": [
    "progress_circular.hidden = True"
   ]
  },
  {
   "cell_type": "code",
   "execution_count": null,
   "metadata": {},
   "outputs": [],
   "source": [
    "# maybe we should put this in vaex-core?\n",
    "@vaex.jupyter.debounced(0.05)\n",
    "def _execute():\n",
    "    df.execute()\n",
    "\n",
    "output = widgets.Output()\n",
    "\n",
    "# The update is debounced, since it is expensive to calculate\n",
    "@vaex.jupyter.debounced(0.5)\n",
    "def _update_plot1d():\n",
    "    with output:\n",
    "        @vaex.delayed\n",
    "        def do(grid1d, count):\n",
    "            with output:\n",
    "                bar.y = grid1d\n",
    "                counter_selection.value = count.item()\n",
    "        counts_aux = df.count(aux, binby=aux, limits=limits_aux, shape=shape_aux, selection=[True, None], delay=True)\n",
    "        do(counts_aux, df.count(selection=True, delay=True))\n",
    "        _execute()\n",
    "\n",
    "# this will be called when a selection changes\n",
    "@df.signal_selection_changed.connect\n",
    "def _selection_changed(df, selection_name):\n",
    "    if selection_name == 'default':\n",
    "        _update_plot1d()"
   ]
  },
  {
   "cell_type": "code",
   "execution_count": null,
   "metadata": {},
   "outputs": [],
   "source": [
    "output"
   ]
  },
  {
   "cell_type": "code",
   "execution_count": null,
   "metadata": {
    "scrolled": false
   },
   "outputs": [],
   "source": [
    "plot_sky = df.plot_widget(sky_x, sky_y, f='log', selection=[False, 'sky'], limits=[limits_sky_x, limits_sky_y], selection_callback=update_default_selection)\n",
    "plot_sky.widget.title = f'All {topic}'\n",
    "c = plot_sky.widget.components['main-widget']\n",
    "c.layout.padding = '60px 0px 0px 0px'"
   ]
  },
  {
   "cell_type": "code",
   "execution_count": null,
   "metadata": {},
   "outputs": [],
   "source": [
    "plot_hrd = df.plot_widget(color, magnitude, f='log', selection=True, limits=[limits_color, limit_magnitude])\n",
    "plot_hrd.widget.title = f'Selected {topic}'\n",
    "c = plot_hrd.widget.components['main-widget']\n",
    "c.layout.padding = '60px 0px 0px 0px'"
   ]
  },
  {
   "cell_type": "code",
   "execution_count": null,
   "metadata": {},
   "outputs": [],
   "source": [
    "for fig in [fig1d, plot_sky.backend.figure, plot_hrd.backend.figure]:\n",
    "    fig.layout.width = 'auto'\n",
    "    fig.layout.width = 'auto'\n",
    "    fig.layout.height = 'auto'\n",
    "    fig.layout.min_height = '400px' # so it still shows nicely in the notebook\n",
    "    fig.layout.min_width = 'auto'\n",
    "    fig.layout.min_width = 'auto'"
   ]
  },
  {
   "cell_type": "code",
   "execution_count": null,
   "metadata": {},
   "outputs": [],
   "source": [
    "expression_area = vw.ExpressionTextArea(df=df)\n",
    "expression_area"
   ]
  },
  {
   "cell_type": "code",
   "execution_count": null,
   "metadata": {},
   "outputs": [],
   "source": [
    "widget_selection_text_area = vw.ExpressionSelectionTextArea(df=df, selection_name='custom', v_model=default_custom_selection)\n",
    "widget_selection_text_area"
   ]
  },
  {
   "cell_type": "code",
   "execution_count": null,
   "metadata": {},
   "outputs": [],
   "source": [
    "widget_selection = vw.SelectionEditor(df=df, input=widget_selection_text_area)\n",
    "widget_selection"
   ]
  },
  {
   "cell_type": "code",
   "execution_count": null,
   "metadata": {},
   "outputs": [],
   "source": [
    "editor = vw.VirtualColumnEditor(df=df)\n",
    "editor"
   ]
  },
  {
   "cell_type": "code",
   "execution_count": null,
   "metadata": {
    "scrolled": true
   },
   "outputs": [],
   "source": [
    "column_list = vw.ColumnList(df=df)\n",
    "column_list"
   ]
  },
  {
   "cell_type": "code",
   "execution_count": null,
   "metadata": {},
   "outputs": [],
   "source": [
    "import traitlets\n",
    "class Action(v.VuetifyTemplate):\n",
    "    value = traitlets.Bool(False).tag(sync=True)\n",
    "    backend = traitlets.Any()\n",
    "    items = traitlets.Any().tag(sync=True)\n",
    "    @traitlets.default('template')\n",
    "    def _template(self):\n",
    "        return \"\"\"\n",
    "        <v-speed-dial\n",
    "        style=\"bottom: 80px\"\n",
    "        absolute\n",
    "      v-model=\"value\"\n",
    "      bottom\n",
    "      right\n",
    "      direction=\"top\"\n",
    "      transition=\"slide-y-reverse-transition\"\n",
    "    >\n",
    "      <template v-slot:activator>\n",
    "        <v-btn\n",
    "          v-model=\"value\"\n",
    "          small\n",
    "          fab\n",
    "        >\n",
    "          <v-icon v-if=\"value\">expand_more</v-icon>\n",
    "          <v-icon v-else>more_vert</v-icon>\n",
    "        </v-btn>\n",
    "      </template>\n",
    "      <v-tooltip v-for=\"(item, index) in items\" left :key=\"index\">\n",
    "          <template v-slot:activator=\"tooltip\">\n",
    "              <v-btn fab small v-on=\"tooltip.on\" @click=\"action(item)\">\n",
    "                <v-icon small>{{ item.icon }}</v-icon>\n",
    "              </v-btn>\n",
    "          </template>\n",
    "          {{ item.tooltip }}\n",
    "      </v-tooltip>\n",
    "    </v-speed-dial>\n",
    "    \"\"\"\n",
    "    def vue_action(self, data):\n",
    "        print(data)\n",
    "        name = data['value']\n",
    "        self.backend.figure.interaction = self.backend.tool_actions_map[name]\n",
    "items = [\n",
    "    {'value': 'pan/zoom', 'icon': 'pan_tool', 'tooltip': \"Pan & zoom\"},\n",
    "    {'value': 'select', 'icon':'crop_free', 'tooltip': \"Square selection\"}, \n",
    "]\n",
    "action = Action(items=items, backend=plot_sky.backend)\n",
    "v.Html(tag='div', pa_10=True, style_='width: 400px; height: 400px; position: relative', children=[action])"
   ]
  },
  {
   "cell_type": "code",
   "execution_count": null,
   "metadata": {
    "scrolled": false
   },
   "outputs": [],
   "source": [
    "class MainContent(v.VuetifyTemplate):\n",
    "    loading = traitlets.Bool(False).tag(sync=True)\n",
    "    @traitlets.default('template')\n",
    "    def _template(self):\n",
    "        return f\"\"\"\n",
    "    <v-container class=\"grey lighten-5\">\n",
    "        <v-row justify=\"center\">\n",
    "            <v-col xs=\"12\" md=\"6\" lg=\"4\" xl=\"3\">\n",
    "                <v-card style=\"height: 100%\" :loading=\"loading\"\n",
    "                    class=\"mx-auto\"\n",
    "                  >\n",
    "                    <v-card-title style=\"padding-left: 50px; height=65px\">Overview</v-card-title>\n",
    "                    <v-card-text  style=\"padding-left: 50px\">\n",
    "                        This <a href=\"https://github.com/QuantStack/voila\" target=\"_blank\">voila</a> dashboard\n",
    "                        show the <a href=\"https://gea.esac.esa.int/archive/\" target=\"_blank\">Gaia</a> dataset, crossmatched\n",
    "                        with the <a href=\"https://panstarrs.stsci.edu/\" target=\"_blank\">Pan-STARRS</a> dataset. You are looking at:\n",
    "                        <p>\n",
    "                            <ul>\n",
    "                                <li>{len(df):,} stars.</li>\n",
    "                                <li><counter/></li>\n",
    "                                <li><counter_selection/></li>\n",
    "                            </ul>\n",
    "                        </p>\n",
    "                        <p>\n",
    "                            The visualizations are calculated on the fly using <a href=\"https://github.com/vaexio/vaex/\" target=\"_blank\">vaex</a>\n",
    "                            to process the nearly 1 billion stars interactively.\n",
    "                        </p>\n",
    "                        <p>\n",
    "                            The visualizations on the rights and bottom can be used for filter the data visually.\n",
    "                            Apart from a visual selection, this following expression is included for filtering as well.\n",
    "                        </p>\n",
    "                            <filter-editor/>\n",
    "                        \n",
    "                        \n",
    "                    </v-card-text>\n",
    "                </v-card>\n",
    "            </v-col>\n",
    "            <v-col xs=\"12\" md=\"6\" lg=\"4\" xl=\"3\">\n",
    "                <v-card  :loading=\"loading\" style=\"height: 100%\" \n",
    "                    class=\"mx-auto\"\n",
    "                  >\n",
    "                    <v-card-title style=\"padding-left: 50px;\">Sky view</v-card-title>\n",
    "                    <v-card-text  style=\"padding-left: 50px\">Navigate the sky or select a region of the sky to filter the HR diagram.</v-card-text>\n",
    "                    <sky/>\n",
    "                </v-card>\n",
    "            </v-col>\n",
    "            <v-col xs=\"12\" md=\"6\" lg=\"4\" xl=\"3\">\n",
    "                <v-card  style=\"height: 100%\"  :loading=\"loading\"\n",
    "                    class=\"mx-auto\"\n",
    "                  >\n",
    "                    <v-card-title style=\"padding-left: 50px;\">Magnitude distribution</v-card-title>\n",
    "                    <v-card-text  style=\"padding-left: 50px\">Histogram of the Gaia G manitudes. Select a region to filter the HR diagram.</v-card-text>\n",
    "                    <g-mag/>\n",
    "                </v-card>\n",
    "            </v-col>\n",
    "            <v-col xs=\"12\" md=\"6\" lg=\"4\" xl=\"3\">\n",
    "                <v-card  :loading=\"loading\" style=\"height: 100%\" \n",
    "                    class=\"mx-auto\"\n",
    "                  >\n",
    "                    <v-card-title style=\"padding-left: 50px;\">HR diagram</v-card-title>\n",
    "                    <v-card-text  style=\"padding-left: 50px\">\n",
    "                        Shows a Hertzsprung Russell diagram of the sky selection, the magnitude selection and the custom\n",
    "                        filter combined.\n",
    "                    </v-card-text>\n",
    "                    <hr-diagram/>\n",
    "                </v-card>\n",
    "            </v-col>\n",
    "        </v-row>\n",
    "    </v-container>\n",
    "\"\"\"\n",
    "    \n",
    "widget_main = MainContent(components={\n",
    "    'sky': v.Html(tag='div', style_='position: relative', children=[plot_sky.backend.widget, action]),\n",
    "    'hr-diagram': widgets.VBox([plot_hrd.backend.widget]),\n",
    "    'g-mag': fig1d,\n",
    "    'counter': counter_processed,\n",
    "    'counter_selection': counter_selection,\n",
    "    'filter-editor': widget_selection\n",
    "})\n",
    "widget_main"
   ]
  },
  {
   "cell_type": "code",
   "execution_count": null,
   "metadata": {},
   "outputs": [],
   "source": [
    "@df.executor.signal_begin.connect\n",
    "def progress_begin():\n",
    "    widget_main.loading = True\n",
    "@df.executor.signal_end.connect\n",
    "def progress_update():\n",
    "    widget_main.loading = False\n"
   ]
  },
  {
   "cell_type": "code",
   "execution_count": null,
   "metadata": {},
   "outputs": [],
   "source": [
    "import traitlets\n",
    "class Main(v.VuetifyTemplate):\n",
    "    previous = traitlets.List(traitlets.Unicode()).tag(sync=True)\n",
    "    current = traitlets.List(traitlets.Unicode()).tag(sync=True)\n",
    "    firsts = traitlets.List(traitlets.Bool(True)).tag(sync=True)\n",
    "    value = traitlets.Integer()\n",
    "    format = traitlets.Unicode('{: 14,d}')\n",
    "    postfix = traitlets.Unicode('').tag(sync=True)\n",
    "    title = traitlets.Unicode('Vaex').tag(sync=True)\n",
    "    components = traitlets.Dict(None, allow_none=True).tag(sync=True, **widgets.widget.widget_serialization)\n",
    "    items = traitlets.List().tag(sync=True)\n",
    "    showNavBar = traitlets.Bool(False).tag(sync=True)\n",
    "    \n",
    "    @traitlets.observe('value')\n",
    "    def _value(self, change):\n",
    "        text = self.format.format(self.value)\n",
    "        self.previous = self.current\n",
    "        self.current = [k.replace(' ', '&nbsp;') for k in text]\n",
    "        if self.previous is None:\n",
    "            self.current = self.previous\n",
    "\n",
    "    template = traitlets.Unicode(f'''\n",
    "        <v-layout>\n",
    "            <v-navigation-drawer v-model=\"showNavBar\" absolute app temporary style=\"width: 400px\">\n",
    "                \n",
    "                <content-nav/>\n",
    "            </v-navigation-drawer>\n",
    "            <v-app-bar app absolute>\n",
    "                <v-app-bar-nav-icon\n",
    "                        @click.stop=\"showNavBar = !showNavBar\"\n",
    "                ></v-app-bar-nav-icon>\n",
    "                <v-toolbar-title>\n",
    "                    <h2 style=\"color: #666\">\n",
    "                    <img style=\"height: 30px\" src=\"https://vaex.io/img/logos/logo.svg\"></img>\n",
    "                    Gaia Discovery Engine with <a href=\"https://github.com/vaexio/vaex/\" target=\"_blank\">vaex</a> - 1 billion stars\n",
    "                    </h2>\n",
    "                </v-toolbar-title>\n",
    "                <div class=\"flex-grow-1\"></div>\n",
    "                <progress_circular/>\n",
    "            </v-app-bar>\n",
    "\n",
    "            <v-content>\n",
    "                <content-main/>\n",
    "            </v-content>\n",
    "        </v-layout>\n",
    "      ''').tag(sync=True)\n",
    "\n",
    "main = Main(items=[{'title': 'Bla'}],\n",
    "           components={\n",
    "               'content-main': widget_main,\n",
    "               'content-nav': column_list,\n",
    "               'content-progress': progress,\n",
    "               'content-filter': widget_selection,\n",
    "               'progress_circular': progress_circular\n",
    "           })\n",
    "main"
   ]
  },
  {
   "cell_type": "code",
   "execution_count": null,
   "metadata": {},
   "outputs": [],
   "source": [
    "v.Layout( _metadata={'mount_id': 'content'}, children=[main]);"
   ]
  },
  {
   "cell_type": "code",
   "execution_count": null,
   "metadata": {},
   "outputs": [],
   "source": [
    "progress_circular"
   ]
  },
  {
   "cell_type": "code",
   "execution_count": null,
   "metadata": {},
   "outputs": [],
   "source": [
    "fig1d.background_style = {'fill': 'none'}"
   ]
  },
  {
   "cell_type": "code",
   "execution_count": null,
   "metadata": {},
   "outputs": [],
   "source": [
    "plot_hrd.backend.figure.background_style = {'fill': 'none'}\n",
    "plot_sky.backend.figure.background_style = {'fill': 'none'}"
   ]
  },
  {
   "cell_type": "code",
   "execution_count": null,
   "metadata": {},
   "outputs": [],
   "source": [
    "plot_hrd.backend.figure.axes[1].grid_lines = 'none'\n",
    "plot_sky.backend.figure.axes[1].grid_lines = 'none'"
   ]
  },
  {
   "cell_type": "code",
   "execution_count": null,
   "metadata": {},
   "outputs": [],
   "source": [
    "progress_circular.value = 80"
   ]
  },
  {
   "cell_type": "code",
   "execution_count": null,
   "metadata": {},
   "outputs": [],
   "source": [
    "progress_circular.size = 30\n",
    "progress_circular.width = 5"
   ]
  },
  {
   "cell_type": "code",
   "execution_count": null,
   "metadata": {},
   "outputs": [],
   "source": [
    "progress_circular.color = '#666'"
   ]
  },
  {
   "cell_type": "code",
   "execution_count": null,
   "metadata": {},
   "outputs": [],
   "source": [
    "widget_main.loading = False"
   ]
  },
  {
   "cell_type": "code",
   "execution_count": null,
   "metadata": {},
   "outputs": [],
   "source": []
  }
 ],
 "metadata": {
  "kernelspec": {
   "display_name": "Python 3",
   "language": "python",
   "name": "python3"
  },
  "language_info": {
   "codemirror_mode": {
    "name": "ipython",
    "version": 3
   },
   "file_extension": ".py",
   "mimetype": "text/x-python",
   "name": "python",
   "nbconvert_exporter": "python",
   "pygments_lexer": "ipython3",
   "version": "3.6.7"
  },
  "widgets": {
   "application/vnd.jupyter.widget-state+json": {
    "state": {
     "666cd2ce4c2b41aabcc73e8d5421ad69": {
      "model_module": "@jupyter-widgets/base",
      "model_module_version": "1.2.0",
      "model_name": "LayoutModel",
      "state": {}
     },
     "7dde201d0451445a82e877e67a452b2b": {
      "model_module": "@jupyter-widgets/base",
      "model_module_version": "1.2.0",
      "model_name": "LayoutModel",
      "state": {}
     }
    },
    "version_major": 2,
    "version_minor": 0
   }
  }
 },
 "nbformat": 4,
 "nbformat_minor": 4
}
