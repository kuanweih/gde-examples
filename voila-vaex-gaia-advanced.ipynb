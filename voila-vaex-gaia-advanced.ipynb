{
 "cells": [
  {
   "cell_type": "code",
   "execution_count": 1,
   "metadata": {},
   "outputs": [],
   "source": [
    "%load_ext autoreload\n",
    "%autoreload 2\n",
    "import warnings; warnings.simplefilter('ignore')"
   ]
  },
  {
   "cell_type": "code",
   "execution_count": 2,
   "metadata": {},
   "outputs": [],
   "source": [
    "import ipyvuetify as v\n",
    "import vaex.jupyter.widgets as vw\n",
    "import ipywidgets as widgets\n",
    "import vaex\n",
    "import vaex.jupyter\n",
    "import numpy as np\n",
    "import getpass\n",
    "\n",
    "colors = {\n",
    "    'primary': '#1976D2',\n",
    "    'secondary': '#424242',\n",
    "    'accent': '#82B1FF',\n",
    "    'error': '#FF5252',\n",
    "    'info': '#2196F3',\n",
    "    'success': '#4CAF50',\n",
    "    'warning': '#FFC107'\n",
    "}"
   ]
  },
  {
   "cell_type": "code",
   "execution_count": 3,
   "metadata": {},
   "outputs": [
    {
     "data": {
      "text/plain": [
       "'((parallax / parallax_error) > 3)'"
      ]
     },
     "execution_count": 3,
     "metadata": {},
     "output_type": "execute_result"
    }
   ],
   "source": [
    "# Uncomment to access the data via S3\n",
    "import vaex\n",
    "import getpass\n",
    "\n",
    "profile_name = 'stsci' if getpass.getuser() == 'maartenbreddels' else 'default'\n",
    "\n",
    "df = vaex.open(f's3://astrosurveydata/gaia_ps1_nochunk.hdf5?profile_name={profile_name}')\n",
    "df = df[:200_000_000]\n",
    "topic = 'stars'\n",
    "default_custom_selection = str(df.parallax/df.parallax_error > 3)\n",
    "default_custom_selection"
   ]
  },
  {
   "cell_type": "code",
   "execution_count": 4,
   "metadata": {},
   "outputs": [],
   "source": [
    "# import vaex\n",
    "# with open('token.txt') as f:\n",
    "#     token = f.read().strip()\n",
    "# df = vaex.open(f'ws://ec2-18-222-183-211.us-east-2.compute.amazonaws.com:9000/gaia_ps1_nochunk?token_trusted={token}')#[:10_000_000]"
   ]
  },
  {
   "cell_type": "code",
   "execution_count": 5,
   "metadata": {},
   "outputs": [
    {
     "data": {
      "text/html": [
       "<table>\n",
       "<thead>\n",
       "<tr><th>#                                      </th><th>a_g_percentile_lower  </th><th>a_g_percentile_upper  </th><th>a_g_val           </th><th>astrometric_chi2_al  </th><th>astrometric_excess_noise  </th><th>astrometric_excess_noise_sig  </th><th>astrometric_gof_al  </th><th>astrometric_matched_observations  </th><th>astrometric_n_bad_obs_al  </th><th>astrometric_n_good_obs_al  </th><th>astrometric_n_obs_ac  </th><th>astrometric_n_obs_al  </th><th>astrometric_params_solved  </th><th>astrometric_primary_flag  </th><th>astrometric_pseudo_colour  </th><th>astrometric_pseudo_colour_error  </th><th>astrometric_sigma5d_max  </th><th>astrometric_weight_al  </th><th>b               </th><th>bestdetection  </th><th>bp_g                </th><th>bp_rp             </th><th>dec              </th><th>dec_error         </th><th>dec_parallax_corr    </th><th>dec_pmdec_corr     </th><th>dec_pmra_corr        </th><th>designation            </th><th>dist                </th><th>duplicated_source  </th><th>dvoregionid  </th><th>e_bp_min_rp_percentile_lower  </th><th>e_bp_min_rp_percentile_upper  </th><th>e_bp_min_rp_val   </th><th>ebv                </th><th>ecl_lat          </th><th>ecl_lon         </th><th>flame_flags  </th><th>frame_rotator_object_type  </th><th>g_rp              </th><th>gapmag            </th><th>gapmagerr            </th><th>gdec        </th><th>gdecerr              </th><th>gepoch       </th><th>ginfoflag  </th><th>ginfoflag2  </th><th>ginfoflag3  </th><th>gippdetectid  </th><th>gkronmag          </th><th>gkronmagerr          </th><th>gnframes  </th><th>gpsfmag           </th><th>gpsfmagerr           </th><th>gra         </th><th>graerr               </th><th>gstackdetectid     </th><th>gstackimageid  </th><th>iapmag            </th><th>iapmagerr             </th><th>idec        </th><th>idecerr               </th><th>iepoch       </th><th>iinfoflag  </th><th>iinfoflag2  </th><th>iinfoflag3  </th><th>iippdetectid  </th><th>ikronmag          </th><th>ikronmagerr          </th><th>inframes  </th><th>ippobjid       </th><th>ipsfmag           </th><th>ipsfmagerr           </th><th>ira         </th><th>iraerr               </th><th>istackdetectid     </th><th>istackimageid  </th><th>l               </th><th>lum_percentile_lower  </th><th>lum_percentile_upper  </th><th>lum_val          </th><th>matched_observations  </th><th>mean_varpi_factor_al  </th><th>objid            </th><th>p_dec       </th><th>p_ra        </th><th>parallax          </th><th>parallax_error    </th><th>parallax_over_error  </th><th>parallax_pmdec_corr  </th><th>parallax_pmra_corr  </th><th>phot_bp_mean_flux  </th><th>phot_bp_mean_flux_error  </th><th>phot_bp_mean_flux_over_error  </th><th>phot_bp_mean_mag  </th><th>phot_bp_n_obs  </th><th>phot_bp_rp_excess_factor  </th><th>phot_g_mean_flux  </th><th>phot_g_mean_flux_error  </th><th>phot_g_mean_flux_over_error  </th><th>phot_g_mean_mag   </th><th>phot_g_n_obs  </th><th>phot_proc_mode  </th><th>phot_rp_mean_flux  </th><th>phot_rp_mean_flux_error  </th><th>phot_rp_mean_flux_over_error  </th><th>phot_rp_mean_mag  </th><th>phot_rp_n_obs  </th><th>phot_variable_flag  </th><th>pmdec            </th><th>pmdec_error       </th><th>pmra              </th><th>pmra_error        </th><th>pmra_pmdec_corr     </th><th>priam_flags  </th><th>primarydetection  </th><th>processingversion  </th><th>projectionid  </th><th>ra              </th><th>ra_dec_corr          </th><th>ra_error          </th><th>ra_parallax_corr    </th><th>ra_pmdec_corr       </th><th>ra_pmra_corr        </th><th>radial_velocity  </th><th>radial_velocity_error  </th><th>radius_percentile_lower  </th><th>radius_percentile_upper  </th><th>radius_val        </th><th>random_index  </th><th>randomstackobjid  </th><th>rapmag            </th><th>rapmagerr            </th><th>rdec        </th><th>rdecerr              </th><th>ref_epoch  </th><th>repoch       </th><th>rinfoflag  </th><th>rinfoflag2  </th><th>rinfoflag3  </th><th>rippdetectid  </th><th>rkronmag          </th><th>rkronmagerr          </th><th>rnframes  </th><th>rpsfmag           </th><th>rpsfmagerr           </th><th>rra         </th><th>rraerr               </th><th>rstackdetectid     </th><th>rstackimageid  </th><th>rv_nb_transits  </th><th>rv_template_fe_h  </th><th>rv_template_logg  </th><th>rv_template_teff  </th><th>skycellid  </th><th>solution_id        </th><th>source_id          </th><th>surveyid  </th><th>teff_percentile_lower  </th><th>teff_percentile_upper  </th><th>teff_val        </th><th>tessid  </th><th>uniquepspsstid  </th><th>visibility_periods_used  </th><th>yapmag            </th><th>yapmagerr             </th><th>ydec        </th><th>ydecerr              </th><th>yepoch       </th><th>yinfoflag  </th><th>yinfoflag2  </th><th>yinfoflag3  </th><th>yippdetectid  </th><th>ykronmag          </th><th>ykronmagerr          </th><th>ynframes  </th><th>ypsfmag           </th><th>ypsfmagerr           </th><th>yra         </th><th>yraerr                </th><th>ystackdetectid     </th><th>ystackimageid  </th><th>zapmag            </th><th>zapmagerr            </th><th>zdec        </th><th>zdecerr               </th><th>zepoch       </th><th>zinfoflag  </th><th>zinfoflag2  </th><th>zinfoflag3  </th><th>zippdetectid  </th><th>zkronmag          </th><th>zkronmagerr           </th><th>znframes  </th><th>zpsfmag           </th><th>zpsfmagerr           </th><th>zra         </th><th>zraerr                </th><th>zstackdetectid     </th><th>zstackimageid  </th></tr>\n",
       "</thead>\n",
       "<tbody>\n",
       "<tr><td><i style='opacity: 0.6'>0</i>          </td><td>nan                   </td><td>nan                   </td><td>nan               </td><td>278.35400390625      </td><td>0.463565430615808         </td><td>1.49006002867494              </td><td>2.0987000465393066  </td><td>27                                </td><td>2                         </td><td>236                        </td><td>0                     </td><td>238                   </td><td>31                         </td><td>False                     </td><td>1.36373796564467           </td><td>0.0336767775374772               </td><td>0.2703999876976013       </td><td>0.5764830112457275     </td><td>5.3310062088769 </td><td>1              </td><td>0.9484689831733704  </td><td>1.8842600584030151</td><td>-10.3091114009876</td><td>0.116378626203484 </td><td>0.04726390168070793  </td><td>0.29888901114463806</td><td>0.12965799868106842  </td><td>b'Gaia DR2 30410948915'</td><td>1.18388099435614e-05</td><td>False              </td><td>96139        </td><td>nan                           </td><td>nan                           </td><td>nan               </td><td>0.22530299425125122</td><td>-31.3804098161502</td><td>118.376065081187</td><td>-9999        </td><td>0                          </td><td>0.935791015625    </td><td>19.6112003326416  </td><td>0.003068000078201294 </td><td>-10.3091215 </td><td>0.0072778500616550446</td><td>56075.0212668</td><td>102760453  </td><td>128         </td><td>196608      </td><td>7032          </td><td>19.692699432373047</td><td>0.014081999659538269 </td><td>8         </td><td>19.599000930786133</td><td>0.010356999933719635 </td><td>114.35555677</td><td>0.007036920171231031 </td><td>2523191306964966264</td><td>4379137        </td><td>17.695100784301758</td><td>0.0011759999906644225 </td><td>-10.30911878</td><td>0.001237310003489256  </td><td>55901.9228214</td><td>102760453  </td><td>128         </td><td>196608      </td><td>7032          </td><td>17.78689956665039 </td><td>0.004135999828577042 </td><td>8         </td><td>412913860963485</td><td>17.714000701904297</td><td>0.0028639999218285084</td><td>114.35555695</td><td>0.0013052199501544237</td><td>2523204911005440888</td><td>4429816        </td><td>227.395358246246</td><td>nan                   </td><td>nan                   </td><td>nan              </td><td>29                    </td><td>0.00017986699822358787</td><td>95621143557289362</td><td>-10.30911843</td><td>114.35555883</td><td>0.957945085087802 </td><td>0.180076371312301 </td><td>5.319660186767578    </td><td>-0.06908410042524338 </td><td>0.2367289960384369  </td><td>271.704423086766   </td><td>6.51448995857181         </td><td>41.707698822021484            </td><td>19.26609992980957 </td><td>24             </td><td>1.314710021018982         </td><td>887.719153204297  </td><td>1.36522767468661        </td><td>650.2349853515625            </td><td>18.317699432373047</td><td>250           </td><td>0               </td><td>895.392809188737   </td><td>5.94965994170056         </td><td>150.4949951171875             </td><td>17.381900787353516</td><td>23             </td><td>b'NOT_AVAILABLE'    </td><td>9.39339509961328 </td><td>0.233801735330608 </td><td>-7.34998413797629 </td><td>0.300267577020865 </td><td>-0.1093439981341362 </td><td>-9999        </td><td>1                 </td><td>3                  </td><td>1082          </td><td>114.355539842572</td><td>0.03990960121154785  </td><td>0.142497693205109 </td><td>0.15003900229930878 </td><td>0.13851900398731232 </td><td>0.07585039734840393 </td><td>nan              </td><td>nan                    </td><td>nan                      </td><td>nan                      </td><td>nan               </td><td>1335044727    </td><td>0.699338882881532 </td><td>18.292299270629883</td><td>0.0015999999595806003</td><td>-10.30911843</td><td>0.002953189890831709 </td><td>2015.5     </td><td>56109.7847011</td><td>102760453  </td><td>128         </td><td>196608      </td><td>7032          </td><td>18.343299865722656</td><td>0.006176999770104885 </td><td>9         </td><td>18.332399368286133</td><td>0.004492000211030245 </td><td>114.35555883</td><td>0.0028880699537694454</td><td>2523204884161895288</td><td>4429716        </td><td>0               </td><td>nan               </td><td>nan               </td><td>nan               </td><td>42         </td><td>1635721458409799680</td><td>3041094891506910592</td><td>0         </td><td>nan                    </td><td>nan                    </td><td>nan             </td><td>2       </td><td>1147357000010759</td><td>14                       </td><td>17.259899139404297</td><td>0.0010339999571442604 </td><td>-10.30911847</td><td>0.0029581799171864986</td><td>55964.5421932</td><td>102760453  </td><td>128         </td><td>196608      </td><td>7032          </td><td>17.391199111938477</td><td>0.00916799996048212  </td><td>11        </td><td>17.27120018005371 </td><td>0.005809000227600336 </td><td>114.3555586 </td><td>0.002938479883596301  </td><td>2523191226702764920</td><td>4378838        </td><td>17.444299697875977</td><td>0.001145999995060265 </td><td>-10.30911936</td><td>0.0018701700028032064 </td><td>55908.615614 </td><td>102760453  </td><td>128         </td><td>196608      </td><td>7032          </td><td>17.527799606323242</td><td>0.005361999850720167  </td><td>10        </td><td>17.47610092163086 </td><td>0.003783999942243099 </td><td>114.35555605</td><td>0.0018797400407493114 </td><td>2523185583384173432</td><td>4357815        </td></tr>\n",
       "<tr><td><i style='opacity: 0.6'>1</i>          </td><td>nan                   </td><td>nan                   </td><td>nan               </td><td>231.76300048828125   </td><td>0.287647817933802         </td><td>0.17083515587383              </td><td>1.3494399785995483  </td><td>24                                </td><td>3                         </td><td>209                        </td><td>0                     </td><td>212                   </td><td>31                         </td><td>False                     </td><td>1.40822462079063           </td><td>0.0624917119706836               </td><td>0.5515710115432739       </td><td>0.2065429985523224     </td><td>5.33460903128923</td><td>1              </td><td>0.9996470212936401  </td><td>1.9559099674224854</td><td>-10.3078291672708</td><td>0.227991878474612 </td><td>0.197161003947258    </td><td>0.07309810072183609</td><td>0.33017200231552124  </td><td>b'Gaia DR2 30410948872'</td><td>5.37998815550913e-06</td><td>False              </td><td>96139        </td><td>nan                           </td><td>nan                           </td><td>nan               </td><td>0.22512699663639069</td><td>-31.3784968055346</td><td>118.379692716403</td><td>-9999        </td><td>0                          </td><td>0.9562659859657288</td><td>20.430299758911133</td><td>0.004474000073969364 </td><td>-10.30783513</td><td>0.014709300361573696 </td><td>56075.0212668</td><td>35651585   </td><td>0           </td><td>196608      </td><td>6857          </td><td>20.459800720214844</td><td>0.031996000558137894 </td><td>4         </td><td>20.465299606323242</td><td>0.023886000737547874 </td><td>114.35901771</td><td>0.015183299779891968 </td><td>2523191306964966089</td><td>4379137        </td><td>18.635499954223633</td><td>0.0018139999592676759 </td><td>-10.30782422</td><td>0.003984979819506407  </td><td>55901.9228214</td><td>102760453  </td><td>128         </td><td>196608      </td><td>6857          </td><td>18.660600662231445</td><td>0.016674000769853592 </td><td>3         </td><td>412913860964104</td><td>18.687400817871094</td><td>0.008957000449299812 </td><td>114.35901411</td><td>0.004120450001209974 </td><td>2523204911005440713</td><td>4429816        </td><td>227.395881076008</td><td>nan                   </td><td>nan                   </td><td>nan              </td><td>26                    </td><td>-0.08892440050840378  </td><td>95631143590160987</td><td>-10.30782538</td><td>114.35899898</td><td>0.446391121981732 </td><td>0.32456009686601  </td><td>1.3753700256347656   </td><td>-0.22298899292945862 </td><td>0.34370601177215576 </td><td>111.05649506302    </td><td>5.12347572527936         </td><td>21.676000595092773            </td><td>20.237499237060547</td><td>19             </td><td>1.3198200464248657        </td><td>380.359405783581  </td><td>1.37481968774042        </td><td>276.6610107421875            </td><td>19.237899780273438</td><td>226           </td><td>0               </td><td>390.950934447137   </td><td>7.5404270201309          </td><td>51.8473014831543              </td><td>18.281600952148438</td><td>22             </td><td>b'NOT_AVAILABLE'    </td><td>0.419851308348398</td><td>0.456638363870983 </td><td>0.275538877018535 </td><td>0.565733752419666 </td><td>-0.35183900594711304</td><td>-9999        </td><td>1                 </td><td>3                  </td><td>1082          </td><td>114.359002670978</td><td>-0.28889200091362    </td><td>0.270276459855071 </td><td>-0.14128300547599792</td><td>0.3144429922103882  </td><td>-0.15301799774169922</td><td>nan              </td><td>nan                    </td><td>nan                      </td><td>nan                      </td><td>nan               </td><td>354172319     </td><td>0.664371275961745 </td><td>18.98040008544922 </td><td>0.002196999965235591 </td><td>-10.30782538</td><td>0.005669380072504282 </td><td>2015.5     </td><td>56109.7847011</td><td>35667969   </td><td>0           </td><td>196608      </td><td>6857          </td><td>18.873899459838867</td><td>0.014612999744713306 </td><td>6         </td><td>19.215999603271484</td><td>0.01033599954098463  </td><td>114.35899898</td><td>0.0058749401941895485</td><td>2523204884161895113</td><td>4429716        </td><td>0               </td><td>nan               </td><td>nan               </td><td>nan               </td><td>42         </td><td>1635721458409799680</td><td>3041094887203289856</td><td>0         </td><td>nan                    </td><td>nan                    </td><td>nan             </td><td>2       </td><td>1147357000010869</td><td>12                       </td><td>18.11669921875    </td><td>0.001534000039100647  </td><td>-10.30782352</td><td>0.005535250063985586 </td><td>55964.5421932</td><td>102760453  </td><td>128         </td><td>196608      </td><td>6857          </td><td>18.261600494384766</td><td>0.017405999824404716 </td><td>11        </td><td>18.130300521850586</td><td>0.010742000304162502 </td><td>114.35901362</td><td>0.005540709942579269  </td><td>2523191226702764745</td><td>4378838        </td><td>18.346799850463867</td><td>0.0017359999474138021</td><td>-10.3078312 </td><td>0.003560560056939721  </td><td>55908.615614 </td><td>102760453  </td><td>128         </td><td>196608      </td><td>6857          </td><td>18.486400604248047</td><td>0.01040400005877018   </td><td>9         </td><td>18.272300720214844</td><td>0.007011000066995621 </td><td>114.35901108</td><td>0.0035880000796169043 </td><td>2523185583384173257</td><td>4357815        </td></tr>\n",
       "<tr><td><i style='opacity: 0.6'>2</i>          </td><td>nan                   </td><td>nan                   </td><td>nan               </td><td>96.83080291748047    </td><td>0.831069527732084         </td><td>0.0882007658403643            </td><td>0.62049400806427    </td><td>11                                </td><td>0                         </td><td>94                         </td><td>0                     </td><td>94                    </td><td>31                         </td><td>False                     </td><td>1.54477521579947           </td><td>0.414858724069629                </td><td>3.7952399253845215       </td><td>0.019727500155568123   </td><td>5.33788645250021</td><td>0              </td><td>0.3679890036582947  </td><td>1.2811199426651   </td><td>-10.3067864634205</td><td>1.34547512233383  </td><td>0.0060073197819292545</td><td>0.4358550012111664 </td><td>-0.1367180049419403  </td><td>b'Gaia DR2 30410949258'</td><td>5.69620311988013e-06</td><td>False              </td><td>96139        </td><td>nan                           </td><td>nan                           </td><td>nan               </td><td>0.22494900226593018</td><td>-31.376864830992 </td><td>118.383098792652</td><td>-9999        </td><td>0                          </td><td>0.9131280183792114</td><td>nan               </td><td>0.005197999998927116 </td><td>-10.30678287</td><td>0.10337900370359421  </td><td>56075.0212668</td><td>35651585   </td><td>4           </td><td>196608      </td><td>6691          </td><td>nan               </td><td>nan                  </td><td>8         </td><td>22.894500732421875</td><td>0.16787800192832947  </td><td>114.36222388</td><td>0.1067110002040863   </td><td>2523191306964965923</td><td>4379137        </td><td>20.172500610351562</td><td>0.00368200009688735   </td><td>-10.30678243</td><td>0.00893434975296259   </td><td>55901.9228214</td><td>35651585   </td><td>0           </td><td>196608      </td><td>6691          </td><td>nan               </td><td>nan                  </td><td>6         </td><td>412913860964735</td><td>20.288299560546875</td><td>0.022377999499440193 </td><td>114.36223358</td><td>0.009236750192940235 </td><td>2523204911005440547</td><td>4429816        </td><td>227.396498589852</td><td>nan                   </td><td>nan                   </td><td>nan              </td><td>12                    </td><td>-0.01215319987386465  </td><td>95631143622422252</td><td>-10.30678458</td><td>114.3622232 </td><td>-0.122052536794764</td><td>2.70935987767513  </td><td>-0.04504850134253502 </td><td>-0.4527150094509125  </td><td>-0.3803189992904663 </td><td>41.156616248421    </td><td>6.71873532001934         </td><td>6.125649929046631             </td><td>21.31529998779297 </td><td>12             </td><td>1.5102200508117676        </td><td>78.7818422446797  </td><td>1.07270423108978        </td><td>73.44229888916016            </td><td>20.94729995727539 </td><td>105           </td><td>0               </td><td>77.8214488926337   </td><td>10.7640801912557         </td><td>7.229740142822266             </td><td>20.03420066833496 </td><td>11             </td><td>b'NOT_AVAILABLE'    </td><td>2.81880046051095 </td><td>3.6355509231643   </td><td>2.2453715924636   </td><td>3.8013670564704   </td><td>-0.2798269987106323 </td><td>-9999        </td><td>1                 </td><td>3                  </td><td>1082          </td><td>114.362222001869</td><td>-0.31504300236701965 </td><td>2.11318496469728  </td><td>-0.699550986289978  </td><td>0.2464590072631836  </td><td>0.5205960273742676  </td><td>nan              </td><td>nan                    </td><td>nan                      </td><td>nan                      </td><td>nan               </td><td>1648878903    </td><td>0.883108242306028 </td><td>23.760700225830078</td><td>0.01985199935734272  </td><td>-10.30678458</td><td>0.020869100466370583 </td><td>2015.5     </td><td>56109.7847011</td><td>35651585   </td><td>4           </td><td>196608      </td><td>6691          </td><td>nan               </td><td>nan                  </td><td>9         </td><td>21.05780029296875 </td><td>0.038047999143600464 </td><td>114.3622232 </td><td>0.02162580005824566  </td><td>2523204884161894947</td><td>4429716        </td><td>0               </td><td>nan               </td><td>nan               </td><td>nan               </td><td>42         </td><td>1635721458409799680</td><td>3041094925863488000</td><td>0         </td><td>nan                    </td><td>nan                    </td><td>nan             </td><td>2       </td><td>1147357000010966</td><td>7                        </td><td>19.400400161743164</td><td>0.0027699999045580626 </td><td>-10.30679751</td><td>0.013158800080418587 </td><td>55964.5421932</td><td>35667969   </td><td>0           </td><td>196608      </td><td>6691          </td><td>19.69300079345703 </td><td>0.05087200179696083  </td><td>15        </td><td>19.716400146484375</td><td>0.037762999534606934 </td><td>114.36224125</td><td>0.014719500206410885  </td><td>2523191226702764579</td><td>4378838        </td><td>20.4060001373291  </td><td>0.004482000134885311 </td><td>-10.30678919</td><td>0.009606899693608284  </td><td>55908.615614 </td><td>35651585   </td><td>0           </td><td>196608      </td><td>6691          </td><td>nan               </td><td>nan                   </td><td>12        </td><td>19.98189926147461 </td><td>0.023643000051379204 </td><td>114.3622237 </td><td>0.009944089688360691  </td><td>2523185583384173091</td><td>4357815        </td></tr>\n",
       "<tr><td><i style='opacity: 0.6'>3</i>          </td><td>0.4004000127315521    </td><td>0.6610999703407288    </td><td>0.5740000009536743</td><td>204.97799682617188   </td><td>0.0                       </td><td>0.0                           </td><td>-2.07204008102417   </td><td>29                                </td><td>1                         </td><td>254                        </td><td>0                     </td><td>255                   </td><td>31                         </td><td>False                     </td><td>1.59241675755964           </td><td>0.00604086946001868              </td><td>0.0559857003390789       </td><td>21.91230010986328      </td><td>5.33922697144086</td><td>1              </td><td>0.3629699945449829  </td><td>0.893097996711731 </td><td>-10.3064048795547</td><td>0.0203749427366493</td><td>0.022291399538517    </td><td>0.1977110058069229 </td><td>0.16710300743579865  </td><td>b'Gaia DR2 30410949258'</td><td>1.07896884817289e-05</td><td>False              </td><td>96139        </td><td>0.21459999680519104           </td><td>0.32899999618530273           </td><td>0.2957000136375427</td><td>0.2248699963092804 </td><td>-31.3762366173147</td><td>118.38453044293 </td><td>200111       </td><td>0                          </td><td>0.530128002166748 </td><td>15.40470027923584 </td><td>0.0004419999895617366</td><td>-10.30639512</td><td>0.0005825950065627694</td><td>56075.0212668</td><td>102760517  </td><td>128         </td><td>196608      </td><td>6620          </td><td>15.461700439453125</td><td>0.0007970000151544809</td><td>8         </td><td>15.410699844360352</td><td>0.0008829999715089798</td><td>114.36357356</td><td>0.0005648889928124845</td><td>2523191306964965852</td><td>4379137        </td><td>14.830900192260742</td><td>0.0003150000120513141 </td><td>-10.30640435</td><td>0.00030564400367438793</td><td>55901.9228214</td><td>102760517  </td><td>128         </td><td>196608      </td><td>6620          </td><td>14.916399955749512</td><td>0.0006360000115819275</td><td>6         </td><td>412913860965022</td><td>14.950699806213379</td><td>0.0007520000217482448</td><td>114.36357653</td><td>0.0003167059912811965</td><td>2523204911005440476</td><td>4429816        </td><td>227.396802659003</td><td>1.3387800455093384    </td><td>1.6754100322723389    </td><td>1.507099986076355</td><td>31                    </td><td>-0.007807699963450432 </td><td>95631143635682715</td><td>-10.30639653</td><td>114.36357457</td><td>0.690934247532376 </td><td>0.0323792408325608</td><td>21.33880043029785    </td><td>-0.08072640001773834 </td><td>0.30392101407051086 </td><td>9463.27855861446   </td><td>24.1324392703972         </td><td>392.1390075683594             </td><td>15.411299705505371</td><td>30             </td><td>1.2190099954605103        </td><td>18031.0270522842  </td><td>7.75783330609872        </td><td>2324.22998046875             </td><td>15.048299789428711</td><td>272           </td><td>0               </td><td>12516.8017322617   </td><td>18.0179222948202         </td><td>694.6859741210938             </td><td>14.518199920654297</td><td>29             </td><td>b'NOT_AVAILABLE'    </td><td>-4.5572467018892 </td><td>0.0412321006608762</td><td>-0.467864031477836</td><td>0.0516863266437345</td><td>-0.15773899853229523</td><td>100001       </td><td>1                 </td><td>3                  </td><td>1082          </td><td>114.363563897429</td><td>-0.014596699737012386</td><td>0.0251061794876644</td><td>0.12449400126934052 </td><td>0.17037299275398254 </td><td>0.14946100115776062 </td><td>nan              </td><td>nan                    </td><td>1.1035000085830688       </td><td>1.3869600296020508       </td><td>1.2897100448608398</td><td>1078361349    </td><td>0.803264017964959 </td><td>14.991000175476074</td><td>0.0003499999875202775</td><td>-10.30639653</td><td>0.0004240160051267594</td><td>2015.5     </td><td>56109.7847011</td><td>102760517  </td><td>128         </td><td>196608      </td><td>6620          </td><td>15.044899940490723</td><td>0.0006079999729990959</td><td>8         </td><td>14.997099876403809</td><td>0.0006670000148005784</td><td>114.36357457</td><td>0.0004232439969200641</td><td>2523204884161894876</td><td>4429716        </td><td>0               </td><td>nan               </td><td>nan               </td><td>nan               </td><td>42         </td><td>1635721458409799680</td><td>3041094925866645888</td><td>0         </td><td>5430.3701171875        </td><td>6088.0                 </td><td>5631.39013671875</td><td>2       </td><td>1147357000011010</td><td>14                       </td><td>14.749099731445312</td><td>0.00032500000088475645</td><td>-10.30639605</td><td>0.000504172989167273 </td><td>55964.5421932</td><td>102760517  </td><td>128         </td><td>196608      </td><td>6620          </td><td>14.834500312805176</td><td>0.0011859999503940344</td><td>14        </td><td>14.782999992370605</td><td>0.001041000010445714 </td><td>114.36357451</td><td>0.0005008170264773071 </td><td>2523191226702764508</td><td>4378838        </td><td>14.784799575805664</td><td>0.0003370000049471855</td><td>-10.30639733</td><td>0.0003130979894194752 </td><td>55908.615614 </td><td>102760517  </td><td>128         </td><td>196608      </td><td>6620          </td><td>14.863200187683105</td><td>0.0006350000039674342 </td><td>14        </td><td>14.795100212097168</td><td>0.0006569999968633056</td><td>114.36357417</td><td>0.00031799799762666225</td><td>2523185583384173020</td><td>4357815        </td></tr>\n",
       "<tr><td><i style='opacity: 0.6'>4</i>          </td><td>nan                   </td><td>nan                   </td><td>nan               </td><td>268.7799987792969    </td><td>0.236702197622977         </td><td>1.49393550684022              </td><td>1.2052299976348877  </td><td>28                                </td><td>3                         </td><td>247                        </td><td>0                     </td><td>250                   </td><td>31                         </td><td>False                     </td><td>1.52022588169342           </td><td>0.0174935461934308               </td><td>0.14236299693584442      </td><td>2.2188398838043213     </td><td>5.33604978663194</td><td>1              </td><td>0.4880810081958771  </td><td>1.1120400428771973</td><td>-10.3039665579284</td><td>0.0586986345169413</td><td>0.04016340151429176  </td><td>0.24853000044822693</td><td>0.14137999713420868  </td><td>b'Gaia DR2 30410949258'</td><td>0.000107295355634266</td><td>False              </td><td>96139        </td><td>nan                           </td><td>nan                           </td><td>nan               </td><td>0.2256689965724945 </td><td>-31.3747989400745</td><td>118.378268494035</td><td>-9999        </td><td>0                          </td><td>0.623960018157959 </td><td>17.6875           </td><td>0.0012649999698624015</td><td>-10.30396097</td><td>0.001940310001373291 </td><td>56075.0212668</td><td>102760517  </td><td>128         </td><td>196608      </td><td>6877          </td><td>17.755399703979492</td><td>0.0031610000878572464</td><td>7         </td><td>17.680700302124023</td><td>0.002911000046879053 </td><td>114.35852123</td><td>0.00189712003339082  </td><td>2523191306964966109</td><td>4379137        </td><td>16.839599609375   </td><td>0.0007929999846965075 </td><td>-10.30396061</td><td>0.0010019800392910838 </td><td>55901.9228214</td><td>102760517  </td><td>128         </td><td>196608      </td><td>6877          </td><td>16.9512996673584  </td><td>0.002778999973088503 </td><td>4         </td><td>412913860964009</td><td>16.727100372314453</td><td>0.00228599994443357  </td><td>114.35852472</td><td>0.0010671300115063787</td><td>2523204911005440733</td><td>4429816        </td><td>227.392249132332</td><td>nan                   </td><td>nan                   </td><td>nan              </td><td>30                    </td><td>-0.055750999599695206 </td><td>95631143585135630</td><td>-10.30390564</td><td>114.35842203</td><td>0.456829066892826 </td><td>0.0928242632620256</td><td>4.921440124511719    </td><td>-0.11377699673175812 </td><td>0.2814890146255493  </td><td>1206.68973527924   </td><td>8.16792062761643         </td><td>147.73500061035156            </td><td>17.64739990234375 </td><td>29             </td><td>1.2245500087738037        </td><td>2579.99638999618  </td><td>2.13089468424033        </td><td>1210.760009765625            </td><td>17.159299850463867</td><td>261           </td><td>0               </td><td>1952.65038314469   </td><td>7.73162822414567         </td><td>252.5540008544922             </td><td>16.535400390625   </td><td>28             </td><td>b'NOT_AVAILABLE'    </td><td>-4.04904552258259</td><td>0.118837439298256 </td><td>-2.43538362695877 </td><td>0.151549276934147 </td><td>-0.18273000419139862</td><td>-9999        </td><td>1                 </td><td>3                  </td><td>1082          </td><td>114.358512066843</td><td>-0.061104800552129745</td><td>0.0710399652048693</td><td>0.09984540194272995 </td><td>0.13280600309371948 </td><td>0.12727400660514832 </td><td>nan              </td><td>nan                    </td><td>nan                      </td><td>nan                      </td><td>nan               </td><td>1251370316    </td><td>0.0964389770258581</td><td>17.296199798583984</td><td>0.0010110000148415565</td><td>-10.30390564</td><td>0.0036257898900657892</td><td>2015.5     </td><td>56109.7847011</td><td>102776839  </td><td>128         </td><td>196608      </td><td>6877          </td><td>17.366300582885742</td><td>0.0071680000983178616</td><td>1         </td><td>17.690200805664062</td><td>0.006610000040382147 </td><td>114.35842203</td><td>0.0037572600413113832</td><td>2523204884161895133</td><td>4429716        </td><td>0               </td><td>nan               </td><td>nan               </td><td>nan               </td><td>42         </td><td>1635721458409799680</td><td>3041094925866646272</td><td>0         </td><td>nan                    </td><td>nan                    </td><td>nan             </td><td>2       </td><td>1147357000010848</td><td>14                       </td><td>16.71030044555664 </td><td>0.0008030000026337802 </td><td>-10.30395729</td><td>0.0019880998879671097</td><td>55964.5421932</td><td>102760517  </td><td>128         </td><td>196608      </td><td>6877          </td><td>16.818700790405273</td><td>0.00621700007468462  </td><td>9         </td><td>16.700599670410156</td><td>0.00392200006172061  </td><td>114.35852612</td><td>0.0019816600251942873 </td><td>2523191226702764765</td><td>4378838        </td><td>16.77389907836914 </td><td>0.0008410000009462237</td><td>-10.30396365</td><td>0.001137629966251552  </td><td>55908.615614 </td><td>102760517  </td><td>128         </td><td>196608      </td><td>6877          </td><td>16.883100509643555</td><td>0.00292299990542233   </td><td>11        </td><td>16.757999420166016</td><td>0.0022980000358074903</td><td>114.35852227</td><td>0.0011512800119817257 </td><td>2523185583384173277</td><td>4357815        </td></tr>\n",
       "<tr><td>...                                    </td><td>...                   </td><td>...                   </td><td>...               </td><td>...                  </td><td>...                       </td><td>...                           </td><td>...                 </td><td>...                               </td><td>...                       </td><td>...                        </td><td>...                   </td><td>...                   </td><td>...                        </td><td>...                       </td><td>...                        </td><td>...                              </td><td>...                      </td><td>...                    </td><td>...             </td><td>...            </td><td>...                 </td><td>...               </td><td>...              </td><td>...               </td><td>...                  </td><td>...                </td><td>...                  </td><td>...                    </td><td>...                 </td><td>...                </td><td>...          </td><td>...                           </td><td>...                           </td><td>...               </td><td>...                </td><td>...              </td><td>...             </td><td>...          </td><td>...                        </td><td>...               </td><td>...               </td><td>...                  </td><td>...         </td><td>...                  </td><td>...          </td><td>...        </td><td>...         </td><td>...         </td><td>...           </td><td>...               </td><td>...                  </td><td>...       </td><td>...               </td><td>...                  </td><td>...         </td><td>...                  </td><td>...                </td><td>...            </td><td>...               </td><td>...                   </td><td>...         </td><td>...                   </td><td>...          </td><td>...        </td><td>...         </td><td>...         </td><td>...           </td><td>...               </td><td>...                  </td><td>...       </td><td>...            </td><td>...               </td><td>...                  </td><td>...         </td><td>...                  </td><td>...                </td><td>...            </td><td>...             </td><td>...                   </td><td>...                   </td><td>...              </td><td>...                   </td><td>...                   </td><td>...              </td><td>...         </td><td>...         </td><td>...               </td><td>...               </td><td>...                  </td><td>...                  </td><td>...                 </td><td>...                </td><td>...                      </td><td>...                           </td><td>...               </td><td>...            </td><td>...                       </td><td>...               </td><td>...                     </td><td>...                          </td><td>...               </td><td>...           </td><td>...             </td><td>...                </td><td>...                      </td><td>...                           </td><td>...               </td><td>...            </td><td>...                 </td><td>...              </td><td>...               </td><td>...               </td><td>...               </td><td>...                 </td><td>...          </td><td>...               </td><td>...                </td><td>...           </td><td>...             </td><td>...                  </td><td>...               </td><td>...                 </td><td>...                 </td><td>...                 </td><td>...              </td><td>...                    </td><td>...                      </td><td>...                      </td><td>...               </td><td>...           </td><td>...               </td><td>...               </td><td>...                  </td><td>...         </td><td>...                  </td><td>...        </td><td>...          </td><td>...        </td><td>...         </td><td>...         </td><td>...           </td><td>...               </td><td>...                  </td><td>...       </td><td>...               </td><td>...                  </td><td>...         </td><td>...                  </td><td>...                </td><td>...            </td><td>...             </td><td>...               </td><td>...               </td><td>...               </td><td>...        </td><td>...                </td><td>...                </td><td>...       </td><td>...                    </td><td>...                    </td><td>...             </td><td>...     </td><td>...             </td><td>...                      </td><td>...               </td><td>...                   </td><td>...         </td><td>...                  </td><td>...          </td><td>...        </td><td>...         </td><td>...         </td><td>...           </td><td>...               </td><td>...                  </td><td>...       </td><td>...               </td><td>...                  </td><td>...         </td><td>...                   </td><td>...                </td><td>...            </td><td>...               </td><td>...                  </td><td>...         </td><td>...                   </td><td>...          </td><td>...        </td><td>...         </td><td>...         </td><td>...           </td><td>...               </td><td>...                   </td><td>...       </td><td>...               </td><td>...                  </td><td>...         </td><td>...                   </td><td>...                </td><td>...            </td></tr>\n",
       "<tr><td><i style='opacity: 0.6'>199,999,995</i></td><td>nan                   </td><td>nan                   </td><td>nan               </td><td>55.58580017089844    </td><td>1.48079576607608          </td><td>0.622787218865932             </td><td>0.9052780270576477  </td><td>6                                 </td><td>1                         </td><td>52                         </td><td>0                     </td><td>53                    </td><td>3                          </td><td>False                     </td><td>nan                        </td><td>nan                              </td><td>22.01609992980957        </td><td>0.03271710127592087    </td><td>4.13329759145725</td><td>1              </td><td>0.24651700258255005 </td><td>2.1859400272369385</td><td>-20.5781654036997</td><td>4.74329213334316  </td><td>nan                  </td><td>nan                </td><td>nan                  </td><td>b'Gaia DR2 41188907523'</td><td>4.41901918826188e-05</td><td>False              </td><td>109650       </td><td>nan                           </td><td>nan                           </td><td>nan               </td><td>1.249940037727356  </td><td>2.82498349526133 </td><td>266.876244521391</td><td>-9999        </td><td>0                          </td><td>1.9394299983978271</td><td>nan               </td><td>0.011110999621450901 </td><td>-20.57812868</td><td>0.14113999903202057  </td><td>55908.0916217</td><td>35651585   </td><td>4           </td><td>196608      </td><td>108257        </td><td>nan               </td><td>nan                  </td><td>10        </td><td>23.768600463867188</td><td>0.30081498622894287  </td><td>266.66712905</td><td>0.15021100640296936  </td><td>2523156715566900961</td><td>4250274        </td><td>20.696399688720703</td><td>0.004621999803930521  </td><td>-20.57813363</td><td>0.0061514899134635925 </td><td>55818.7033292</td><td>35651585   </td><td>4           </td><td>196608      </td><td>108257        </td><td>nan               </td><td>nan                  </td><td>14        </td><td>470943164086061</td><td>19.980499267578125</td><td>0.013532999902963638 </td><td>266.66712439</td><td>0.006382139865309    </td><td>2523156752879429345</td><td>4250413        </td><td>7.27465469795363</td><td>nan                   </td><td>nan                   </td><td>nan              </td><td>6                     </td><td>0.41736701130867004   </td><td>83302666671536575</td><td>-20.57813262</td><td>266.66712377</td><td>nan               </td><td>nan               </td><td>nan                  </td><td>nan                  </td><td>nan                 </td><td>65.5676814855922   </td><td>1.39760290510963         </td><td>46.914398193359375            </td><td>20.80970001220703 </td><td>3              </td><td>3.126349925994873         </td><td>112.224566911851  </td><td>1.22705686590604        </td><td>91.45829772949219            </td><td>20.563100814819336</td><td>52            </td><td>0               </td><td>285.285558057924   </td><td>36.8267196336031         </td><td>7.746699810028076             </td><td>18.623699188232422</td><td>5              </td><td>b'NOT_AVAILABLE'    </td><td>nan              </td><td>nan               </td><td>nan               </td><td>nan               </td><td>nan                 </td><td>-9999        </td><td>1                 </td><td>3                  </td><td>858           </td><td>266.66715542061 </td><td>0.919651985168457    </td><td>5.7444104851072   </td><td>nan                 </td><td>nan                 </td><td>nan                 </td><td>nan              </td><td>nan                    </td><td>nan                      </td><td>nan                      </td><td>nan               </td><td>1632585653    </td><td>0.856287294864922 </td><td>nan               </td><td>0.004366000182926655 </td><td>-20.57813262</td><td>0.02437019906938076  </td><td>2015.5     </td><td>55975.103305 </td><td>35651585   </td><td>4           </td><td>196608      </td><td>108257        </td><td>nan               </td><td>nan                  </td><td>5         </td><td>21.128700256347656</td><td>0.054933998733758926 </td><td>266.66712377</td><td>0.0258479006588459   </td><td>2523154722165204705</td><td>4242848        </td><td>0               </td><td>nan               </td><td>nan               </td><td>nan               </td><td>82         </td><td>1635721458409799680</td><td>4118890752351791360</td><td>0         </td><td>nan                    </td><td>nan                    </td><td>nan             </td><td>2       </td><td>1078410000025095</td><td>5                        </td><td>nan               </td><td>0.004695000126957893  </td><td>-20.57813487</td><td>0.012626600451767445 </td><td>55975.9396388</td><td>35667969   </td><td>0           </td><td>196608      </td><td>108257        </td><td>nan               </td><td>nan                  </td><td>15        </td><td>19.175899505615234</td><td>0.031339000910520554 </td><td>266.66711774</td><td>0.01371460035443306   </td><td>2523163610063152865</td><td>4275958        </td><td>nan               </td><td>0.0031530000269412994</td><td>-20.57813748</td><td>0.009808099828660488  </td><td>55732.2757613</td><td>35667969   </td><td>0           </td><td>196608      </td><td>108257        </td><td>nan               </td><td>nan                   </td><td>14        </td><td>19.637399673461914</td><td>0.02079400047659874  </td><td>266.66711316</td><td>0.01020949985831976   </td><td>2523157498861561569</td><td>4253192        </td></tr>\n",
       "<tr><td><i style='opacity: 0.6'>199,999,996</i></td><td>2.236299991607666     </td><td>2.4326999187469482    </td><td>2.3564999103546143</td><td>724.2420043945312    </td><td>0.640738789292254         </td><td>27.8299669629525              </td><td>18.540599822998047  </td><td>16                                </td><td>0                         </td><td>140                        </td><td>0                     </td><td>140                   </td><td>31                         </td><td>False                     </td><td>1.16772247752773           </td><td>0.0281479801991604               </td><td>0.18496400117874146      </td><td>2.0554800033569336     </td><td>4.13880490374506</td><td>1              </td><td>2.437459945678711   </td><td>3.9205000400543213</td><td>-20.5757657151494</td><td>0.0941081542564982</td><td>-0.3640489876270294  </td><td>-0.4947449862957001</td><td>-0.12222599983215332 </td><td>b'Gaia DR2 41189376878'</td><td>1.51831774125319e-05</td><td>False              </td><td>109650       </td><td>1.2795000076293945            </td><td>1.3976999521255493            </td><td>1.3508000373840332</td><td>1.253980040550232  </td><td>2.82726706412949 </td><td>266.871200678277</td><td>-9999        </td><td>0                          </td><td>1.4830399751663208</td><td>19.061599731445312</td><td>0.002472999971359968 </td><td>-20.57575272</td><td>0.0027454199735075235</td><td>55908.0916217</td><td>35651585   </td><td>0           </td><td>196608      </td><td>109905        </td><td>19.25749969482422 </td><td>0.007178000174462795 </td><td>10        </td><td>19.047700881958008</td><td>0.00585100008174777  </td><td>266.66183681</td><td>0.002921879990026355 </td><td>2523156715566902609</td><td>4250274        </td><td>14.660499572753906</td><td>0.00028700000257231295</td><td>-20.57574152</td><td>0.0002548760094214231 </td><td>55818.7033292</td><td>102760453  </td><td>128         </td><td>196608      </td><td>109905        </td><td>14.871299743652344</td><td>0.0004689999914262444</td><td>11        </td><td>470943164083479</td><td>14.83489990234375 </td><td>0.0005119999987073243</td><td>266.66184483</td><td>0.0002448419982101768</td><td>2523156752879430993</td><td>4250413        </td><td>7.27414081110756</td><td>nan                   </td><td>nan                   </td><td>nan              </td><td>16                    </td><td>0.01869169995188713   </td><td>83302666618379397</td><td>-20.57575075</td><td>266.6618369 </td><td>0.108934893715367 </td><td>0.11716255193859  </td><td>0.9297760128974915   </td><td>0.29369398951530457  </td><td>-0.2029770016670227 </td><td>984.087285923257   </td><td>36.5966918022798         </td><td>26.890100479125977            </td><td>17.868799209594727</td><td>15             </td><td>1.7473599910736084        </td><td>12670.9723004555  </td><td>14.2105652906888        </td><td>891.6589965820312            </td><td>15.431300163269043</td><td>139           </td><td>0               </td><td>21156.6616706217   </td><td>151.518757661418         </td><td>139.63099670410156            </td><td>13.9483003616333  </td><td>16             </td><td>b'NOT_AVAILABLE'    </td><td>0.197235066888541</td><td>0.163389958428642 </td><td>-3.67492881565174 </td><td>0.196999469636664 </td><td>0.13771800696849823 </td><td>100001       </td><td>1                 </td><td>3                  </td><td>858           </td><td>266.661832373523</td><td>0.1147100031375885   </td><td>0.102046330198845 </td><td>-0.06593870371580124</td><td>-0.19552600383758545</td><td>-0.23318099975585938</td><td>nan              </td><td>nan                    </td><td>nan                      </td><td>nan                      </td><td>nan               </td><td>529521047     </td><td>0.34139834655579  </td><td>16.66990089416504 </td><td>0.0008900000248104334</td><td>-20.57575075</td><td>0.0009872789960354567</td><td>2015.5     </td><td>55975.103305 </td><td>102760453  </td><td>128         </td><td>196608      </td><td>109905        </td><td>nan               </td><td>nan                  </td><td>7         </td><td>16.61090087890625 </td><td>0.001661999966017902 </td><td>266.6618369 </td><td>0.0009321090183220804</td><td>2523154722165206353</td><td>4242848        </td><td>0               </td><td>nan               </td><td>nan               </td><td>nan               </td><td>82         </td><td>1635721458409799680</td><td>4118937687806438528</td><td>0         </td><td>3284.330078125         </td><td>3836.6201171875        </td><td>3323.75         </td><td>2       </td><td>1078410000024136</td><td>10                       </td><td>12.98390007019043 </td><td>0.000155999994603917  </td><td>-20.57577565</td><td>0.0002446229918859899</td><td>55975.9396388</td><td>103825415  </td><td>128         </td><td>196608      </td><td>109905        </td><td>13.132599830627441</td><td>0.0005409999866969883</td><td>10        </td><td>13.197199821472168</td><td>0.0006070000235922635</td><td>266.66183009</td><td>0.00026570100453682244</td><td>2523163610063154513</td><td>4275958        </td><td>13.560199737548828</td><td>0.0001849999971454963</td><td>-20.57573811</td><td>0.00027720199432224035</td><td>55732.2757613</td><td>102760453  </td><td>128         </td><td>196608      </td><td>109905        </td><td>13.731300354003906</td><td>0.00047900000936351717</td><td>6         </td><td>13.733200073242188</td><td>0.0005239999736659229</td><td>266.661837  </td><td>0.0002868330047931522 </td><td>2523157498861563217</td><td>4253192        </td></tr>\n",
       "<tr><td><i style='opacity: 0.6'>199,999,997</i></td><td>nan                   </td><td>nan                   </td><td>nan               </td><td>159.1219940185547    </td><td>0.63475091158729          </td><td>3.05668314718394              </td><td>2.644629955291748   </td><td>14                                </td><td>2                         </td><td>120                        </td><td>0                     </td><td>122                   </td><td>31                         </td><td>False                     </td><td>1.34522255319301           </td><td>0.0485295582413723               </td><td>0.37674200534820557      </td><td>0.7356410026550293     </td><td>4.14012955710978</td><td>1              </td><td>1.4231300354003906  </td><td>2.7923200130462646</td><td>-20.5748250995782</td><td>0.160633512382642 </td><td>-0.38749799132347107 </td><td>-0.349153995513916 </td><td>-0.018675999715924263</td><td>b'Gaia DR2 41189376834'</td><td>2.7507939659278e-05 </td><td>False              </td><td>109650       </td><td>nan                           </td><td>nan                           </td><td>nan               </td><td>1.254870057106018  </td><td>2.82818469615291 </td><td>266.870197885186</td><td>-9999        </td><td>0                          </td><td>1.369189977645874 </td><td>20.67060089111328 </td><td>0.005187999922782183 </td><td>-20.57481608</td><td>0.008019779808819294 </td><td>55908.0916217</td><td>35651585   </td><td>0           </td><td>196608      </td><td>110190        </td><td>20.82990074157715 </td><td>0.026598000898957253 </td><td>10        </td><td>20.51609992980957 </td><td>0.017092999070882797 </td><td>266.66079412</td><td>0.008535239845514297 </td><td>2523156715566902894</td><td>4250274        </td><td>17.18910026550293 </td><td>0.0009190000128000975 </td><td>-20.57479587</td><td>0.0008655400015413761 </td><td>55818.7033292</td><td>35651585   </td><td>0           </td><td>196608      </td><td>110190        </td><td>17.418500900268555</td><td>0.002174000022932887 </td><td>13        </td><td>470943164082974</td><td>17.292699813842773</td><td>0.0019039999460801482</td><td>266.66079089</td><td>0.0008979929843917489</td><td>2523156752879431278</td><td>4250413        </td><td>7.27444241113825</td><td>nan                   </td><td>nan                   </td><td>nan              </td><td>14                    </td><td>0.09434939920902252   </td><td>83312666607670580</td><td>-20.5747961 </td><td>266.66079179</td><td>0.0786879183512308</td><td>0.208143446102708 </td><td>0.37804698944091797  </td><td>0.3948360085487366   </td><td>-0.1291390061378479 </td><td>244.298594353572   </td><td>17.958948936151          </td><td>13.60319995880127             </td><td>19.38159942626953 </td><td>12             </td><td>1.7011499404907227        </td><td>1235.84762071479  </td><td>2.86386317154662        </td><td>431.5320129394531            </td><td>17.958499908447266</td><td>120           </td><td>0               </td><td>1858.06643925026   </td><td>32.3628940161414         </td><td>57.41350173950195             </td><td>16.58930015563965 </td><td>13             </td><td>b'NOT_AVAILABLE'    </td><td>-1.59652515028956</td><td>0.354119762468706 </td><td>-4.38280029160549 </td><td>0.363271442457637 </td><td>0.3865939974784851  </td><td>-9999        </td><td>1                 </td><td>3                  </td><td>858           </td><td>266.660785580688</td><td>0.16273300349712372  </td><td>0.170627904509431 </td><td>-0.07678420096635818</td><td>-0.07918880134820938</td><td>-0.16791699826717377</td><td>nan              </td><td>nan                    </td><td>nan                      </td><td>nan                      </td><td>nan               </td><td>74521268      </td><td>0.305161830322036 </td><td>18.432100296020508</td><td>0.0020039998926222324</td><td>-20.5747961 </td><td>0.0020615800749510527</td><td>2015.5     </td><td>55975.103305 </td><td>35651585   </td><td>0           </td><td>196608      </td><td>110190        </td><td>18.677799224853516</td><td>0.00597700010985136  </td><td>7         </td><td>18.296499252319336</td><td>0.004647000227123499 </td><td>266.66079179</td><td>0.0021865800954401493</td><td>2523154722165206638</td><td>4242848        </td><td>0               </td><td>nan               </td><td>nan               </td><td>nan               </td><td>82         </td><td>1635721458409799680</td><td>4118937683426662272</td><td>0         </td><td>nan                    </td><td>nan                    </td><td>nan             </td><td>2       </td><td>1078410000023955</td><td>9                        </td><td>16.176000595092773</td><td>0.0006760000251233578 </td><td>-20.57479466</td><td>0.001141209970228374 </td><td>55975.9396388</td><td>35651585   </td><td>0           </td><td>196608      </td><td>110190        </td><td>16.3789005279541  </td><td>0.003880999982357025 </td><td>10        </td><td>16.09589958190918 </td><td>0.002831999910995364 </td><td>266.66078946</td><td>0.0012395400553941727 </td><td>2523163610063154798</td><td>4275958        </td><td>16.529800415039062</td><td>0.0007239999831654131</td><td>-20.57479487</td><td>0.0009975970024242997 </td><td>55732.2757613</td><td>35651585   </td><td>0           </td><td>196608      </td><td>110190        </td><td>nan               </td><td>nan                   </td><td>9         </td><td>16.5841007232666  </td><td>0.0021150000393390656</td><td>266.66079451</td><td>0.0010384300258010626 </td><td>2523157498861563502</td><td>4253192        </td></tr>\n",
       "<tr><td><i style='opacity: 0.6'>199,999,998</i></td><td>nan                   </td><td>nan                   </td><td>nan               </td><td>94.44429779052734    </td><td>0.0                       </td><td>0.0                           </td><td>0.9020339846611023  </td><td>10                                </td><td>0                         </td><td>88                         </td><td>0                     </td><td>88                    </td><td>3                          </td><td>False                     </td><td>nan                        </td><td>nan                              </td><td>92.9937973022461         </td><td>0.0692962035536766     </td><td>4.13578270949028</td><td>1              </td><td>-0.07264140248298645</td><td>1.8709700107574463</td><td>-20.5754206508913</td><td>6.37200923992722  </td><td>nan                  </td><td>nan                </td><td>nan                  </td><td>b'Gaia DR2 41189376877'</td><td>4.40336211097087e-05</td><td>False              </td><td>109650       </td><td>nan                           </td><td>nan                           </td><td>nan               </td><td>1.2514100074768066 </td><td>2.82769858734486 </td><td>266.874930681336</td><td>-9999        </td><td>0                          </td><td>1.9436099529266357</td><td>21.768699645996094</td><td>0.008603000082075596 </td><td>-20.57543079</td><td>0.02283499948680401  </td><td>55908.0916217</td><td>35667969   </td><td>0           </td><td>196608      </td><td>108625        </td><td>21.830799102783203</td><td>0.0713450014591217   </td><td>10        </td><td>21.659799575805664</td><td>0.0486689992249012   </td><td>266.66585621</td><td>0.02430270053446293  </td><td>2523156715566901329</td><td>4250274        </td><td>19.00790023803711 </td><td>0.002124000107869506  </td><td>-20.57546097</td><td>0.003449779935181141  </td><td>55818.7033292</td><td>35667969   </td><td>0           </td><td>196608      </td><td>108625        </td><td>19.15850067138672 </td><td>0.010107999667525291 </td><td>11        </td><td>470943164085447</td><td>19.14150047302246 </td><td>0.0075889998115599155</td><td>266.66587462</td><td>0.003579129930585623 </td><td>2523156752879429713</td><td>4250413        </td><td>7.27636733896042</td><td>nan                   </td><td>nan                   </td><td>nan              </td><td>10                    </td><td>0.34696701169013977   </td><td>83302666659169826</td><td>-20.57545101</td><td>266.66585536</td><td>nan               </td><td>nan               </td><td>nan                  </td><td>nan                  </td><td>nan                 </td><td>148.963850993624   </td><td>14.6125615094144         </td><td>10.194199562072754            </td><td>19.918699264526367</td><td>8              </td><td>3.3358099460601807        </td><td>190.027138387882  </td><td>1.23560587590516        </td><td>153.79299926757812           </td><td>19.991300582885742</td><td>88            </td><td>0               </td><td>484.930680196634   </td><td>35.6400629300886         </td><td>13.606300354003906            </td><td>18.047700881958008</td><td>10             </td><td>b'NOT_AVAILABLE'    </td><td>nan              </td><td>nan               </td><td>nan               </td><td>nan               </td><td>nan                 </td><td>-9999        </td><td>1                 </td><td>3                  </td><td>858           </td><td>266.665821291912</td><td>0.9927380084991455   </td><td>6.46261669059682  </td><td>nan                 </td><td>nan                 </td><td>nan                 </td><td>nan              </td><td>nan                    </td><td>nan                      </td><td>nan                      </td><td>nan               </td><td>235873768     </td><td>0.0834023711117007</td><td>19.947099685668945</td><td>0.0040270001627504826</td><td>-20.57545101</td><td>0.008443489670753479 </td><td>2015.5     </td><td>55975.103305 </td><td>35651585   </td><td>0           </td><td>196608      </td><td>108625        </td><td>20.11709976196289 </td><td>0.0302910003811121   </td><td>4         </td><td>19.80769920349121 </td><td>0.019032999873161316 </td><td>266.66585536</td><td>0.008955449797213078 </td><td>2523154722165205073</td><td>4242848        </td><td>0               </td><td>nan               </td><td>nan               </td><td>nan               </td><td>82         </td><td>1635721458409799680</td><td>4118937687778627712</td><td>0         </td><td>nan                    </td><td>nan                    </td><td>nan             </td><td>2       </td><td>1078410000024871</td><td>6                        </td><td>18.434200286865234</td><td>0.001914000022225082  </td><td>-20.575444  </td><td>0.007065500132739544 </td><td>55975.9396388</td><td>35667969   </td><td>0           </td><td>196608      </td><td>108625        </td><td>18.550399780273438</td><td>0.02731899917125702  </td><td>10        </td><td>18.380699157714844</td><td>0.01753699965775013  </td><td>266.66586102</td><td>0.0076743001118302345 </td><td>2523163610063153233</td><td>4275958        </td><td>18.58839988708496 </td><td>0.0018690000288188457</td><td>-20.57547422</td><td>0.004300250206142664  </td><td>55732.2757613</td><td>35667969   </td><td>0           </td><td>196608      </td><td>108625        </td><td>18.589799880981445</td><td>0.013944000005722046  </td><td>13        </td><td>18.625            </td><td>0.009116999804973602 </td><td>266.66586324</td><td>0.004476259928196669  </td><td>2523157498861561937</td><td>4253192        </td></tr>\n",
       "<tr><td><i style='opacity: 0.6'>199,999,999</i></td><td>nan                   </td><td>nan                   </td><td>nan               </td><td>64.59919738769531    </td><td>2.50804906689535          </td><td>0.956115102864442             </td><td>1.212630033493042   </td><td>7                                 </td><td>1                         </td><td>57                         </td><td>0                     </td><td>58                    </td><td>3                          </td><td>False                     </td><td>nan                        </td><td>nan                              </td><td>208.88999938964844       </td><td>0.022828800603747368   </td><td>4.13612837572492</td><td>1              </td><td>nan                 </td><td>nan               </td><td>-20.5749799480448</td><td>6.87520753903163  </td><td>nan                  </td><td>nan                </td><td>nan                  </td><td>b'Gaia DR2 41189376877'</td><td>2.86190306086189e-05</td><td>False              </td><td>109650       </td><td>nan                           </td><td>nan                           </td><td>nan               </td><td>1.2516000270843506 </td><td>2.82813596882546 </td><td>266.874782043989</td><td>-9999        </td><td>0                          </td><td>nan               </td><td>nan               </td><td>0.02843499928712845  </td><td>-20.57494857</td><td>0.07210200279951096  </td><td>55908.0916217</td><td>35651585   </td><td>4           </td><td>196608      </td><td>143385        </td><td>nan               </td><td>nan                  </td><td>10        </td><td>22.94529914855957 </td><td>0.153672993183136    </td><td>266.66568739</td><td>0.0767361968755722   </td><td>2523156715566936089</td><td>4250274        </td><td>20.21820068359375 </td><td>0.0037090000696480274 </td><td>-20.5749535 </td><td>0.006969620008021593  </td><td>55818.7033292</td><td>35651585   </td><td>4           </td><td>196608      </td><td>143385        </td><td>nan               </td><td>nan                  </td><td>11        </td><td>470943164085348</td><td>19.97570037841797 </td><td>0.015332999639213085 </td><td>266.66568272</td><td>0.007230950053781271 </td><td>2523156752879464473</td><td>4250413        </td><td>7.2766744992982 </td><td>nan                   </td><td>nan                   </td><td>nan              </td><td>7                     </td><td>0.37728801369667053   </td><td>83312666656880423</td><td>-20.57495247</td><td>266.66568213</td><td>nan               </td><td>nan               </td><td>nan                  </td><td>nan                  </td><td>nan                 </td><td>nan                </td><td>nan                      </td><td>nan                           </td><td>nan               </td><td>0              </td><td>nan                       </td><td>101.017749677568  </td><td>1.46413708726172        </td><td>68.99469757080078            </td><td>20.677400588989258</td><td>58            </td><td>2               </td><td>nan                </td><td>nan                      </td><td>nan                           </td><td>nan               </td><td>0              </td><td>b'NOT_AVAILABLE'    </td><td>nan              </td><td>nan               </td><td>nan               </td><td>nan               </td><td>nan                 </td><td>-9999        </td><td>1                 </td><td>3                  </td><td>858           </td><td>266.665673584539</td><td>0.9405339956283569   </td><td>7.36423001961088  </td><td>nan                 </td><td>nan                 </td><td>nan                 </td><td>nan              </td><td>nan                    </td><td>nan                      </td><td>nan                      </td><td>nan               </td><td>1060673285    </td><td>0.456531709485251 </td><td>23.910499572753906</td><td>0.024985000491142273 </td><td>-20.57495247</td><td>0.03246200084686279  </td><td>2015.5     </td><td>55975.103305 </td><td>35651585   </td><td>4           </td><td>196608      </td><td>143385        </td><td>nan               </td><td>nan                  </td><td>3         </td><td>21.200300216674805</td><td>0.07317399978637695  </td><td>266.66568213</td><td>0.03443029895424843  </td><td>2523154722165239833</td><td>4242848        </td><td>0               </td><td>nan               </td><td>nan               </td><td>nan               </td><td>82         </td><td>1635721458409799680</td><td>4118937687796558848</td><td>0         </td><td>nan                    </td><td>nan                    </td><td>nan             </td><td>2       </td><td>1078410000024829</td><td>5                        </td><td>nan               </td><td>0.00851299986243248   </td><td>-20.5749416 </td><td>0.016036000102758408 </td><td>55975.9396388</td><td>35667969   </td><td>0           </td><td>196608      </td><td>143385        </td><td>nan               </td><td>nan                  </td><td>10        </td><td>19.297399520874023</td><td>0.03980100154876709  </td><td>266.66568458</td><td>0.017417799681425095  </td><td>2523163610063187993</td><td>4275958        </td><td>20.581499099731445</td><td>0.004681000020354986 </td><td>-20.57495226</td><td>0.008703690022230148  </td><td>55732.2757613</td><td>35651585   </td><td>4           </td><td>196608      </td><td>143385        </td><td>nan               </td><td>nan                   </td><td>14        </td><td>19.566200256347656</td><td>0.018453000113368034 </td><td>266.66567884</td><td>0.009059919975697994  </td><td>2523157498861596697</td><td>4253192        </td></tr>\n",
       "</tbody>\n",
       "</table>"
      ],
      "text/plain": [
       "#            a_g_percentile_lower    a_g_percentile_upper    a_g_val             astrometric_chi2_al    astrometric_excess_noise    astrometric_excess_noise_sig    astrometric_gof_al    astrometric_matched_observations    astrometric_n_bad_obs_al    astrometric_n_good_obs_al    astrometric_n_obs_ac    astrometric_n_obs_al    astrometric_params_solved    astrometric_primary_flag    astrometric_pseudo_colour    astrometric_pseudo_colour_error    astrometric_sigma5d_max    astrometric_weight_al    b                 bestdetection    bp_g                  bp_rp               dec                dec_error           dec_parallax_corr      dec_pmdec_corr       dec_pmra_corr          designation              dist                  duplicated_source    dvoregionid    e_bp_min_rp_percentile_lower    e_bp_min_rp_percentile_upper    e_bp_min_rp_val     ebv                  ecl_lat            ecl_lon           flame_flags    frame_rotator_object_type    g_rp                gapmag              gapmagerr              gdec          gdecerr                gepoch         ginfoflag    ginfoflag2    ginfoflag3    gippdetectid    gkronmag            gkronmagerr            gnframes    gpsfmag             gpsfmagerr             gra           graerr                 gstackdetectid       gstackimageid    iapmag              iapmagerr               idec          idecerr                 iepoch         iinfoflag    iinfoflag2    iinfoflag3    iippdetectid    ikronmag            ikronmagerr            inframes    ippobjid         ipsfmag             ipsfmagerr             ira           iraerr                 istackdetectid       istackimageid    l                 lum_percentile_lower    lum_percentile_upper    lum_val            matched_observations    mean_varpi_factor_al    objid              p_dec         p_ra          parallax            parallax_error      parallax_over_error    parallax_pmdec_corr    parallax_pmra_corr    phot_bp_mean_flux    phot_bp_mean_flux_error    phot_bp_mean_flux_over_error    phot_bp_mean_mag    phot_bp_n_obs    phot_bp_rp_excess_factor    phot_g_mean_flux    phot_g_mean_flux_error    phot_g_mean_flux_over_error    phot_g_mean_mag     phot_g_n_obs    phot_proc_mode    phot_rp_mean_flux    phot_rp_mean_flux_error    phot_rp_mean_flux_over_error    phot_rp_mean_mag    phot_rp_n_obs    phot_variable_flag    pmdec              pmdec_error         pmra                pmra_error          pmra_pmdec_corr       priam_flags    primarydetection    processingversion    projectionid    ra                ra_dec_corr            ra_error            ra_parallax_corr      ra_pmdec_corr         ra_pmra_corr          radial_velocity    radial_velocity_error    radius_percentile_lower    radius_percentile_upper    radius_val          random_index    randomstackobjid    rapmag              rapmagerr              rdec          rdecerr                ref_epoch    repoch         rinfoflag    rinfoflag2    rinfoflag3    rippdetectid    rkronmag            rkronmagerr            rnframes    rpsfmag             rpsfmagerr             rra           rraerr                 rstackdetectid       rstackimageid    rv_nb_transits    rv_template_fe_h    rv_template_logg    rv_template_teff    skycellid    solution_id          source_id            surveyid    teff_percentile_lower    teff_percentile_upper    teff_val          tessid    uniquepspsstid    visibility_periods_used    yapmag              yapmagerr               ydec          ydecerr                yepoch         yinfoflag    yinfoflag2    yinfoflag3    yippdetectid    ykronmag            ykronmagerr            ynframes    ypsfmag             ypsfmagerr             yra           yraerr                  ystackdetectid       ystackimageid    zapmag              zapmagerr              zdec          zdecerr                 zepoch         zinfoflag    zinfoflag2    zinfoflag3    zippdetectid    zkronmag            zkronmagerr             znframes    zpsfmag             zpsfmagerr             zra           zraerr                  zstackdetectid       zstackimageid\n",
       "0            nan                     nan                     nan                 278.35400390625        0.463565430615808           1.49006002867494                2.0987000465393066    27                                  2                           236                          0                       238                     31                           False                       1.36373796564467             0.0336767775374772                 0.2703999876976013         0.5764830112457275       5.3310062088769   1                0.9484689831733704    1.8842600584030151  -10.3091114009876  0.116378626203484   0.04726390168070793    0.29888901114463806  0.12965799868106842    b'Gaia DR2 30410948915'  1.18388099435614e-05  False                96139          nan                             nan                             nan                 0.22530299425125122  -31.3804098161502  118.376065081187  -9999          0                            0.935791015625      19.6112003326416    0.003068000078201294   -10.3091215   0.0072778500616550446  56075.0212668  102760453    128           196608        7032            19.692699432373047  0.014081999659538269   8           19.599000930786133  0.010356999933719635   114.35555677  0.007036920171231031   2523191306964966264  4379137          17.695100784301758  0.0011759999906644225   -10.30911878  0.001237310003489256    55901.9228214  102760453    128           196608        7032            17.78689956665039   0.004135999828577042   8           412913860963485  17.714000701904297  0.0028639999218285084  114.35555695  0.0013052199501544237  2523204911005440888  4429816          227.395358246246  nan                     nan                     nan                29                      0.00017986699822358787  95621143557289362  -10.30911843  114.35555883  0.957945085087802   0.180076371312301   5.319660186767578      -0.06908410042524338   0.2367289960384369    271.704423086766     6.51448995857181           41.707698822021484              19.26609992980957   24               1.314710021018982           887.719153204297    1.36522767468661          650.2349853515625              18.317699432373047  250             0                 895.392809188737     5.94965994170056           150.4949951171875               17.381900787353516  23               b'NOT_AVAILABLE'      9.39339509961328   0.233801735330608   -7.34998413797629   0.300267577020865   -0.1093439981341362   -9999          1                   3                    1082            114.355539842572  0.03990960121154785    0.142497693205109   0.15003900229930878   0.13851900398731232   0.07585039734840393   nan                nan                      nan                        nan                        nan                 1335044727      0.699338882881532   18.292299270629883  0.0015999999595806003  -10.30911843  0.002953189890831709   2015.5       56109.7847011  102760453    128           196608        7032            18.343299865722656  0.006176999770104885   9           18.332399368286133  0.004492000211030245   114.35555883  0.0028880699537694454  2523204884161895288  4429716          0                 nan                 nan                 nan                 42           1635721458409799680  3041094891506910592  0           nan                      nan                      nan               2         1147357000010759  14                         17.259899139404297  0.0010339999571442604   -10.30911847  0.0029581799171864986  55964.5421932  102760453    128           196608        7032            17.391199111938477  0.00916799996048212    11          17.27120018005371   0.005809000227600336   114.3555586   0.002938479883596301    2523191226702764920  4378838          17.444299697875977  0.001145999995060265   -10.30911936  0.0018701700028032064   55908.615614   102760453    128           196608        7032            17.527799606323242  0.005361999850720167    10          17.47610092163086   0.003783999942243099   114.35555605  0.0018797400407493114   2523185583384173432  4357815\n",
       "1            nan                     nan                     nan                 231.76300048828125     0.287647817933802           0.17083515587383                1.3494399785995483    24                                  3                           209                          0                       212                     31                           False                       1.40822462079063             0.0624917119706836                 0.5515710115432739         0.2065429985523224       5.33460903128923  1                0.9996470212936401    1.9559099674224854  -10.3078291672708  0.227991878474612   0.197161003947258      0.07309810072183609  0.33017200231552124    b'Gaia DR2 30410948872'  5.37998815550913e-06  False                96139          nan                             nan                             nan                 0.22512699663639069  -31.3784968055346  118.379692716403  -9999          0                            0.9562659859657288  20.430299758911133  0.004474000073969364   -10.30783513  0.014709300361573696   56075.0212668  35651585     0             196608        6857            20.459800720214844  0.031996000558137894   4           20.465299606323242  0.023886000737547874   114.35901771  0.015183299779891968   2523191306964966089  4379137          18.635499954223633  0.0018139999592676759   -10.30782422  0.003984979819506407    55901.9228214  102760453    128           196608        6857            18.660600662231445  0.016674000769853592   3           412913860964104  18.687400817871094  0.008957000449299812   114.35901411  0.004120450001209974   2523204911005440713  4429816          227.395881076008  nan                     nan                     nan                26                      -0.08892440050840378    95631143590160987  -10.30782538  114.35899898  0.446391121981732   0.32456009686601    1.3753700256347656     -0.22298899292945862   0.34370601177215576   111.05649506302      5.12347572527936           21.676000595092773              20.237499237060547  19               1.3198200464248657          380.359405783581    1.37481968774042          276.6610107421875              19.237899780273438  226             0                 390.950934447137     7.5404270201309            51.8473014831543                18.281600952148438  22               b'NOT_AVAILABLE'      0.419851308348398  0.456638363870983   0.275538877018535   0.565733752419666   -0.35183900594711304  -9999          1                   3                    1082            114.359002670978  -0.28889200091362      0.270276459855071   -0.14128300547599792  0.3144429922103882    -0.15301799774169922  nan                nan                      nan                        nan                        nan                 354172319       0.664371275961745   18.98040008544922   0.002196999965235591   -10.30782538  0.005669380072504282   2015.5       56109.7847011  35667969     0             196608        6857            18.873899459838867  0.014612999744713306   6           19.215999603271484  0.01033599954098463    114.35899898  0.0058749401941895485  2523204884161895113  4429716          0                 nan                 nan                 nan                 42           1635721458409799680  3041094887203289856  0           nan                      nan                      nan               2         1147357000010869  12                         18.11669921875      0.001534000039100647    -10.30782352  0.005535250063985586   55964.5421932  102760453    128           196608        6857            18.261600494384766  0.017405999824404716   11          18.130300521850586  0.010742000304162502   114.35901362  0.005540709942579269    2523191226702764745  4378838          18.346799850463867  0.0017359999474138021  -10.3078312   0.003560560056939721    55908.615614   102760453    128           196608        6857            18.486400604248047  0.01040400005877018     9           18.272300720214844  0.007011000066995621   114.35901108  0.0035880000796169043   2523185583384173257  4357815\n",
       "2            nan                     nan                     nan                 96.83080291748047      0.831069527732084           0.0882007658403643              0.62049400806427      11                                  0                           94                           0                       94                      31                           False                       1.54477521579947             0.414858724069629                  3.7952399253845215         0.019727500155568123     5.33788645250021  0                0.3679890036582947    1.2811199426651     -10.3067864634205  1.34547512233383    0.0060073197819292545  0.4358550012111664   -0.1367180049419403    b'Gaia DR2 30410949258'  5.69620311988013e-06  False                96139          nan                             nan                             nan                 0.22494900226593018  -31.376864830992   118.383098792652  -9999          0                            0.9131280183792114  nan                 0.005197999998927116   -10.30678287  0.10337900370359421    56075.0212668  35651585     4             196608        6691            nan                 nan                    8           22.894500732421875  0.16787800192832947    114.36222388  0.1067110002040863     2523191306964965923  4379137          20.172500610351562  0.00368200009688735     -10.30678243  0.00893434975296259     55901.9228214  35651585     0             196608        6691            nan                 nan                    6           412913860964735  20.288299560546875  0.022377999499440193   114.36223358  0.009236750192940235   2523204911005440547  4429816          227.396498589852  nan                     nan                     nan                12                      -0.01215319987386465    95631143622422252  -10.30678458  114.3622232   -0.122052536794764  2.70935987767513    -0.04504850134253502   -0.4527150094509125    -0.3803189992904663   41.156616248421      6.71873532001934           6.125649929046631               21.31529998779297   12               1.5102200508117676          78.7818422446797    1.07270423108978          73.44229888916016              20.94729995727539   105             0                 77.8214488926337     10.7640801912557           7.229740142822266               20.03420066833496   11               b'NOT_AVAILABLE'      2.81880046051095   3.6355509231643     2.2453715924636     3.8013670564704     -0.2798269987106323   -9999          1                   3                    1082            114.362222001869  -0.31504300236701965   2.11318496469728    -0.699550986289978    0.2464590072631836    0.5205960273742676    nan                nan                      nan                        nan                        nan                 1648878903      0.883108242306028   23.760700225830078  0.01985199935734272    -10.30678458  0.020869100466370583   2015.5       56109.7847011  35651585     4             196608        6691            nan                 nan                    9           21.05780029296875   0.038047999143600464   114.3622232   0.02162580005824566    2523204884161894947  4429716          0                 nan                 nan                 nan                 42           1635721458409799680  3041094925863488000  0           nan                      nan                      nan               2         1147357000010966  7                          19.400400161743164  0.0027699999045580626   -10.30679751  0.013158800080418587   55964.5421932  35667969     0             196608        6691            19.69300079345703   0.05087200179696083    15          19.716400146484375  0.037762999534606934   114.36224125  0.014719500206410885    2523191226702764579  4378838          20.4060001373291    0.004482000134885311   -10.30678919  0.009606899693608284    55908.615614   35651585     0             196608        6691            nan                 nan                     12          19.98189926147461   0.023643000051379204   114.3622237   0.009944089688360691    2523185583384173091  4357815\n",
       "3            0.4004000127315521      0.6610999703407288      0.5740000009536743  204.97799682617188     0.0                         0.0                             -2.07204008102417     29                                  1                           254                          0                       255                     31                           False                       1.59241675755964             0.00604086946001868                0.0559857003390789         21.91230010986328        5.33922697144086  1                0.3629699945449829    0.893097996711731   -10.3064048795547  0.0203749427366493  0.022291399538517      0.1977110058069229   0.16710300743579865    b'Gaia DR2 30410949258'  1.07896884817289e-05  False                96139          0.21459999680519104             0.32899999618530273             0.2957000136375427  0.2248699963092804   -31.3762366173147  118.38453044293   200111         0                            0.530128002166748   15.40470027923584   0.0004419999895617366  -10.30639512  0.0005825950065627694  56075.0212668  102760517    128           196608        6620            15.461700439453125  0.0007970000151544809  8           15.410699844360352  0.0008829999715089798  114.36357356  0.0005648889928124845  2523191306964965852  4379137          14.830900192260742  0.0003150000120513141   -10.30640435  0.00030564400367438793  55901.9228214  102760517    128           196608        6620            14.916399955749512  0.0006360000115819275  6           412913860965022  14.950699806213379  0.0007520000217482448  114.36357653  0.0003167059912811965  2523204911005440476  4429816          227.396802659003  1.3387800455093384      1.6754100322723389      1.507099986076355  31                      -0.007807699963450432   95631143635682715  -10.30639653  114.36357457  0.690934247532376   0.0323792408325608  21.33880043029785      -0.08072640001773834   0.30392101407051086   9463.27855861446     24.1324392703972           392.1390075683594               15.411299705505371  30               1.2190099954605103          18031.0270522842    7.75783330609872          2324.22998046875               15.048299789428711  272             0                 12516.8017322617     18.0179222948202           694.6859741210938               14.518199920654297  29               b'NOT_AVAILABLE'      -4.5572467018892   0.0412321006608762  -0.467864031477836  0.0516863266437345  -0.15773899853229523  100001         1                   3                    1082            114.363563897429  -0.014596699737012386  0.0251061794876644  0.12449400126934052   0.17037299275398254   0.14946100115776062   nan                nan                      1.1035000085830688         1.3869600296020508         1.2897100448608398  1078361349      0.803264017964959   14.991000175476074  0.0003499999875202775  -10.30639653  0.0004240160051267594  2015.5       56109.7847011  102760517    128           196608        6620            15.044899940490723  0.0006079999729990959  8           14.997099876403809  0.0006670000148005784  114.36357457  0.0004232439969200641  2523204884161894876  4429716          0                 nan                 nan                 nan                 42           1635721458409799680  3041094925866645888  0           5430.3701171875          6088.0                   5631.39013671875  2         1147357000011010  14                         14.749099731445312  0.00032500000088475645  -10.30639605  0.000504172989167273   55964.5421932  102760517    128           196608        6620            14.834500312805176  0.0011859999503940344  14          14.782999992370605  0.001041000010445714   114.36357451  0.0005008170264773071   2523191226702764508  4378838          14.784799575805664  0.0003370000049471855  -10.30639733  0.0003130979894194752   55908.615614   102760517    128           196608        6620            14.863200187683105  0.0006350000039674342   14          14.795100212097168  0.0006569999968633056  114.36357417  0.00031799799762666225  2523185583384173020  4357815\n",
       "4            nan                     nan                     nan                 268.7799987792969      0.236702197622977           1.49393550684022                1.2052299976348877    28                                  3                           247                          0                       250                     31                           False                       1.52022588169342             0.0174935461934308                 0.14236299693584442        2.2188398838043213       5.33604978663194  1                0.4880810081958771    1.1120400428771973  -10.3039665579284  0.0586986345169413  0.04016340151429176    0.24853000044822693  0.14137999713420868    b'Gaia DR2 30410949258'  0.000107295355634266  False                96139          nan                             nan                             nan                 0.2256689965724945   -31.3747989400745  118.378268494035  -9999          0                            0.623960018157959   17.6875             0.0012649999698624015  -10.30396097  0.001940310001373291   56075.0212668  102760517    128           196608        6877            17.755399703979492  0.0031610000878572464  7           17.680700302124023  0.002911000046879053   114.35852123  0.00189712003339082    2523191306964966109  4379137          16.839599609375     0.0007929999846965075   -10.30396061  0.0010019800392910838   55901.9228214  102760517    128           196608        6877            16.9512996673584    0.002778999973088503   4           412913860964009  16.727100372314453  0.00228599994443357    114.35852472  0.0010671300115063787  2523204911005440733  4429816          227.392249132332  nan                     nan                     nan                30                      -0.055750999599695206   95631143585135630  -10.30390564  114.35842203  0.456829066892826   0.0928242632620256  4.921440124511719      -0.11377699673175812   0.2814890146255493    1206.68973527924     8.16792062761643           147.73500061035156              17.64739990234375   29               1.2245500087738037          2579.99638999618    2.13089468424033          1210.760009765625              17.159299850463867  261             0                 1952.65038314469     7.73162822414567           252.5540008544922               16.535400390625     28               b'NOT_AVAILABLE'      -4.04904552258259  0.118837439298256   -2.43538362695877   0.151549276934147   -0.18273000419139862  -9999          1                   3                    1082            114.358512066843  -0.061104800552129745  0.0710399652048693  0.09984540194272995   0.13280600309371948   0.12727400660514832   nan                nan                      nan                        nan                        nan                 1251370316      0.0964389770258581  17.296199798583984  0.0010110000148415565  -10.30390564  0.0036257898900657892  2015.5       56109.7847011  102776839    128           196608        6877            17.366300582885742  0.0071680000983178616  1           17.690200805664062  0.006610000040382147   114.35842203  0.0037572600413113832  2523204884161895133  4429716          0                 nan                 nan                 nan                 42           1635721458409799680  3041094925866646272  0           nan                      nan                      nan               2         1147357000010848  14                         16.71030044555664   0.0008030000026337802   -10.30395729  0.0019880998879671097  55964.5421932  102760517    128           196608        6877            16.818700790405273  0.00621700007468462    9           16.700599670410156  0.00392200006172061    114.35852612  0.0019816600251942873   2523191226702764765  4378838          16.77389907836914   0.0008410000009462237  -10.30396365  0.001137629966251552    55908.615614   102760517    128           196608        6877            16.883100509643555  0.00292299990542233     11          16.757999420166016  0.0022980000358074903  114.35852227  0.0011512800119817257   2523185583384173277  4357815\n",
       "...          ...                     ...                     ...                 ...                    ...                         ...                             ...                   ...                                 ...                         ...                          ...                     ...                     ...                          ...                         ...                          ...                                ...                        ...                      ...               ...              ...                   ...                 ...                ...                 ...                    ...                  ...                    ...                      ...                   ...                  ...            ...                             ...                             ...                 ...                  ...                ...               ...            ...                          ...                 ...                 ...                    ...           ...                    ...            ...          ...           ...           ...             ...                 ...                    ...         ...                 ...                    ...           ...                    ...                  ...              ...                 ...                     ...           ...                     ...            ...          ...           ...           ...             ...                 ...                    ...         ...              ...                 ...                    ...           ...                    ...                  ...              ...               ...                     ...                     ...                ...                     ...                     ...                ...           ...           ...                 ...                 ...                    ...                    ...                   ...                  ...                        ...                             ...                 ...              ...                         ...                 ...                       ...                            ...                 ...             ...               ...                  ...                        ...                             ...                 ...              ...                   ...                ...                 ...                 ...                 ...                   ...            ...                 ...                  ...             ...               ...                    ...                 ...                   ...                   ...                   ...                ...                      ...                        ...                        ...                 ...             ...                 ...                 ...                    ...           ...                    ...          ...            ...          ...           ...           ...             ...                 ...                    ...         ...                 ...                    ...           ...                    ...                  ...              ...               ...                 ...                 ...                 ...          ...                  ...                  ...         ...                      ...                      ...               ...       ...               ...                        ...                 ...                     ...           ...                    ...            ...          ...           ...           ...             ...                 ...                    ...         ...                 ...                    ...           ...                     ...                  ...              ...                 ...                    ...           ...                     ...            ...          ...           ...           ...             ...                 ...                     ...         ...                 ...                    ...           ...                     ...                  ...\n",
       "199,999,995  nan                     nan                     nan                 55.58580017089844      1.48079576607608            0.622787218865932               0.9052780270576477    6                                   1                           52                           0                       53                      3                            False                       nan                          nan                                22.01609992980957          0.03271710127592087      4.13329759145725  1                0.24651700258255005   2.1859400272369385  -20.5781654036997  4.74329213334316    nan                    nan                  nan                    b'Gaia DR2 41188907523'  4.41901918826188e-05  False                109650         nan                             nan                             nan                 1.249940037727356    2.82498349526133   266.876244521391  -9999          0                            1.9394299983978271  nan                 0.011110999621450901   -20.57812868  0.14113999903202057    55908.0916217  35651585     4             196608        108257          nan                 nan                    10          23.768600463867188  0.30081498622894287    266.66712905  0.15021100640296936    2523156715566900961  4250274          20.696399688720703  0.004621999803930521    -20.57813363  0.0061514899134635925   55818.7033292  35651585     4             196608        108257          nan                 nan                    14          470943164086061  19.980499267578125  0.013532999902963638   266.66712439  0.006382139865309      2523156752879429345  4250413          7.27465469795363  nan                     nan                     nan                6                       0.41736701130867004     83302666671536575  -20.57813262  266.66712377  nan                 nan                 nan                    nan                    nan                   65.5676814855922     1.39760290510963           46.914398193359375              20.80970001220703   3                3.126349925994873           112.224566911851    1.22705686590604          91.45829772949219              20.563100814819336  52              0                 285.285558057924     36.8267196336031           7.746699810028076               18.623699188232422  5                b'NOT_AVAILABLE'      nan                nan                 nan                 nan                 nan                   -9999          1                   3                    858             266.66715542061   0.919651985168457      5.7444104851072     nan                   nan                   nan                   nan                nan                      nan                        nan                        nan                 1632585653      0.856287294864922   nan                 0.004366000182926655   -20.57813262  0.02437019906938076    2015.5       55975.103305   35651585     4             196608        108257          nan                 nan                    5           21.128700256347656  0.054933998733758926   266.66712377  0.0258479006588459     2523154722165204705  4242848          0                 nan                 nan                 nan                 82           1635721458409799680  4118890752351791360  0           nan                      nan                      nan               2         1078410000025095  5                          nan                 0.004695000126957893    -20.57813487  0.012626600451767445   55975.9396388  35667969     0             196608        108257          nan                 nan                    15          19.175899505615234  0.031339000910520554   266.66711774  0.01371460035443306     2523163610063152865  4275958          nan                 0.0031530000269412994  -20.57813748  0.009808099828660488    55732.2757613  35667969     0             196608        108257          nan                 nan                     14          19.637399673461914  0.02079400047659874    266.66711316  0.01020949985831976     2523157498861561569  4253192\n",
       "199,999,996  2.236299991607666       2.4326999187469482      2.3564999103546143  724.2420043945312      0.640738789292254           27.8299669629525                18.540599822998047    16                                  0                           140                          0                       140                     31                           False                       1.16772247752773             0.0281479801991604                 0.18496400117874146        2.0554800033569336       4.13880490374506  1                2.437459945678711     3.9205000400543213  -20.5757657151494  0.0941081542564982  -0.3640489876270294    -0.4947449862957001  -0.12222599983215332   b'Gaia DR2 41189376878'  1.51831774125319e-05  False                109650         1.2795000076293945              1.3976999521255493              1.3508000373840332  1.253980040550232    2.82726706412949   266.871200678277  -9999          0                            1.4830399751663208  19.061599731445312  0.002472999971359968   -20.57575272  0.0027454199735075235  55908.0916217  35651585     0             196608        109905          19.25749969482422   0.007178000174462795   10          19.047700881958008  0.00585100008174777    266.66183681  0.002921879990026355   2523156715566902609  4250274          14.660499572753906  0.00028700000257231295  -20.57574152  0.0002548760094214231   55818.7033292  102760453    128           196608        109905          14.871299743652344  0.0004689999914262444  11          470943164083479  14.83489990234375   0.0005119999987073243  266.66184483  0.0002448419982101768  2523156752879430993  4250413          7.27414081110756  nan                     nan                     nan                16                      0.01869169995188713     83302666618379397  -20.57575075  266.6618369   0.108934893715367   0.11716255193859    0.9297760128974915     0.29369398951530457    -0.2029770016670227   984.087285923257     36.5966918022798           26.890100479125977              17.868799209594727  15               1.7473599910736084          12670.9723004555    14.2105652906888          891.6589965820312              15.431300163269043  139             0                 21156.6616706217     151.518757661418           139.63099670410156              13.9483003616333    16               b'NOT_AVAILABLE'      0.197235066888541  0.163389958428642   -3.67492881565174   0.196999469636664   0.13771800696849823   100001         1                   3                    858             266.661832373523  0.1147100031375885     0.102046330198845   -0.06593870371580124  -0.19552600383758545  -0.23318099975585938  nan                nan                      nan                        nan                        nan                 529521047       0.34139834655579    16.66990089416504   0.0008900000248104334  -20.57575075  0.0009872789960354567  2015.5       55975.103305   102760453    128           196608        109905          nan                 nan                    7           16.61090087890625   0.001661999966017902   266.6618369   0.0009321090183220804  2523154722165206353  4242848          0                 nan                 nan                 nan                 82           1635721458409799680  4118937687806438528  0           3284.330078125           3836.6201171875          3323.75           2         1078410000024136  10                         12.98390007019043   0.000155999994603917    -20.57577565  0.0002446229918859899  55975.9396388  103825415    128           196608        109905          13.132599830627441  0.0005409999866969883  10          13.197199821472168  0.0006070000235922635  266.66183009  0.00026570100453682244  2523163610063154513  4275958          13.560199737548828  0.0001849999971454963  -20.57573811  0.00027720199432224035  55732.2757613  102760453    128           196608        109905          13.731300354003906  0.00047900000936351717  6           13.733200073242188  0.0005239999736659229  266.661837    0.0002868330047931522   2523157498861563217  4253192\n",
       "199,999,997  nan                     nan                     nan                 159.1219940185547      0.63475091158729            3.05668314718394                2.644629955291748     14                                  2                           120                          0                       122                     31                           False                       1.34522255319301             0.0485295582413723                 0.37674200534820557        0.7356410026550293       4.14012955710978  1                1.4231300354003906    2.7923200130462646  -20.5748250995782  0.160633512382642   -0.38749799132347107   -0.349153995513916   -0.018675999715924263  b'Gaia DR2 41189376834'  2.7507939659278e-05   False                109650         nan                             nan                             nan                 1.254870057106018    2.82818469615291   266.870197885186  -9999          0                            1.369189977645874   20.67060089111328   0.005187999922782183   -20.57481608  0.008019779808819294   55908.0916217  35651585     0             196608        110190          20.82990074157715   0.026598000898957253   10          20.51609992980957   0.017092999070882797   266.66079412  0.008535239845514297   2523156715566902894  4250274          17.18910026550293   0.0009190000128000975   -20.57479587  0.0008655400015413761   55818.7033292  35651585     0             196608        110190          17.418500900268555  0.002174000022932887   13          470943164082974  17.292699813842773  0.0019039999460801482  266.66079089  0.0008979929843917489  2523156752879431278  4250413          7.27444241113825  nan                     nan                     nan                14                      0.09434939920902252     83312666607670580  -20.5747961   266.66079179  0.0786879183512308  0.208143446102708   0.37804698944091797    0.3948360085487366     -0.1291390061378479   244.298594353572     17.958948936151            13.60319995880127               19.38159942626953   12               1.7011499404907227          1235.84762071479    2.86386317154662          431.5320129394531              17.958499908447266  120             0                 1858.06643925026     32.3628940161414           57.41350173950195               16.58930015563965   13               b'NOT_AVAILABLE'      -1.59652515028956  0.354119762468706   -4.38280029160549   0.363271442457637   0.3865939974784851    -9999          1                   3                    858             266.660785580688  0.16273300349712372    0.170627904509431   -0.07678420096635818  -0.07918880134820938  -0.16791699826717377  nan                nan                      nan                        nan                        nan                 74521268        0.305161830322036   18.432100296020508  0.0020039998926222324  -20.5747961   0.0020615800749510527  2015.5       55975.103305   35651585     0             196608        110190          18.677799224853516  0.00597700010985136    7           18.296499252319336  0.004647000227123499   266.66079179  0.0021865800954401493  2523154722165206638  4242848          0                 nan                 nan                 nan                 82           1635721458409799680  4118937683426662272  0           nan                      nan                      nan               2         1078410000023955  9                          16.176000595092773  0.0006760000251233578   -20.57479466  0.001141209970228374   55975.9396388  35651585     0             196608        110190          16.3789005279541    0.003880999982357025   10          16.09589958190918   0.002831999910995364   266.66078946  0.0012395400553941727   2523163610063154798  4275958          16.529800415039062  0.0007239999831654131  -20.57479487  0.0009975970024242997   55732.2757613  35651585     0             196608        110190          nan                 nan                     9           16.5841007232666    0.0021150000393390656  266.66079451  0.0010384300258010626   2523157498861563502  4253192\n",
       "199,999,998  nan                     nan                     nan                 94.44429779052734      0.0                         0.0                             0.9020339846611023    10                                  0                           88                           0                       88                      3                            False                       nan                          nan                                92.9937973022461           0.0692962035536766       4.13578270949028  1                -0.07264140248298645  1.8709700107574463  -20.5754206508913  6.37200923992722    nan                    nan                  nan                    b'Gaia DR2 41189376877'  4.40336211097087e-05  False                109650         nan                             nan                             nan                 1.2514100074768066   2.82769858734486   266.874930681336  -9999          0                            1.9436099529266357  21.768699645996094  0.008603000082075596   -20.57543079  0.02283499948680401    55908.0916217  35667969     0             196608        108625          21.830799102783203  0.0713450014591217     10          21.659799575805664  0.0486689992249012     266.66585621  0.02430270053446293    2523156715566901329  4250274          19.00790023803711   0.002124000107869506    -20.57546097  0.003449779935181141    55818.7033292  35667969     0             196608        108625          19.15850067138672   0.010107999667525291   11          470943164085447  19.14150047302246   0.0075889998115599155  266.66587462  0.003579129930585623   2523156752879429713  4250413          7.27636733896042  nan                     nan                     nan                10                      0.34696701169013977     83302666659169826  -20.57545101  266.66585536  nan                 nan                 nan                    nan                    nan                   148.963850993624     14.6125615094144           10.194199562072754              19.918699264526367  8                3.3358099460601807          190.027138387882    1.23560587590516          153.79299926757812             19.991300582885742  88              0                 484.930680196634     35.6400629300886           13.606300354003906              18.047700881958008  10               b'NOT_AVAILABLE'      nan                nan                 nan                 nan                 nan                   -9999          1                   3                    858             266.665821291912  0.9927380084991455     6.46261669059682    nan                   nan                   nan                   nan                nan                      nan                        nan                        nan                 235873768       0.0834023711117007  19.947099685668945  0.0040270001627504826  -20.57545101  0.008443489670753479   2015.5       55975.103305   35651585     0             196608        108625          20.11709976196289   0.0302910003811121     4           19.80769920349121   0.019032999873161316   266.66585536  0.008955449797213078   2523154722165205073  4242848          0                 nan                 nan                 nan                 82           1635721458409799680  4118937687778627712  0           nan                      nan                      nan               2         1078410000024871  6                          18.434200286865234  0.001914000022225082    -20.575444    0.007065500132739544   55975.9396388  35667969     0             196608        108625          18.550399780273438  0.02731899917125702    10          18.380699157714844  0.01753699965775013    266.66586102  0.0076743001118302345   2523163610063153233  4275958          18.58839988708496   0.0018690000288188457  -20.57547422  0.004300250206142664    55732.2757613  35667969     0             196608        108625          18.589799880981445  0.013944000005722046    13          18.625              0.009116999804973602   266.66586324  0.004476259928196669    2523157498861561937  4253192\n",
       "199,999,999  nan                     nan                     nan                 64.59919738769531      2.50804906689535            0.956115102864442               1.212630033493042     7                                   1                           57                           0                       58                      3                            False                       nan                          nan                                208.88999938964844         0.022828800603747368     4.13612837572492  1                nan                   nan                 -20.5749799480448  6.87520753903163    nan                    nan                  nan                    b'Gaia DR2 41189376877'  2.86190306086189e-05  False                109650         nan                             nan                             nan                 1.2516000270843506   2.82813596882546   266.874782043989  -9999          0                            nan                 nan                 0.02843499928712845    -20.57494857  0.07210200279951096    55908.0916217  35651585     4             196608        143385          nan                 nan                    10          22.94529914855957   0.153672993183136      266.66568739  0.0767361968755722     2523156715566936089  4250274          20.21820068359375   0.0037090000696480274   -20.5749535   0.006969620008021593    55818.7033292  35651585     4             196608        143385          nan                 nan                    11          470943164085348  19.97570037841797   0.015332999639213085   266.66568272  0.007230950053781271   2523156752879464473  4250413          7.2766744992982   nan                     nan                     nan                7                       0.37728801369667053     83312666656880423  -20.57495247  266.66568213  nan                 nan                 nan                    nan                    nan                   nan                  nan                        nan                             nan                 0                nan                         101.017749677568    1.46413708726172          68.99469757080078              20.677400588989258  58              2                 nan                  nan                        nan                             nan                 0                b'NOT_AVAILABLE'      nan                nan                 nan                 nan                 nan                   -9999          1                   3                    858             266.665673584539  0.9405339956283569     7.36423001961088    nan                   nan                   nan                   nan                nan                      nan                        nan                        nan                 1060673285      0.456531709485251   23.910499572753906  0.024985000491142273   -20.57495247  0.03246200084686279    2015.5       55975.103305   35651585     4             196608        143385          nan                 nan                    3           21.200300216674805  0.07317399978637695    266.66568213  0.03443029895424843    2523154722165239833  4242848          0                 nan                 nan                 nan                 82           1635721458409799680  4118937687796558848  0           nan                      nan                      nan               2         1078410000024829  5                          nan                 0.00851299986243248     -20.5749416   0.016036000102758408   55975.9396388  35667969     0             196608        143385          nan                 nan                    10          19.297399520874023  0.03980100154876709    266.66568458  0.017417799681425095    2523163610063187993  4275958          20.581499099731445  0.004681000020354986   -20.57495226  0.008703690022230148    55732.2757613  35651585     4             196608        143385          nan                 nan                     14          19.566200256347656  0.018453000113368034   266.66567884  0.009059919975697994    2523157498861596697  4253192"
      ]
     },
     "execution_count": 5,
     "metadata": {},
     "output_type": "execute_result"
    }
   ],
   "source": [
    "df"
   ]
  },
  {
   "cell_type": "code",
   "execution_count": 6,
   "metadata": {},
   "outputs": [],
   "source": [
    "\n",
    "sky_x = df.ra\n",
    "sky_y = df.dec\n",
    "limits_sky_x = [0, 360]\n",
    "limits_sky_y = [-90, 90]\n",
    "\n",
    "color = df.phot_bp_mean_mag - df.phot_g_mean_mag\n",
    "df['distance'] = 1/df.parallax\n",
    "df['M_g'] = df.phot_g_mean_mag - 5 * np.log10(df.distance) - 10\n",
    "magnitude = df.M_g\n",
    "limits_color = [-0.5, 1.5]\n",
    "limit_magnitude = [22, -10]\n",
    "\n",
    "aux = df.phot_g_mean_mag\n",
    "limits_aux = [5, 23]\n",
    "shape_aux = 100"
   ]
  },
  {
   "cell_type": "code",
   "execution_count": 7,
   "metadata": {},
   "outputs": [],
   "source": [
    "# TODO: vaex cannot work with 'empty' selection, make selection that use all the data\n",
    "df.select(df.phot_g_mean_mag > 10, name='visual')\n",
    "df.select(default_custom_selection, name='custom')\n",
    "df.select(df.ra > -1000, name='sky')\n",
    "df.select('visual & custom & sky')\n",
    "\n",
    "# since the default selection depepends on this, and vaex does not\n",
    "# track the dependencies, we have to update the default selection manually\n",
    "@df.signal_selection_changed.connect\n",
    "def update_default_selection(df, selection_name):\n",
    "    if selection_name in 'visual custom sky'.split():\n",
    "        df.select('visual & custom & sky')\n"
   ]
  },
  {
   "cell_type": "code",
   "execution_count": 8,
   "metadata": {},
   "outputs": [
    {
     "data": {
      "application/vnd.jupyter.widget-view+json": {
       "model_id": "54291aa895c740b39a82a042b30f25da",
       "version_major": 2,
       "version_minor": 0
      },
      "text/plain": [
       "AnimatedCounter(characters=['&nbsp;', '&nbsp;', '&nbsp;', '&nbsp;', '3', '4', ',', '7', '7', '7', ',', '0', '1…"
      ]
     },
     "metadata": {},
     "output_type": "display_data"
    }
   ],
   "source": [
    "counter_selection = vw.AnimatedCounter(value=1234567, postfix=f' {topic} selected')\n",
    "counter_selection.value = df.count(selection=True).item()\n",
    "counter_selection"
   ]
  },
  {
   "cell_type": "code",
   "execution_count": 9,
   "metadata": {},
   "outputs": [
    {
     "data": {
      "text/plain": [
       "array([[       0,        0,        0,        0,        0,        0,\n",
       "               0,        0,        0,        0,        0,        0,\n",
       "               0,        0,        0,        0,        0,        0,\n",
       "               0,        0,        0,        0,        0,        0,\n",
       "               0,        0,        0,     3679,    18176,    21051,\n",
       "           24615,    29183,    33986,    39477,    45367,    52544,\n",
       "           60383,    70075,    80784,    93063,   106644,   122489,\n",
       "          140540,   160658,   182886,   212868,   242247,   275035,\n",
       "          312232,   351910,   396612,   446737,   501199,   559784,\n",
       "          626743,   694792,   767500,   850557,   938161,  1037426,\n",
       "         1126665,  1208626,  1294325,  1366736,  1421122,  1454579,\n",
       "         1459410,  1444085,  1401567,  1341516,  1273030,  1202175,\n",
       "         1122732,  1049196,   981884,   917166,   852263,   782203,\n",
       "          689742,   608730,   535436,   461570,   389001,   311729,\n",
       "          237836,   178923,   109783,    45195,    10384,        0,\n",
       "               0,        0,        0,        0,        0,        0,\n",
       "               0,        0,        0,        0],\n",
       "       [     112,      141,      144,      191,      275,      333,\n",
       "             413,      483,      582,      696,      871,     1053,\n",
       "            1224,     1479,     1689,     2163,     2579,     3035,\n",
       "            3565,     4242,     5014,     5862,     7147,     8164,\n",
       "            9771,    11330,    13468,    15957,    18665,    21670,\n",
       "           25345,    30117,    35114,    40956,    47144,    54678,\n",
       "           62808,    72845,    84215,    97355,   111921,   129077,\n",
       "          148761,   170740,   194022,   224931,   256827,   292977,\n",
       "          334907,   380278,   432907,   492259,   558297,   632403,\n",
       "          717934,   808929,   909238,  1027352,  1156251,  1309015,\n",
       "         1458365,  1617724,  1808259,  2017499,  2250616,  2509537,\n",
       "         2783524,  3079343,  3379608,  3684756,  4008786,  4360105,\n",
       "         4730640,  5154736,  5622941,  6142902,  6719678,  7332748,\n",
       "         7946242,  8659888,  9410041, 10186934, 10995503, 11693658,\n",
       "        12185042, 12484755, 12300823, 11180907,  8230409,  4027529,\n",
       "          970441,    77553,     4180,     1099,      456,      251,\n",
       "             116,       42,       32,       17]])"
      ]
     },
     "execution_count": 9,
     "metadata": {},
     "output_type": "execute_result"
    }
   ],
   "source": [
    "counts_aux = df.count(aux, binby=aux, limits=limits_aux, shape=shape_aux, selection=[True, None])\n",
    "counts_aux"
   ]
  },
  {
   "cell_type": "code",
   "execution_count": 10,
   "metadata": {},
   "outputs": [
    {
     "data": {
      "text/plain": [
       "array([ 5.09,  5.27,  5.45,  5.63,  5.81,  5.99,  6.17,  6.35,  6.53,\n",
       "        6.71,  6.89,  7.07,  7.25,  7.43,  7.61,  7.79,  7.97,  8.15,\n",
       "        8.33,  8.51,  8.69,  8.87,  9.05,  9.23,  9.41,  9.59,  9.77,\n",
       "        9.95, 10.13, 10.31, 10.49, 10.67, 10.85, 11.03, 11.21, 11.39,\n",
       "       11.57, 11.75, 11.93, 12.11, 12.29, 12.47, 12.65, 12.83, 13.01,\n",
       "       13.19, 13.37, 13.55, 13.73, 13.91, 14.09, 14.27, 14.45, 14.63,\n",
       "       14.81, 14.99, 15.17, 15.35, 15.53, 15.71, 15.89, 16.07, 16.25,\n",
       "       16.43, 16.61, 16.79, 16.97, 17.15, 17.33, 17.51, 17.69, 17.87,\n",
       "       18.05, 18.23, 18.41, 18.59, 18.77, 18.95, 19.13, 19.31, 19.49,\n",
       "       19.67, 19.85, 20.03, 20.21, 20.39, 20.57, 20.75, 20.93, 21.11,\n",
       "       21.29, 21.47, 21.65, 21.83, 22.01, 22.19, 22.37, 22.55, 22.73,\n",
       "       22.91])"
      ]
     },
     "execution_count": 10,
     "metadata": {},
     "output_type": "execute_result"
    }
   ],
   "source": [
    "df.bin_centers(aux, limits_aux, shape_aux)"
   ]
  },
  {
   "cell_type": "code",
   "execution_count": 11,
   "metadata": {
    "scrolled": false
   },
   "outputs": [
    {
     "data": {
      "application/vnd.jupyter.widget-view+json": {
       "model_id": "b14d32719d1c4da19f8bdbf3f1cd6e37",
       "version_major": 2,
       "version_minor": 0
      },
      "text/plain": [
       "Figure(axes=[Axis(color='#666', grid_color='#666', grid_lines='none', label='phot_g_mean_mag', label_color='#6…"
      ]
     },
     "metadata": {},
     "output_type": "display_data"
    }
   ],
   "source": [
    "import bqplot.pyplot as plt\n",
    "fig1d = plt.figure()\n",
    "fig1d.fig_margin = {'bottom': 35, 'left': 60, 'right': 5, 'top': 5}\n",
    "bar = plt.bar(df.bin_centers(aux, limits_aux, shape_aux), counts_aux, type='grouped', colors = [colors['warning'], colors['accent']])\n",
    "bar.scales['y'].allow_padding = False\n",
    "\n",
    "fig1d.axes[0].label_offset = '30px'\n",
    "fig1d.axes[0].label = str(aux)\n",
    "fig1d.axes[1].label_offset = '50px'\n",
    "fig1d.axes[1].label = 'counts'\n",
    "\n",
    "fig1d.axes[0].color = \\\n",
    "fig1d.axes[1].color = \\\n",
    "fig1d.axes[0].label_color = \\\n",
    "fig1d.axes[1].label_color = \\\n",
    "fig1d.axes[0].grid_color = \\\n",
    "fig1d.axes[1].grid_color = '#666'\n",
    "\n",
    "# even handling\n",
    "for axes in fig1d.axes:\n",
    "    axes.grid_lines = 'none'\n",
    "selector = plt.brush_int_selector()\n",
    "# plt.show()\n",
    "fig1d"
   ]
  },
  {
   "cell_type": "code",
   "execution_count": 12,
   "metadata": {},
   "outputs": [],
   "source": [
    "# listen to the selector, and modify the selections\n",
    "def update_selection_visual(*ignore):\n",
    "    if selector.selected is not None and len(selector.selected) == 2:\n",
    "        xmin, xmax = selector.selected\n",
    "        df.select((aux > xmin) & (aux < xmax), name='visual')\n",
    "selector.observe(update_selection_visual, 'selected')"
   ]
  },
  {
   "cell_type": "code",
   "execution_count": 13,
   "metadata": {},
   "outputs": [
    {
     "data": {
      "application/vnd.jupyter.widget-view+json": {
       "model_id": "b01aca1b8d1949bf9e3c2f80e35c00c7",
       "version_major": 2,
       "version_minor": 0
      },
      "text/plain": [
       "AnimatedCounter(characters=['&nbsp;', '&nbsp;', '&nbsp;', '2', '0', '0', ',', '0', '0', '0', ',', '0', '0', '0…"
      ]
     },
     "metadata": {},
     "output_type": "display_data"
    }
   ],
   "source": [
    "counter_processed = vw.AnimatedCounter(value=1234567, postfix=f' {topic} processed')\n",
    "counter_processed.value = len(df)\n",
    "counter_processed"
   ]
  },
  {
   "cell_type": "code",
   "execution_count": 14,
   "metadata": {},
   "outputs": [
    {
     "data": {
      "application/vnd.jupyter.widget-view+json": {
       "model_id": "9697ea776e844c2eb366b23879329cea",
       "version_major": 2,
       "version_minor": 0
      },
      "text/plain": [
       "Layout(align_center=True, children=[ProgressCircularNoAnimation(color='#82B1FF', size=70, text='', width=10), …"
      ]
     },
     "metadata": {},
     "output_type": "display_data"
    }
   ],
   "source": [
    "progress_circular = vw.ProgressCircularNoAnimation(width=10, size=70, color=colors['accent'], text='')\n",
    "\n",
    "import time\n",
    "last_time = time.time()\n",
    "@df.executor.signal_begin.connect\n",
    "def progress_begin():\n",
    "    progress_circular.hidden = False\n",
    "@df.executor.signal_progress.connect\n",
    "def update_progress(value):\n",
    "    global last_time\n",
    "    progress_circular.value = value*100\n",
    "    number = int(value * len(df))\n",
    "    current_time = time.time()\n",
    "    if (current_time - last_time) > 0.2 or value in [0, 1]:\n",
    "        counter_processed.value = number\n",
    "        last_time = current_time\n",
    "    return True\n",
    "@df.executor.signal_end.connect\n",
    "def progress_update():\n",
    "    progress_circular.hidden = True\n",
    "    \n",
    "\n",
    "progress = v.Layout(children=[progress_circular, counter_processed], align_center=True)\n",
    "progress"
   ]
  },
  {
   "cell_type": "code",
   "execution_count": 15,
   "metadata": {},
   "outputs": [],
   "source": [
    "progress_circular.hidden = True"
   ]
  },
  {
   "cell_type": "code",
   "execution_count": 16,
   "metadata": {},
   "outputs": [],
   "source": [
    "# maybe we should put this in vaex-core?\n",
    "@vaex.jupyter.debounced(0.05)\n",
    "def _execute():\n",
    "    df.execute()\n",
    "\n",
    "output = widgets.Output()\n",
    "\n",
    "# this will be called when a selection changes\n",
    "@df.signal_selection_changed.connect\n",
    "@vaex.jupyter.debounced(0.5)\n",
    "def _update_plot1d(df, selection_name):\n",
    "    if selection_name == 'default':\n",
    "        with output:\n",
    "            @vaex.delayed\n",
    "            def do(grid1d, count):\n",
    "                with output:\n",
    "                    bar.y = grid1d\n",
    "                    counter_selection.value = count.item()\n",
    "            counts_aux = df.count(aux, binby=aux, limits=limits_aux, shape=shape_aux, selection=[True, None], delay=True)\n",
    "            do(counts_aux, df.count(selection=True, delay=True))\n",
    "            _execute()"
   ]
  },
  {
   "cell_type": "code",
   "execution_count": 17,
   "metadata": {},
   "outputs": [
    {
     "data": {
      "application/vnd.jupyter.widget-view+json": {
       "model_id": "80b6e5a740ec4282bef5588a6b6fad90",
       "version_major": 2,
       "version_minor": 0
      },
      "text/plain": [
       "Output()"
      ]
     },
     "metadata": {},
     "output_type": "display_data"
    }
   ],
   "source": [
    "output"
   ]
  },
  {
   "cell_type": "code",
   "execution_count": 18,
   "metadata": {
    "scrolled": false
   },
   "outputs": [
    {
     "data": {
      "application/vnd.jupyter.widget-view+json": {
       "model_id": "ccdc6fdcda664bbb9a112b06f42dc812",
       "version_major": 2,
       "version_minor": 0
      },
      "text/plain": [
       "PlotTemplate(components={'main-widget': VBox(children=(VBox(children=(Figure(axes=[Axis(color='#666', grid_col…"
      ]
     },
     "metadata": {},
     "output_type": "display_data"
    }
   ],
   "source": [
    "plot_sky = df.plot_widget(sky_x, sky_y, f='log', selection=[False, 'sky'], limits=[limits_sky_x, limits_sky_y], selection_callback=update_default_selection)\n",
    "plot_sky.widget.title = f'All {topic}'\n",
    "c = plot_sky.widget.components['main-widget']\n",
    "c.layout.padding = '60px 0px 0px 0px'"
   ]
  },
  {
   "cell_type": "code",
   "execution_count": 19,
   "metadata": {},
   "outputs": [
    {
     "data": {
      "application/vnd.jupyter.widget-view+json": {
       "model_id": "8039ff279ffc49d0b4bec38e615bb5a8",
       "version_major": 2,
       "version_minor": 0
      },
      "text/plain": [
       "PlotTemplate(components={'main-widget': VBox(children=(VBox(children=(Figure(axes=[Axis(color='#666', grid_col…"
      ]
     },
     "metadata": {},
     "output_type": "display_data"
    }
   ],
   "source": [
    "plot_hrd = df.plot_widget(color, magnitude, f='log', selection=True, limits=[limits_color, limit_magnitude])\n",
    "plot_hrd.widget.title = f'Selected {topic}'\n",
    "c = plot_hrd.widget.components['main-widget']\n",
    "c.layout.padding = '60px 0px 0px 0px'"
   ]
  },
  {
   "cell_type": "code",
   "execution_count": 20,
   "metadata": {},
   "outputs": [],
   "source": [
    "for fig in [fig1d, plot_sky.backend.figure, plot_hrd.backend.figure]:\n",
    "    fig.layout.width = 'auto'\n",
    "    fig.layout.width = 'auto'\n",
    "    fig.layout.height = 'auto'\n",
    "    fig.layout.min_height = '300px' # so it still shows nicely in the notebook\n",
    "    fig.layout.min_width = 'auto'\n",
    "    fig.layout.min_width = 'auto'"
   ]
  },
  {
   "cell_type": "code",
   "execution_count": 21,
   "metadata": {},
   "outputs": [
    {
     "data": {
      "application/vnd.jupyter.widget-view+json": {
       "model_id": "121313fd62ba4f908230535c27ffbc50",
       "version_major": 2,
       "version_minor": 0
      },
      "text/plain": [
       "ExpressionTextArea(label='Custom expression', placeholder='Enter a custom expression', prepend_icon='functions…"
      ]
     },
     "metadata": {},
     "output_type": "display_data"
    }
   ],
   "source": [
    "expression_area = vw.ExpressionTextArea(df=df)\n",
    "expression_area"
   ]
  },
  {
   "cell_type": "code",
   "execution_count": 22,
   "metadata": {},
   "outputs": [
    {
     "data": {
      "application/vnd.jupyter.widget-view+json": {
       "model_id": "b9e5034666b3493d8417962067940d92",
       "version_major": 2,
       "version_minor": 0
      },
      "text/plain": [
       "ExpressionSelectionTextArea(label='Filter by custom expression', placeholder='Enter a custom (boolean) express…"
      ]
     },
     "metadata": {},
     "output_type": "display_data"
    }
   ],
   "source": [
    "widget_selection_text_area = vw.ExpressionSelectionTextArea(df=df, selection_name='custom', v_model=default_custom_selection)\n",
    "widget_selection_text_area"
   ]
  },
  {
   "cell_type": "code",
   "execution_count": 23,
   "metadata": {},
   "outputs": [
    {
     "data": {
      "application/vnd.jupyter.widget-view+json": {
       "model_id": "76152b745d3c4241b99728b842518722",
       "version_major": 2,
       "version_minor": 0
      },
      "text/plain": [
       "SelectionEditor(components={'component-input': ExpressionSelectionTextArea(label='Filter by custom expression'…"
      ]
     },
     "metadata": {},
     "output_type": "display_data"
    }
   ],
   "source": [
    "widget_selection = vw.SelectionEditor(df=df, input=widget_selection_text_area)\n",
    "widget_selection"
   ]
  },
  {
   "cell_type": "code",
   "execution_count": 24,
   "metadata": {},
   "outputs": [
    {
     "data": {
      "application/vnd.jupyter.widget-view+json": {
       "model_id": "552c7922e4a74c2d887f0d4c29d92dbb",
       "version_major": 2,
       "version_minor": 0
      },
      "text/plain": [
       "VirtualColumnEditor(components={'editor': ExpressionTextArea(label='Custom expression', placeholder='Enter a c…"
      ]
     },
     "metadata": {},
     "output_type": "display_data"
    }
   ],
   "source": [
    "editor = vw.VirtualColumnEditor(df=df)\n",
    "editor"
   ]
  },
  {
   "cell_type": "code",
   "execution_count": 25,
   "metadata": {
    "scrolled": true
   },
   "outputs": [
    {
     "data": {
      "application/vnd.jupyter.widget-view+json": {
       "model_id": "98c1a1c9df7e4072a98bbd2ba137e2a8",
       "version_major": 2,
       "version_minor": 0
      },
      "text/plain": [
       "ColumnList(columns=[{'name': 'a_g_percentile_lower', 'dtype': 'float', 'virtual': False}, {'name': 'a_g_percen…"
      ]
     },
     "metadata": {},
     "output_type": "display_data"
    }
   ],
   "source": [
    "column_list = vw.ColumnList(df=df)\n",
    "column_list"
   ]
  },
  {
   "cell_type": "code",
   "execution_count": 26,
   "metadata": {},
   "outputs": [
    {
     "data": {
      "application/vnd.jupyter.widget-view+json": {
       "model_id": "50cf3b7baf804b669d73a9da51d63928",
       "version_major": 2,
       "version_minor": 0
      },
      "text/plain": [
       "Html(children=[Action(events=['action'], items=[{'value': 'pan/zoom', 'icon': 'pan_tool', 'tooltip': 'Pan & zo…"
      ]
     },
     "metadata": {},
     "output_type": "display_data"
    }
   ],
   "source": [
    "import traitlets\n",
    "class Action(v.VuetifyTemplate):\n",
    "    value = traitlets.Bool(False).tag(sync=True)\n",
    "    backend = traitlets.Any()\n",
    "    items = traitlets.Any().tag(sync=True)\n",
    "    @traitlets.default('template')\n",
    "    def _template(self):\n",
    "        return \"\"\"\n",
    "        <v-speed-dial\n",
    "        style=\"bottom: 80px\"\n",
    "        absolute\n",
    "      v-model=\"value\"\n",
    "      bottom\n",
    "      right\n",
    "      direction=\"top\"\n",
    "      transition=\"slide-y-reverse-transition\"\n",
    "    >\n",
    "      <template v-slot:activator>\n",
    "        <v-btn\n",
    "          v-model=\"value\"\n",
    "          small\n",
    "          fab\n",
    "        >\n",
    "          <v-icon v-if=\"value\">expand_more</v-icon>\n",
    "          <v-icon v-else>more_vert</v-icon>\n",
    "        </v-btn>\n",
    "      </template>\n",
    "      <v-tooltip v-for=\"item in items\" left>\n",
    "          <template v-slot:activator=\"tooltip\">\n",
    "              <v-btn fab small v-on=\"tooltip.on\" @click=\"action(item)\">\n",
    "                <v-icon small>{{ item.icon }}</v-icon>\n",
    "              </v-btn>\n",
    "          </template>\n",
    "          {{ item.tooltip }}\n",
    "      </v-tooltip>\n",
    "    </v-speed-dial>\n",
    "    \"\"\"\n",
    "    def vue_action(self, data):\n",
    "        print(data)\n",
    "        name = data['value']\n",
    "        self.backend.figure.interaction = self.backend.tool_actions_map[name]\n",
    "items = [\n",
    "    {'value': 'pan/zoom', 'icon': 'pan_tool', 'tooltip': \"Pan & zoom\"},\n",
    "    {'value': 'select', 'icon':'crop_free', 'tooltip': \"Square selection\"}, \n",
    "]\n",
    "action = Action(items=items, backend=plot_sky.backend)\n",
    "v.Html(tag='div', pa_10=True, style_='width: 400px; height: 400px; position: relative', children=[action])"
   ]
  },
  {
   "cell_type": "code",
   "execution_count": 27,
   "metadata": {},
   "outputs": [],
   "source": [
    "url1 = \"http://www.stsci.edu/modules/stsci-www-assets/assets/img/event-1.jpg?t=tn768\"\n",
    "url2 = \"http://www.stsci.edu/modules/stsci-www-assets/assets/img/event-2.jpg?t=tn768\"\n",
    "url1 = url2\n",
    "gradient=\"\"\"gradient=\"to bottom, rgba(255,255,255,.4), rgba(255,255,255,.7)\" \"\"\"\n",
    "gradient=\"\"\"gradient=\"to bottom, rgba(0,0,0,.4), rgba(0,0,0,.7)\" \"\"\""
   ]
  },
  {
   "cell_type": "code",
   "execution_count": 28,
   "metadata": {
    "scrolled": false
   },
   "outputs": [
    {
     "data": {
      "application/vnd.jupyter.widget-view+json": {
       "model_id": "f74648811e14442a8a1a900de881cd9a",
       "version_major": 2,
       "version_minor": 0
      },
      "text/plain": [
       "MainContent(components={'sky': Html(children=[VBox(children=(Figure(axes=[Axis(color='#666', grid_color='#666'…"
      ]
     },
     "metadata": {},
     "output_type": "display_data"
    }
   ],
   "source": [
    "class MainContent(v.VuetifyTemplate):\n",
    "    loading = traitlets.Bool(False).tag(sync=True)\n",
    "    @traitlets.default('template')\n",
    "    def _template(self):\n",
    "        return f\"\"\"\n",
    "    <v-container class=\"grey lighten-5\">\n",
    "        <v-row justify=\"center\">\n",
    "            <v-col xs=\"12\" lg=\"6\" xl=\"4\">\n",
    "                <v-card style=\"height: 100%\" :loading=\"loading\"\n",
    "                    class=\"mx-auto\"\n",
    "                  >\n",
    "                    <v-img src=\"{url1}\" class=\"white--text\" height=\"65px\" {gradient}>\n",
    "                        <v-card-title style=\"padding-left: 50px;\">Overview</v-card-title>\n",
    "                    </v-img>\n",
    "                    <v-card-text  style=\"padding-left: 50px\" class=\"\">\n",
    "                        This <a href=\"https://github.com/QuantStack/voila\">voila</a> dashboard\n",
    "                        show the <a href=\"https://gea.esac.esa.int/archive/\">Gaia</a> dataset, crossmatched\n",
    "                        with the <a href=\"https://panstarrs.stsci.edu/\">Pan-STARRS</a> dataset. You are looking at:\n",
    "                        <p>\n",
    "                            <ul>\n",
    "                                <li>{len(df):,} stars.\n",
    "                                <li><counter/>\n",
    "                                <li><counter_selection/>\n",
    "                            </ul>\n",
    "                        </p>\n",
    "                        <p>\n",
    "                            The visualizations are calculated on the fly using <a href=\"https://github.com/vaexio/vaex/\">vaex</a>\n",
    "                            to process the nearly 1 billion stars interactively.\n",
    "                        </p>\n",
    "                        <p>\n",
    "                            The visualizations on the rights and bottom can be used for filter the data visually.\n",
    "                            Apart from a visual selection, this following expression is included for filtering as well.\n",
    "                        </p>\n",
    "                            <filter-editor/>\n",
    "                        \n",
    "                        \n",
    "                    </v-card-text>\n",
    "                </v-card>\n",
    "            </v-col>\n",
    "            <v-col xs=\"12\" lg=\"6\" xl=\"4\"\">\n",
    "                <v-card  :loading=\"loading\" style=\"height: 100%\" \n",
    "                    class=\"mx-auto\"\n",
    "                  >\n",
    "                    <v-img src=\"{url1}\" class=\"white--text\" height=\"65px\" {gradient}>\n",
    "                        <v-card-title style=\"padding-left: 50px;\">Sky view</v-card-title>\n",
    "                    </v-img>\n",
    "                    <v-card-text  style=\"padding-left: 50px\">Navigate the sky or select a region of the sky to filter the HR diagram.</v-card-text>\n",
    "                    <sky/>\n",
    "                </v-card>\n",
    "            </v-col>\n",
    "            <v-col xs=\"12\" lg=\"6\" xl=\"4\">\n",
    "                <v-card  style=\"height: 100%\"  :loading=\"loading\"\n",
    "                    class=\"mx-auto\"\n",
    "                  >\n",
    "                    <v-img src=\"{url1}\" class=\"white--text\" height=\"65px\" {gradient}>\n",
    "                        <v-card-title style=\"padding-left: 50px;\">Magnitude distribution</v-card-title>\n",
    "                    </v-img>\n",
    "                    <v-card-text  style=\"padding-left: 50px\">Histogram of the Gaia G manitudes. Select a region to filter the HR diagram.</v-card-text>\n",
    "                    <g-mag/>\n",
    "                </v-card>\n",
    "            </v-col>\n",
    "            <v-col xs=\"12\" lg=\"6\" xl=\"4\">\n",
    "                <v-card  :loading=\"loading\"\n",
    "                    class=\"mx-auto\"\n",
    "                  >\n",
    "                    <v-img src=\"{url1}\" class=\"white--text\" height=\"65px\"{gradient}>\n",
    "                        <v-card-title style=\"padding-left: 50px;\">HR diagram</v-card-title>\n",
    "                    </v-img>\n",
    "                    <v-card-text  style=\"padding-left: 50px\">\n",
    "                        Shows a Hertzsprung Russell diagram of the sky selection, the magnitude selection and the custom\n",
    "                        filter combined.\n",
    "                    </v-card-text>\n",
    "                    <hr-diagram/>\n",
    "                </v-card>\n",
    "            </v-col>\n",
    "        </v-row>\n",
    "    </v-container>\n",
    "\"\"\"\n",
    "    \n",
    "widget_main = MainContent(components={\n",
    "    'sky': v.Html(tag='div', style_='position: relative', children=[plot_sky.backend.widget, action]),\n",
    "    'hr-diagram': widgets.VBox([plot_hrd.backend.widget]),\n",
    "    'g-mag': fig1d,\n",
    "    'counter': counter_processed,\n",
    "    'counter_selection': counter_selection,\n",
    "    'filter-editor': widget_selection\n",
    "})\n",
    "widget_main"
   ]
  },
  {
   "cell_type": "code",
   "execution_count": 29,
   "metadata": {},
   "outputs": [],
   "source": [
    "@df.executor.signal_begin.connect\n",
    "def progress_begin():\n",
    "    widget_main.loading = True\n",
    "@df.executor.signal_end.connect\n",
    "def progress_update():\n",
    "    widget_main.loading = False\n"
   ]
  },
  {
   "cell_type": "code",
   "execution_count": 30,
   "metadata": {},
   "outputs": [
    {
     "data": {
      "application/vnd.jupyter.widget-view+json": {
       "model_id": "41bad08591e24d02af041527a626bf58",
       "version_major": 2,
       "version_minor": 0
      },
      "text/plain": [
       "Main(components={'content-main': MainContent(components={'sky': Html(children=[VBox(children=(Figure(axes=[Axi…"
      ]
     },
     "metadata": {},
     "output_type": "display_data"
    }
   ],
   "source": [
    "import traitlets\n",
    "class Main(v.VuetifyTemplate):\n",
    "    previous = traitlets.List(traitlets.Unicode()).tag(sync=True)\n",
    "    current = traitlets.List(traitlets.Unicode()).tag(sync=True)\n",
    "    firsts = traitlets.List(traitlets.Bool(True)).tag(sync=True)\n",
    "    value = traitlets.Integer()\n",
    "    format = traitlets.Unicode('{: 14,d}')\n",
    "    postfix = traitlets.Unicode('').tag(sync=True)\n",
    "    title = traitlets.Unicode('Vaex').tag(sync=True)\n",
    "    components = traitlets.Dict(None, allow_none=True).tag(sync=True, **widgets.widget.widget_serialization)\n",
    "    items = traitlets.List().tag(sync=True)\n",
    "    showNavBar = traitlets.Bool(False).tag(sync=True)\n",
    "    \n",
    "    @traitlets.observe('value')\n",
    "    def _value(self, change):\n",
    "        text = self.format.format(self.value)\n",
    "        self.previous = self.current\n",
    "        self.current = [k.replace(' ', '&nbsp;') for k in text]\n",
    "        if self.previous is None:\n",
    "            self.current = self.previous\n",
    "\n",
    "    template = traitlets.Unicode(f'''\n",
    "        <v-layout>\n",
    "            <v-navigation-drawer v-model=\"showNavBar\" absolute app temporary style=\"width: 400px\">\n",
    "                \n",
    "                <content-nav/>\n",
    "            </v-navigation-drawer>\n",
    "            <v-app-bar app absolute>\n",
    "                <v-app-bar-nav-icon\n",
    "                        @click.stop=\"showNavBar = !showNavBar\"\n",
    "                ></v-app-bar-nav-icon>\n",
    "                <v-toolbar-title>\n",
    "                    <h2 style=\"color: #666\">\n",
    "                    <img style=\"height: 30px\" src=\"https://vaex.io/img/logos/logo.svg\"></img>\n",
    "                    Gaia Discovery Engine with <a href=\"https://github.com/vaexio/vaex/\">vaex</a> - 1 billion stars\n",
    "                    </h2>\n",
    "                </v-toolbar-title>\n",
    "                <div class=\"flex-grow-1\"></div>\n",
    "                <progress_circular/>\n",
    "            </v-app-bar>\n",
    "\n",
    "            <v-content>\n",
    "                <content-main/>\n",
    "            </v-content>\n",
    "        </v-layout>\n",
    "      ''').tag(sync=True)\n",
    "\n",
    "main = Main(items=[{'title': 'Bla'}],\n",
    "           components={\n",
    "               'content-main': widget_main,\n",
    "               'content-nav': column_list,\n",
    "               'content-progress': progress,\n",
    "               'content-filter': widget_selection,\n",
    "               'progress_circular': progress_circular\n",
    "           })\n",
    "main"
   ]
  },
  {
   "cell_type": "code",
   "execution_count": 31,
   "metadata": {},
   "outputs": [],
   "source": [
    "v.Layout( _metadata={'mount_id': 'content'}, children=[main]);"
   ]
  },
  {
   "cell_type": "code",
   "execution_count": 32,
   "metadata": {},
   "outputs": [
    {
     "data": {
      "application/vnd.jupyter.widget-view+json": {
       "model_id": "f1f8b393a4f649d0abae53e4203c6906",
       "version_major": 2,
       "version_minor": 0
      },
      "text/plain": [
       "ProgressCircularNoAnimation(color='#82B1FF', hidden=True, size=70, text='', width=10)"
      ]
     },
     "metadata": {},
     "output_type": "display_data"
    }
   ],
   "source": [
    "progress_circular"
   ]
  },
  {
   "cell_type": "code",
   "execution_count": 33,
   "metadata": {},
   "outputs": [],
   "source": [
    "# plot_hrd.progress.layout.visibility = 'visible'\n",
    "# plot_sky.progress.layout.visibility = 'visible'"
   ]
  },
  {
   "cell_type": "code",
   "execution_count": 34,
   "metadata": {},
   "outputs": [],
   "source": [
    "# plot2d_selection.progress.style.bar_color = colors['accent']\n",
    "# plot2d_selection.progress.style.bar_color = colors['accent']"
   ]
  },
  {
   "cell_type": "code",
   "execution_count": 35,
   "metadata": {},
   "outputs": [],
   "source": [
    "# plot2d_selection.progress.value = 0.3"
   ]
  },
  {
   "cell_type": "code",
   "execution_count": 36,
   "metadata": {},
   "outputs": [],
   "source": [
    "# plot2d_selection.backend.figure.title = 'HR diagram'"
   ]
  },
  {
   "cell_type": "code",
   "execution_count": 37,
   "metadata": {},
   "outputs": [],
   "source": [
    "# plot2d_all.backend.figure.title = ''"
   ]
  },
  {
   "cell_type": "code",
   "execution_count": 38,
   "metadata": {},
   "outputs": [],
   "source": [
    "# fig1d.title = 'Magnitude cut'"
   ]
  },
  {
   "cell_type": "code",
   "execution_count": 39,
   "metadata": {},
   "outputs": [],
   "source": [
    "fig1d.background_style = {'fill': 'none'}"
   ]
  },
  {
   "cell_type": "code",
   "execution_count": 40,
   "metadata": {},
   "outputs": [],
   "source": [
    "plot_hrd.backend.figure.background_style = {'fill': 'none'}\n",
    "plot_sky.backend.figure.background_style = {'fill': 'none'}"
   ]
  },
  {
   "cell_type": "code",
   "execution_count": 41,
   "metadata": {},
   "outputs": [],
   "source": [
    "# plot2d_selection.backend.figure.background_style\n",
    "plot_hrd.backend.figure.axes[1].grid_lines = 'none'"
   ]
  },
  {
   "cell_type": "code",
   "execution_count": 42,
   "metadata": {},
   "outputs": [],
   "source": [
    "progress_circular.value = 80"
   ]
  },
  {
   "cell_type": "code",
   "execution_count": 43,
   "metadata": {},
   "outputs": [],
   "source": [
    "progress_circular.size = 30\n",
    "progress_circular.width = 5"
   ]
  },
  {
   "cell_type": "code",
   "execution_count": 44,
   "metadata": {},
   "outputs": [],
   "source": [
    "progress_circular.color = '#666'"
   ]
  },
  {
   "cell_type": "code",
   "execution_count": 45,
   "metadata": {},
   "outputs": [],
   "source": [
    "widget_main.loading = False"
   ]
  },
  {
   "cell_type": "code",
   "execution_count": null,
   "metadata": {},
   "outputs": [],
   "source": []
  }
 ],
 "metadata": {
  "kernelspec": {
   "display_name": "Python 3",
   "language": "python",
   "name": "python3"
  },
  "language_info": {
   "codemirror_mode": {
    "name": "ipython",
    "version": 3
   },
   "file_extension": ".py",
   "mimetype": "text/x-python",
   "name": "python",
   "nbconvert_exporter": "python",
   "pygments_lexer": "ipython3",
   "version": "3.6.7"
  },
  "widgets": {
   "application/vnd.jupyter.widget-state+json": {
    "state": {
     "666cd2ce4c2b41aabcc73e8d5421ad69": {
      "model_module": "@jupyter-widgets/base",
      "model_module_version": "1.2.0",
      "model_name": "LayoutModel",
      "state": {}
     },
     "7dde201d0451445a82e877e67a452b2b": {
      "model_module": "@jupyter-widgets/base",
      "model_module_version": "1.2.0",
      "model_name": "LayoutModel",
      "state": {}
     }
    },
    "version_major": 2,
    "version_minor": 0
   }
  }
 },
 "nbformat": 4,
 "nbformat_minor": 4
}
